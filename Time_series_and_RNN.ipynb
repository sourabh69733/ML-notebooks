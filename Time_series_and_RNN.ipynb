{
  "nbformat": 4,
  "nbformat_minor": 0,
  "metadata": {
    "colab": {
      "name": "Time series and RNN",
      "provenance": [],
      "collapsed_sections": [
        "oestuOumDzPq",
        "Xga8BNXIEuCv",
        "tbuOGMNf7Sni",
        "Kq2QKZ6YuuoP",
        "6uuBidT5rmJq"
      ]
    },
    "kernelspec": {
      "display_name": "Python 3",
      "name": "python3"
    },
    "language_info": {
      "name": "python"
    },
    "widgets": {
      "application/vnd.jupyter.widget-state+json": {
        "627a132a411d4a9daeff276656596d98": {
          "model_module": "@jupyter-widgets/controls",
          "model_name": "HBoxModel",
          "state": {
            "_dom_classes": [],
            "_model_module": "@jupyter-widgets/controls",
            "_model_module_version": "1.5.0",
            "_model_name": "HBoxModel",
            "_view_count": null,
            "_view_module": "@jupyter-widgets/controls",
            "_view_module_version": "1.5.0",
            "_view_name": "HBoxView",
            "box_style": "",
            "children": [
              "IPY_MODEL_098a39e390c94ded8b33b59c57de6441",
              "IPY_MODEL_fc1a88e6182344af878b66d178b4b188"
            ],
            "layout": "IPY_MODEL_97c120bc37be4ecd9e6b47050fd52c2b"
          }
        },
        "098a39e390c94ded8b33b59c57de6441": {
          "model_module": "@jupyter-widgets/controls",
          "model_name": "FloatProgressModel",
          "state": {
            "_dom_classes": [],
            "_model_module": "@jupyter-widgets/controls",
            "_model_module_version": "1.5.0",
            "_model_name": "FloatProgressModel",
            "_view_count": null,
            "_view_module": "@jupyter-widgets/controls",
            "_view_module_version": "1.5.0",
            "_view_name": "ProgressView",
            "bar_style": "success",
            "description": "Dl Completed...: 100%",
            "description_tooltip": null,
            "layout": "IPY_MODEL_a1abb07f70e1404189ae85d945a6d94d",
            "max": 1,
            "min": 0,
            "orientation": "horizontal",
            "style": "IPY_MODEL_49c0b2381e7143d092134698a2d0e46f",
            "value": 1
          }
        },
        "fc1a88e6182344af878b66d178b4b188": {
          "model_module": "@jupyter-widgets/controls",
          "model_name": "HTMLModel",
          "state": {
            "_dom_classes": [],
            "_model_module": "@jupyter-widgets/controls",
            "_model_module_version": "1.5.0",
            "_model_name": "HTMLModel",
            "_view_count": null,
            "_view_module": "@jupyter-widgets/controls",
            "_view_module_version": "1.5.0",
            "_view_name": "HTMLView",
            "description": "",
            "description_tooltip": null,
            "layout": "IPY_MODEL_39692528f5594b478b5865d3b11e9353",
            "placeholder": "​",
            "style": "IPY_MODEL_ca78a31ca8d3405787368758b1e23ead",
            "value": " 1/1 [00:42&lt;00:00, 42.52s/ url]"
          }
        },
        "97c120bc37be4ecd9e6b47050fd52c2b": {
          "model_module": "@jupyter-widgets/base",
          "model_name": "LayoutModel",
          "state": {
            "_model_module": "@jupyter-widgets/base",
            "_model_module_version": "1.2.0",
            "_model_name": "LayoutModel",
            "_view_count": null,
            "_view_module": "@jupyter-widgets/base",
            "_view_module_version": "1.2.0",
            "_view_name": "LayoutView",
            "align_content": null,
            "align_items": null,
            "align_self": null,
            "border": null,
            "bottom": null,
            "display": null,
            "flex": null,
            "flex_flow": null,
            "grid_area": null,
            "grid_auto_columns": null,
            "grid_auto_flow": null,
            "grid_auto_rows": null,
            "grid_column": null,
            "grid_gap": null,
            "grid_row": null,
            "grid_template_areas": null,
            "grid_template_columns": null,
            "grid_template_rows": null,
            "height": null,
            "justify_content": null,
            "justify_items": null,
            "left": null,
            "margin": null,
            "max_height": null,
            "max_width": null,
            "min_height": null,
            "min_width": null,
            "object_fit": null,
            "object_position": null,
            "order": null,
            "overflow": null,
            "overflow_x": null,
            "overflow_y": null,
            "padding": null,
            "right": null,
            "top": null,
            "visibility": null,
            "width": null
          }
        },
        "a1abb07f70e1404189ae85d945a6d94d": {
          "model_module": "@jupyter-widgets/base",
          "model_name": "LayoutModel",
          "state": {
            "_model_module": "@jupyter-widgets/base",
            "_model_module_version": "1.2.0",
            "_model_name": "LayoutModel",
            "_view_count": null,
            "_view_module": "@jupyter-widgets/base",
            "_view_module_version": "1.2.0",
            "_view_name": "LayoutView",
            "align_content": null,
            "align_items": null,
            "align_self": null,
            "border": null,
            "bottom": null,
            "display": null,
            "flex": null,
            "flex_flow": null,
            "grid_area": null,
            "grid_auto_columns": null,
            "grid_auto_flow": null,
            "grid_auto_rows": null,
            "grid_column": null,
            "grid_gap": null,
            "grid_row": null,
            "grid_template_areas": null,
            "grid_template_columns": null,
            "grid_template_rows": null,
            "height": null,
            "justify_content": null,
            "justify_items": null,
            "left": null,
            "margin": null,
            "max_height": null,
            "max_width": null,
            "min_height": null,
            "min_width": null,
            "object_fit": null,
            "object_position": null,
            "order": null,
            "overflow": null,
            "overflow_x": null,
            "overflow_y": null,
            "padding": null,
            "right": null,
            "top": null,
            "visibility": null,
            "width": null
          }
        },
        "49c0b2381e7143d092134698a2d0e46f": {
          "model_module": "@jupyter-widgets/controls",
          "model_name": "ProgressStyleModel",
          "state": {
            "_model_module": "@jupyter-widgets/controls",
            "_model_module_version": "1.5.0",
            "_model_name": "ProgressStyleModel",
            "_view_count": null,
            "_view_module": "@jupyter-widgets/base",
            "_view_module_version": "1.2.0",
            "_view_name": "StyleView",
            "bar_color": null,
            "description_width": "initial"
          }
        },
        "39692528f5594b478b5865d3b11e9353": {
          "model_module": "@jupyter-widgets/base",
          "model_name": "LayoutModel",
          "state": {
            "_model_module": "@jupyter-widgets/base",
            "_model_module_version": "1.2.0",
            "_model_name": "LayoutModel",
            "_view_count": null,
            "_view_module": "@jupyter-widgets/base",
            "_view_module_version": "1.2.0",
            "_view_name": "LayoutView",
            "align_content": null,
            "align_items": null,
            "align_self": null,
            "border": null,
            "bottom": null,
            "display": null,
            "flex": null,
            "flex_flow": null,
            "grid_area": null,
            "grid_auto_columns": null,
            "grid_auto_flow": null,
            "grid_auto_rows": null,
            "grid_column": null,
            "grid_gap": null,
            "grid_row": null,
            "grid_template_areas": null,
            "grid_template_columns": null,
            "grid_template_rows": null,
            "height": null,
            "justify_content": null,
            "justify_items": null,
            "left": null,
            "margin": null,
            "max_height": null,
            "max_width": null,
            "min_height": null,
            "min_width": null,
            "object_fit": null,
            "object_position": null,
            "order": null,
            "overflow": null,
            "overflow_x": null,
            "overflow_y": null,
            "padding": null,
            "right": null,
            "top": null,
            "visibility": null,
            "width": null
          }
        },
        "ca78a31ca8d3405787368758b1e23ead": {
          "model_module": "@jupyter-widgets/controls",
          "model_name": "DescriptionStyleModel",
          "state": {
            "_model_module": "@jupyter-widgets/controls",
            "_model_module_version": "1.5.0",
            "_model_name": "DescriptionStyleModel",
            "_view_count": null,
            "_view_module": "@jupyter-widgets/base",
            "_view_module_version": "1.2.0",
            "_view_name": "StyleView",
            "description_width": ""
          }
        },
        "66e8bef7160c4170ad63157cd1a68d3b": {
          "model_module": "@jupyter-widgets/controls",
          "model_name": "HBoxModel",
          "state": {
            "_dom_classes": [],
            "_model_module": "@jupyter-widgets/controls",
            "_model_module_version": "1.5.0",
            "_model_name": "HBoxModel",
            "_view_count": null,
            "_view_module": "@jupyter-widgets/controls",
            "_view_module_version": "1.5.0",
            "_view_name": "HBoxView",
            "box_style": "",
            "children": [
              "IPY_MODEL_70872cd454b4448e9bdc93dfe921ba69",
              "IPY_MODEL_bd77167c27d94d608de346cf58bd3cef"
            ],
            "layout": "IPY_MODEL_18b43dc5f0cc424a9577687c331a5193"
          }
        },
        "70872cd454b4448e9bdc93dfe921ba69": {
          "model_module": "@jupyter-widgets/controls",
          "model_name": "FloatProgressModel",
          "state": {
            "_dom_classes": [],
            "_model_module": "@jupyter-widgets/controls",
            "_model_module_version": "1.5.0",
            "_model_name": "FloatProgressModel",
            "_view_count": null,
            "_view_module": "@jupyter-widgets/controls",
            "_view_module_version": "1.5.0",
            "_view_name": "ProgressView",
            "bar_style": "success",
            "description": "Dl Size...: 100%",
            "description_tooltip": null,
            "layout": "IPY_MODEL_78efd9b9ff9c4c12b5c2de5a7eb57a41",
            "max": 1,
            "min": 0,
            "orientation": "horizontal",
            "style": "IPY_MODEL_d4828f256977471891c6cf8b4b7727b2",
            "value": 1
          }
        },
        "bd77167c27d94d608de346cf58bd3cef": {
          "model_module": "@jupyter-widgets/controls",
          "model_name": "HTMLModel",
          "state": {
            "_dom_classes": [],
            "_model_module": "@jupyter-widgets/controls",
            "_model_module_version": "1.5.0",
            "_model_name": "HTMLModel",
            "_view_count": null,
            "_view_module": "@jupyter-widgets/controls",
            "_view_module_version": "1.5.0",
            "_view_name": "HTMLView",
            "description": "",
            "description_tooltip": null,
            "layout": "IPY_MODEL_a75fa1a1244b4d7199f73b448f3a87b1",
            "placeholder": "​",
            "style": "IPY_MODEL_fe7705e9b4944fedbfc647dd56179216",
            "value": " 1291/1291 [00:42&lt;00:00, 30.39 MiB/s]"
          }
        },
        "18b43dc5f0cc424a9577687c331a5193": {
          "model_module": "@jupyter-widgets/base",
          "model_name": "LayoutModel",
          "state": {
            "_model_module": "@jupyter-widgets/base",
            "_model_module_version": "1.2.0",
            "_model_name": "LayoutModel",
            "_view_count": null,
            "_view_module": "@jupyter-widgets/base",
            "_view_module_version": "1.2.0",
            "_view_name": "LayoutView",
            "align_content": null,
            "align_items": null,
            "align_self": null,
            "border": null,
            "bottom": null,
            "display": null,
            "flex": null,
            "flex_flow": null,
            "grid_area": null,
            "grid_auto_columns": null,
            "grid_auto_flow": null,
            "grid_auto_rows": null,
            "grid_column": null,
            "grid_gap": null,
            "grid_row": null,
            "grid_template_areas": null,
            "grid_template_columns": null,
            "grid_template_rows": null,
            "height": null,
            "justify_content": null,
            "justify_items": null,
            "left": null,
            "margin": null,
            "max_height": null,
            "max_width": null,
            "min_height": null,
            "min_width": null,
            "object_fit": null,
            "object_position": null,
            "order": null,
            "overflow": null,
            "overflow_x": null,
            "overflow_y": null,
            "padding": null,
            "right": null,
            "top": null,
            "visibility": null,
            "width": null
          }
        },
        "78efd9b9ff9c4c12b5c2de5a7eb57a41": {
          "model_module": "@jupyter-widgets/base",
          "model_name": "LayoutModel",
          "state": {
            "_model_module": "@jupyter-widgets/base",
            "_model_module_version": "1.2.0",
            "_model_name": "LayoutModel",
            "_view_count": null,
            "_view_module": "@jupyter-widgets/base",
            "_view_module_version": "1.2.0",
            "_view_name": "LayoutView",
            "align_content": null,
            "align_items": null,
            "align_self": null,
            "border": null,
            "bottom": null,
            "display": null,
            "flex": null,
            "flex_flow": null,
            "grid_area": null,
            "grid_auto_columns": null,
            "grid_auto_flow": null,
            "grid_auto_rows": null,
            "grid_column": null,
            "grid_gap": null,
            "grid_row": null,
            "grid_template_areas": null,
            "grid_template_columns": null,
            "grid_template_rows": null,
            "height": null,
            "justify_content": null,
            "justify_items": null,
            "left": null,
            "margin": null,
            "max_height": null,
            "max_width": null,
            "min_height": null,
            "min_width": null,
            "object_fit": null,
            "object_position": null,
            "order": null,
            "overflow": null,
            "overflow_x": null,
            "overflow_y": null,
            "padding": null,
            "right": null,
            "top": null,
            "visibility": null,
            "width": null
          }
        },
        "d4828f256977471891c6cf8b4b7727b2": {
          "model_module": "@jupyter-widgets/controls",
          "model_name": "ProgressStyleModel",
          "state": {
            "_model_module": "@jupyter-widgets/controls",
            "_model_module_version": "1.5.0",
            "_model_name": "ProgressStyleModel",
            "_view_count": null,
            "_view_module": "@jupyter-widgets/base",
            "_view_module_version": "1.2.0",
            "_view_name": "StyleView",
            "bar_color": null,
            "description_width": "initial"
          }
        },
        "a75fa1a1244b4d7199f73b448f3a87b1": {
          "model_module": "@jupyter-widgets/base",
          "model_name": "LayoutModel",
          "state": {
            "_model_module": "@jupyter-widgets/base",
            "_model_module_version": "1.2.0",
            "_model_name": "LayoutModel",
            "_view_count": null,
            "_view_module": "@jupyter-widgets/base",
            "_view_module_version": "1.2.0",
            "_view_name": "LayoutView",
            "align_content": null,
            "align_items": null,
            "align_self": null,
            "border": null,
            "bottom": null,
            "display": null,
            "flex": null,
            "flex_flow": null,
            "grid_area": null,
            "grid_auto_columns": null,
            "grid_auto_flow": null,
            "grid_auto_rows": null,
            "grid_column": null,
            "grid_gap": null,
            "grid_row": null,
            "grid_template_areas": null,
            "grid_template_columns": null,
            "grid_template_rows": null,
            "height": null,
            "justify_content": null,
            "justify_items": null,
            "left": null,
            "margin": null,
            "max_height": null,
            "max_width": null,
            "min_height": null,
            "min_width": null,
            "object_fit": null,
            "object_position": null,
            "order": null,
            "overflow": null,
            "overflow_x": null,
            "overflow_y": null,
            "padding": null,
            "right": null,
            "top": null,
            "visibility": null,
            "width": null
          }
        },
        "fe7705e9b4944fedbfc647dd56179216": {
          "model_module": "@jupyter-widgets/controls",
          "model_name": "DescriptionStyleModel",
          "state": {
            "_model_module": "@jupyter-widgets/controls",
            "_model_module_version": "1.5.0",
            "_model_name": "DescriptionStyleModel",
            "_view_count": null,
            "_view_module": "@jupyter-widgets/base",
            "_view_module_version": "1.2.0",
            "_view_name": "StyleView",
            "description_width": ""
          }
        },
        "a9c75322155e43e881da52a5b8d03ef7": {
          "model_module": "@jupyter-widgets/controls",
          "model_name": "HBoxModel",
          "state": {
            "_dom_classes": [],
            "_model_module": "@jupyter-widgets/controls",
            "_model_module_version": "1.5.0",
            "_model_name": "HBoxModel",
            "_view_count": null,
            "_view_module": "@jupyter-widgets/controls",
            "_view_module_version": "1.5.0",
            "_view_name": "HBoxView",
            "box_style": "",
            "children": [
              "IPY_MODEL_6d3804737f184d9aa80b24c7bc101f10",
              "IPY_MODEL_77a2d5e6e57e4b67ba6b5f93e0d19000"
            ],
            "layout": "IPY_MODEL_1b17fa8d022f4715913fe332f314604a"
          }
        },
        "6d3804737f184d9aa80b24c7bc101f10": {
          "model_module": "@jupyter-widgets/controls",
          "model_name": "FloatProgressModel",
          "state": {
            "_dom_classes": [],
            "_model_module": "@jupyter-widgets/controls",
            "_model_module_version": "1.5.0",
            "_model_name": "FloatProgressModel",
            "_view_count": null,
            "_view_module": "@jupyter-widgets/controls",
            "_view_module_version": "1.5.0",
            "_view_name": "ProgressView",
            "bar_style": "success",
            "description": "Extraction completed...: 100%",
            "description_tooltip": null,
            "layout": "IPY_MODEL_ce6f45541c934b75ab2c773f4264dca6",
            "max": 1,
            "min": 0,
            "orientation": "horizontal",
            "style": "IPY_MODEL_8d5dcf3df3d94f2dbc468f6c99a9d2ba",
            "value": 1
          }
        },
        "77a2d5e6e57e4b67ba6b5f93e0d19000": {
          "model_module": "@jupyter-widgets/controls",
          "model_name": "HTMLModel",
          "state": {
            "_dom_classes": [],
            "_model_module": "@jupyter-widgets/controls",
            "_model_module_version": "1.5.0",
            "_model_name": "HTMLModel",
            "_view_count": null,
            "_view_module": "@jupyter-widgets/controls",
            "_view_module_version": "1.5.0",
            "_view_name": "HTMLView",
            "description": "",
            "description_tooltip": null,
            "layout": "IPY_MODEL_6b51034606f24721a1ffb1487e7b8a80",
            "placeholder": "​",
            "style": "IPY_MODEL_2b4959c01439447589343f8ddc3b8695",
            "value": " 1/1 [00:42&lt;00:00, 42.43s/ file]"
          }
        },
        "1b17fa8d022f4715913fe332f314604a": {
          "model_module": "@jupyter-widgets/base",
          "model_name": "LayoutModel",
          "state": {
            "_model_module": "@jupyter-widgets/base",
            "_model_module_version": "1.2.0",
            "_model_name": "LayoutModel",
            "_view_count": null,
            "_view_module": "@jupyter-widgets/base",
            "_view_module_version": "1.2.0",
            "_view_name": "LayoutView",
            "align_content": null,
            "align_items": null,
            "align_self": null,
            "border": null,
            "bottom": null,
            "display": null,
            "flex": null,
            "flex_flow": null,
            "grid_area": null,
            "grid_auto_columns": null,
            "grid_auto_flow": null,
            "grid_auto_rows": null,
            "grid_column": null,
            "grid_gap": null,
            "grid_row": null,
            "grid_template_areas": null,
            "grid_template_columns": null,
            "grid_template_rows": null,
            "height": null,
            "justify_content": null,
            "justify_items": null,
            "left": null,
            "margin": null,
            "max_height": null,
            "max_width": null,
            "min_height": null,
            "min_width": null,
            "object_fit": null,
            "object_position": null,
            "order": null,
            "overflow": null,
            "overflow_x": null,
            "overflow_y": null,
            "padding": null,
            "right": null,
            "top": null,
            "visibility": null,
            "width": null
          }
        },
        "ce6f45541c934b75ab2c773f4264dca6": {
          "model_module": "@jupyter-widgets/base",
          "model_name": "LayoutModel",
          "state": {
            "_model_module": "@jupyter-widgets/base",
            "_model_module_version": "1.2.0",
            "_model_name": "LayoutModel",
            "_view_count": null,
            "_view_module": "@jupyter-widgets/base",
            "_view_module_version": "1.2.0",
            "_view_name": "LayoutView",
            "align_content": null,
            "align_items": null,
            "align_self": null,
            "border": null,
            "bottom": null,
            "display": null,
            "flex": null,
            "flex_flow": null,
            "grid_area": null,
            "grid_auto_columns": null,
            "grid_auto_flow": null,
            "grid_auto_rows": null,
            "grid_column": null,
            "grid_gap": null,
            "grid_row": null,
            "grid_template_areas": null,
            "grid_template_columns": null,
            "grid_template_rows": null,
            "height": null,
            "justify_content": null,
            "justify_items": null,
            "left": null,
            "margin": null,
            "max_height": null,
            "max_width": null,
            "min_height": null,
            "min_width": null,
            "object_fit": null,
            "object_position": null,
            "order": null,
            "overflow": null,
            "overflow_x": null,
            "overflow_y": null,
            "padding": null,
            "right": null,
            "top": null,
            "visibility": null,
            "width": null
          }
        },
        "8d5dcf3df3d94f2dbc468f6c99a9d2ba": {
          "model_module": "@jupyter-widgets/controls",
          "model_name": "ProgressStyleModel",
          "state": {
            "_model_module": "@jupyter-widgets/controls",
            "_model_module_version": "1.5.0",
            "_model_name": "ProgressStyleModel",
            "_view_count": null,
            "_view_module": "@jupyter-widgets/base",
            "_view_module_version": "1.2.0",
            "_view_name": "StyleView",
            "bar_color": null,
            "description_width": "initial"
          }
        },
        "6b51034606f24721a1ffb1487e7b8a80": {
          "model_module": "@jupyter-widgets/base",
          "model_name": "LayoutModel",
          "state": {
            "_model_module": "@jupyter-widgets/base",
            "_model_module_version": "1.2.0",
            "_model_name": "LayoutModel",
            "_view_count": null,
            "_view_module": "@jupyter-widgets/base",
            "_view_module_version": "1.2.0",
            "_view_name": "LayoutView",
            "align_content": null,
            "align_items": null,
            "align_self": null,
            "border": null,
            "bottom": null,
            "display": null,
            "flex": null,
            "flex_flow": null,
            "grid_area": null,
            "grid_auto_columns": null,
            "grid_auto_flow": null,
            "grid_auto_rows": null,
            "grid_column": null,
            "grid_gap": null,
            "grid_row": null,
            "grid_template_areas": null,
            "grid_template_columns": null,
            "grid_template_rows": null,
            "height": null,
            "justify_content": null,
            "justify_items": null,
            "left": null,
            "margin": null,
            "max_height": null,
            "max_width": null,
            "min_height": null,
            "min_width": null,
            "object_fit": null,
            "object_position": null,
            "order": null,
            "overflow": null,
            "overflow_x": null,
            "overflow_y": null,
            "padding": null,
            "right": null,
            "top": null,
            "visibility": null,
            "width": null
          }
        },
        "2b4959c01439447589343f8ddc3b8695": {
          "model_module": "@jupyter-widgets/controls",
          "model_name": "DescriptionStyleModel",
          "state": {
            "_model_module": "@jupyter-widgets/controls",
            "_model_module_version": "1.5.0",
            "_model_name": "DescriptionStyleModel",
            "_view_count": null,
            "_view_module": "@jupyter-widgets/base",
            "_view_module_version": "1.2.0",
            "_view_name": "StyleView",
            "description_width": ""
          }
        },
        "059e9886c5794962acad52f3316a59f4": {
          "model_module": "@jupyter-widgets/controls",
          "model_name": "HBoxModel",
          "state": {
            "_dom_classes": [],
            "_model_module": "@jupyter-widgets/controls",
            "_model_module_version": "1.5.0",
            "_model_name": "HBoxModel",
            "_view_count": null,
            "_view_module": "@jupyter-widgets/controls",
            "_view_module_version": "1.5.0",
            "_view_name": "HBoxView",
            "box_style": "",
            "children": [
              "IPY_MODEL_b80568c3ac3f44e9969e466b90a4aa6d",
              "IPY_MODEL_1b67a36d697e48d7b915b8d961be2e15"
            ],
            "layout": "IPY_MODEL_d3a64e22116e4000815ab5e658513dd8"
          }
        },
        "b80568c3ac3f44e9969e466b90a4aa6d": {
          "model_module": "@jupyter-widgets/controls",
          "model_name": "FloatProgressModel",
          "state": {
            "_dom_classes": [],
            "_model_module": "@jupyter-widgets/controls",
            "_model_module_version": "1.5.0",
            "_model_name": "FloatProgressModel",
            "_view_count": null,
            "_view_module": "@jupyter-widgets/controls",
            "_view_module_version": "1.5.0",
            "_view_name": "ProgressView",
            "bar_style": "info",
            "description": "",
            "description_tooltip": null,
            "layout": "IPY_MODEL_b8d229877a484cbf87f0548803f13c76",
            "max": 1,
            "min": 0,
            "orientation": "horizontal",
            "style": "IPY_MODEL_c2fe06feb8654168a4370e919fc6043e",
            "value": 1
          }
        },
        "1b67a36d697e48d7b915b8d961be2e15": {
          "model_module": "@jupyter-widgets/controls",
          "model_name": "HTMLModel",
          "state": {
            "_dom_classes": [],
            "_model_module": "@jupyter-widgets/controls",
            "_model_module_version": "1.5.0",
            "_model_name": "HTMLModel",
            "_view_count": null,
            "_view_module": "@jupyter-widgets/controls",
            "_view_module_version": "1.5.0",
            "_view_name": "HTMLView",
            "description": "",
            "description_tooltip": null,
            "layout": "IPY_MODEL_c69440cc41914b9d875bff9145af3cd6",
            "placeholder": "​",
            "style": "IPY_MODEL_13eb0b19ff48404eb8575e6590407e8d",
            "value": " 5656/0 [00:03&lt;00:00, 1775.39 examples/s]"
          }
        },
        "d3a64e22116e4000815ab5e658513dd8": {
          "model_module": "@jupyter-widgets/base",
          "model_name": "LayoutModel",
          "state": {
            "_model_module": "@jupyter-widgets/base",
            "_model_module_version": "1.2.0",
            "_model_name": "LayoutModel",
            "_view_count": null,
            "_view_module": "@jupyter-widgets/base",
            "_view_module_version": "1.2.0",
            "_view_name": "LayoutView",
            "align_content": null,
            "align_items": null,
            "align_self": null,
            "border": null,
            "bottom": null,
            "display": null,
            "flex": null,
            "flex_flow": null,
            "grid_area": null,
            "grid_auto_columns": null,
            "grid_auto_flow": null,
            "grid_auto_rows": null,
            "grid_column": null,
            "grid_gap": null,
            "grid_row": null,
            "grid_template_areas": null,
            "grid_template_columns": null,
            "grid_template_rows": null,
            "height": null,
            "justify_content": null,
            "justify_items": null,
            "left": null,
            "margin": null,
            "max_height": null,
            "max_width": null,
            "min_height": null,
            "min_width": null,
            "object_fit": null,
            "object_position": null,
            "order": null,
            "overflow": null,
            "overflow_x": null,
            "overflow_y": null,
            "padding": null,
            "right": null,
            "top": null,
            "visibility": null,
            "width": null
          }
        },
        "b8d229877a484cbf87f0548803f13c76": {
          "model_module": "@jupyter-widgets/base",
          "model_name": "LayoutModel",
          "state": {
            "_model_module": "@jupyter-widgets/base",
            "_model_module_version": "1.2.0",
            "_model_name": "LayoutModel",
            "_view_count": null,
            "_view_module": "@jupyter-widgets/base",
            "_view_module_version": "1.2.0",
            "_view_name": "LayoutView",
            "align_content": null,
            "align_items": null,
            "align_self": null,
            "border": null,
            "bottom": null,
            "display": null,
            "flex": null,
            "flex_flow": null,
            "grid_area": null,
            "grid_auto_columns": null,
            "grid_auto_flow": null,
            "grid_auto_rows": null,
            "grid_column": null,
            "grid_gap": null,
            "grid_row": null,
            "grid_template_areas": null,
            "grid_template_columns": null,
            "grid_template_rows": null,
            "height": null,
            "justify_content": null,
            "justify_items": null,
            "left": null,
            "margin": null,
            "max_height": null,
            "max_width": null,
            "min_height": null,
            "min_width": null,
            "object_fit": null,
            "object_position": null,
            "order": null,
            "overflow": null,
            "overflow_x": null,
            "overflow_y": null,
            "padding": null,
            "right": null,
            "top": null,
            "visibility": null,
            "width": null
          }
        },
        "c2fe06feb8654168a4370e919fc6043e": {
          "model_module": "@jupyter-widgets/controls",
          "model_name": "ProgressStyleModel",
          "state": {
            "_model_module": "@jupyter-widgets/controls",
            "_model_module_version": "1.5.0",
            "_model_name": "ProgressStyleModel",
            "_view_count": null,
            "_view_module": "@jupyter-widgets/base",
            "_view_module_version": "1.2.0",
            "_view_name": "StyleView",
            "bar_color": null,
            "description_width": "initial"
          }
        },
        "c69440cc41914b9d875bff9145af3cd6": {
          "model_module": "@jupyter-widgets/base",
          "model_name": "LayoutModel",
          "state": {
            "_model_module": "@jupyter-widgets/base",
            "_model_module_version": "1.2.0",
            "_model_name": "LayoutModel",
            "_view_count": null,
            "_view_module": "@jupyter-widgets/base",
            "_view_module_version": "1.2.0",
            "_view_name": "LayoutView",
            "align_content": null,
            "align_items": null,
            "align_self": null,
            "border": null,
            "bottom": null,
            "display": null,
            "flex": null,
            "flex_flow": null,
            "grid_area": null,
            "grid_auto_columns": null,
            "grid_auto_flow": null,
            "grid_auto_rows": null,
            "grid_column": null,
            "grid_gap": null,
            "grid_row": null,
            "grid_template_areas": null,
            "grid_template_columns": null,
            "grid_template_rows": null,
            "height": null,
            "justify_content": null,
            "justify_items": null,
            "left": null,
            "margin": null,
            "max_height": null,
            "max_width": null,
            "min_height": null,
            "min_width": null,
            "object_fit": null,
            "object_position": null,
            "order": null,
            "overflow": null,
            "overflow_x": null,
            "overflow_y": null,
            "padding": null,
            "right": null,
            "top": null,
            "visibility": null,
            "width": null
          }
        },
        "13eb0b19ff48404eb8575e6590407e8d": {
          "model_module": "@jupyter-widgets/controls",
          "model_name": "DescriptionStyleModel",
          "state": {
            "_model_module": "@jupyter-widgets/controls",
            "_model_module_version": "1.5.0",
            "_model_name": "DescriptionStyleModel",
            "_view_count": null,
            "_view_module": "@jupyter-widgets/base",
            "_view_module_version": "1.2.0",
            "_view_name": "StyleView",
            "description_width": ""
          }
        },
        "9bdc864172944394b8b00f2ed34df469": {
          "model_module": "@jupyter-widgets/controls",
          "model_name": "HBoxModel",
          "state": {
            "_dom_classes": [],
            "_model_module": "@jupyter-widgets/controls",
            "_model_module_version": "1.5.0",
            "_model_name": "HBoxModel",
            "_view_count": null,
            "_view_module": "@jupyter-widgets/controls",
            "_view_module_version": "1.5.0",
            "_view_name": "HBoxView",
            "box_style": "",
            "children": [
              "IPY_MODEL_f148f8d7fe8b4d458439a5229a51e852",
              "IPY_MODEL_5ed87db374a9432b88a9f50662c4a282"
            ],
            "layout": "IPY_MODEL_b3f8e719cb5844d6a25d32f4e5f1c141"
          }
        },
        "f148f8d7fe8b4d458439a5229a51e852": {
          "model_module": "@jupyter-widgets/controls",
          "model_name": "FloatProgressModel",
          "state": {
            "_dom_classes": [],
            "_model_module": "@jupyter-widgets/controls",
            "_model_module_version": "1.5.0",
            "_model_name": "FloatProgressModel",
            "_view_count": null,
            "_view_module": "@jupyter-widgets/controls",
            "_view_module_version": "1.5.0",
            "_view_name": "ProgressView",
            "bar_style": "danger",
            "description": "100%",
            "description_tooltip": null,
            "layout": "IPY_MODEL_7719bccdab904fa5a1a646002bdb8702",
            "max": 5656,
            "min": 0,
            "orientation": "horizontal",
            "style": "IPY_MODEL_b507290f61434c66b78f12eb7845bfb6",
            "value": 5632
          }
        },
        "5ed87db374a9432b88a9f50662c4a282": {
          "model_module": "@jupyter-widgets/controls",
          "model_name": "HTMLModel",
          "state": {
            "_dom_classes": [],
            "_model_module": "@jupyter-widgets/controls",
            "_model_module_version": "1.5.0",
            "_model_name": "HTMLModel",
            "_view_count": null,
            "_view_module": "@jupyter-widgets/controls",
            "_view_module_version": "1.5.0",
            "_view_name": "HTMLView",
            "description": "",
            "description_tooltip": null,
            "layout": "IPY_MODEL_0938f70b5fcc4b35a46db32b39aec450",
            "placeholder": "​",
            "style": "IPY_MODEL_220070fe1bda47d1a2cf3c495d188e44",
            "value": " 5632/5656 [00:30&lt;00:00, 268.86 examples/s]"
          }
        },
        "b3f8e719cb5844d6a25d32f4e5f1c141": {
          "model_module": "@jupyter-widgets/base",
          "model_name": "LayoutModel",
          "state": {
            "_model_module": "@jupyter-widgets/base",
            "_model_module_version": "1.2.0",
            "_model_name": "LayoutModel",
            "_view_count": null,
            "_view_module": "@jupyter-widgets/base",
            "_view_module_version": "1.2.0",
            "_view_name": "LayoutView",
            "align_content": null,
            "align_items": null,
            "align_self": null,
            "border": null,
            "bottom": null,
            "display": null,
            "flex": null,
            "flex_flow": null,
            "grid_area": null,
            "grid_auto_columns": null,
            "grid_auto_flow": null,
            "grid_auto_rows": null,
            "grid_column": null,
            "grid_gap": null,
            "grid_row": null,
            "grid_template_areas": null,
            "grid_template_columns": null,
            "grid_template_rows": null,
            "height": null,
            "justify_content": null,
            "justify_items": null,
            "left": null,
            "margin": null,
            "max_height": null,
            "max_width": null,
            "min_height": null,
            "min_width": null,
            "object_fit": null,
            "object_position": null,
            "order": null,
            "overflow": null,
            "overflow_x": null,
            "overflow_y": null,
            "padding": null,
            "right": null,
            "top": null,
            "visibility": null,
            "width": null
          }
        },
        "7719bccdab904fa5a1a646002bdb8702": {
          "model_module": "@jupyter-widgets/base",
          "model_name": "LayoutModel",
          "state": {
            "_model_module": "@jupyter-widgets/base",
            "_model_module_version": "1.2.0",
            "_model_name": "LayoutModel",
            "_view_count": null,
            "_view_module": "@jupyter-widgets/base",
            "_view_module_version": "1.2.0",
            "_view_name": "LayoutView",
            "align_content": null,
            "align_items": null,
            "align_self": null,
            "border": null,
            "bottom": null,
            "display": null,
            "flex": null,
            "flex_flow": null,
            "grid_area": null,
            "grid_auto_columns": null,
            "grid_auto_flow": null,
            "grid_auto_rows": null,
            "grid_column": null,
            "grid_gap": null,
            "grid_row": null,
            "grid_template_areas": null,
            "grid_template_columns": null,
            "grid_template_rows": null,
            "height": null,
            "justify_content": null,
            "justify_items": null,
            "left": null,
            "margin": null,
            "max_height": null,
            "max_width": null,
            "min_height": null,
            "min_width": null,
            "object_fit": null,
            "object_position": null,
            "order": null,
            "overflow": null,
            "overflow_x": null,
            "overflow_y": null,
            "padding": null,
            "right": null,
            "top": null,
            "visibility": null,
            "width": null
          }
        },
        "b507290f61434c66b78f12eb7845bfb6": {
          "model_module": "@jupyter-widgets/controls",
          "model_name": "ProgressStyleModel",
          "state": {
            "_model_module": "@jupyter-widgets/controls",
            "_model_module_version": "1.5.0",
            "_model_name": "ProgressStyleModel",
            "_view_count": null,
            "_view_module": "@jupyter-widgets/base",
            "_view_module_version": "1.2.0",
            "_view_name": "StyleView",
            "bar_color": null,
            "description_width": "initial"
          }
        },
        "0938f70b5fcc4b35a46db32b39aec450": {
          "model_module": "@jupyter-widgets/base",
          "model_name": "LayoutModel",
          "state": {
            "_model_module": "@jupyter-widgets/base",
            "_model_module_version": "1.2.0",
            "_model_name": "LayoutModel",
            "_view_count": null,
            "_view_module": "@jupyter-widgets/base",
            "_view_module_version": "1.2.0",
            "_view_name": "LayoutView",
            "align_content": null,
            "align_items": null,
            "align_self": null,
            "border": null,
            "bottom": null,
            "display": null,
            "flex": null,
            "flex_flow": null,
            "grid_area": null,
            "grid_auto_columns": null,
            "grid_auto_flow": null,
            "grid_auto_rows": null,
            "grid_column": null,
            "grid_gap": null,
            "grid_row": null,
            "grid_template_areas": null,
            "grid_template_columns": null,
            "grid_template_rows": null,
            "height": null,
            "justify_content": null,
            "justify_items": null,
            "left": null,
            "margin": null,
            "max_height": null,
            "max_width": null,
            "min_height": null,
            "min_width": null,
            "object_fit": null,
            "object_position": null,
            "order": null,
            "overflow": null,
            "overflow_x": null,
            "overflow_y": null,
            "padding": null,
            "right": null,
            "top": null,
            "visibility": null,
            "width": null
          }
        },
        "220070fe1bda47d1a2cf3c495d188e44": {
          "model_module": "@jupyter-widgets/controls",
          "model_name": "DescriptionStyleModel",
          "state": {
            "_model_module": "@jupyter-widgets/controls",
            "_model_module_version": "1.5.0",
            "_model_name": "DescriptionStyleModel",
            "_view_count": null,
            "_view_module": "@jupyter-widgets/base",
            "_view_module_version": "1.2.0",
            "_view_name": "StyleView",
            "description_width": ""
          }
        },
        "ec8fd0e9135540b2b2c59bb591ff1a2a": {
          "model_module": "@jupyter-widgets/controls",
          "model_name": "HBoxModel",
          "state": {
            "_dom_classes": [],
            "_model_module": "@jupyter-widgets/controls",
            "_model_module_version": "1.5.0",
            "_model_name": "HBoxModel",
            "_view_count": null,
            "_view_module": "@jupyter-widgets/controls",
            "_view_module_version": "1.5.0",
            "_view_name": "HBoxView",
            "box_style": "",
            "children": [
              "IPY_MODEL_ce9b731ca0554136b72177c3a4a5ccf3",
              "IPY_MODEL_963632bb32f449a888befc408f55af70"
            ],
            "layout": "IPY_MODEL_90eb0628f68e4fccac7217a7e0896cf0"
          }
        },
        "ce9b731ca0554136b72177c3a4a5ccf3": {
          "model_module": "@jupyter-widgets/controls",
          "model_name": "FloatProgressModel",
          "state": {
            "_dom_classes": [],
            "_model_module": "@jupyter-widgets/controls",
            "_model_module_version": "1.5.0",
            "_model_name": "FloatProgressModel",
            "_view_count": null,
            "_view_module": "@jupyter-widgets/controls",
            "_view_module_version": "1.5.0",
            "_view_name": "ProgressView",
            "bar_style": "info",
            "description": "",
            "description_tooltip": null,
            "layout": "IPY_MODEL_3b3d13bd47b7424195c48e9776bab7cd",
            "max": 1,
            "min": 0,
            "orientation": "horizontal",
            "style": "IPY_MODEL_85dc8fcbf0e14fe2b3ed04052ae38c32",
            "value": 1
          }
        },
        "963632bb32f449a888befc408f55af70": {
          "model_module": "@jupyter-widgets/controls",
          "model_name": "HTMLModel",
          "state": {
            "_dom_classes": [],
            "_model_module": "@jupyter-widgets/controls",
            "_model_module_version": "1.5.0",
            "_model_name": "HTMLModel",
            "_view_count": null,
            "_view_module": "@jupyter-widgets/controls",
            "_view_module_version": "1.5.0",
            "_view_name": "HTMLView",
            "description": "",
            "description_tooltip": null,
            "layout": "IPY_MODEL_7ce4c7d6da394e6dbe5a2e8946e19656",
            "placeholder": "​",
            "style": "IPY_MODEL_8275c1605e9b4c21a709b4e99ded65c8",
            "value": " 1885/0 [00:03&lt;00:00, 12.82 examples/s]"
          }
        },
        "90eb0628f68e4fccac7217a7e0896cf0": {
          "model_module": "@jupyter-widgets/base",
          "model_name": "LayoutModel",
          "state": {
            "_model_module": "@jupyter-widgets/base",
            "_model_module_version": "1.2.0",
            "_model_name": "LayoutModel",
            "_view_count": null,
            "_view_module": "@jupyter-widgets/base",
            "_view_module_version": "1.2.0",
            "_view_name": "LayoutView",
            "align_content": null,
            "align_items": null,
            "align_self": null,
            "border": null,
            "bottom": null,
            "display": null,
            "flex": null,
            "flex_flow": null,
            "grid_area": null,
            "grid_auto_columns": null,
            "grid_auto_flow": null,
            "grid_auto_rows": null,
            "grid_column": null,
            "grid_gap": null,
            "grid_row": null,
            "grid_template_areas": null,
            "grid_template_columns": null,
            "grid_template_rows": null,
            "height": null,
            "justify_content": null,
            "justify_items": null,
            "left": null,
            "margin": null,
            "max_height": null,
            "max_width": null,
            "min_height": null,
            "min_width": null,
            "object_fit": null,
            "object_position": null,
            "order": null,
            "overflow": null,
            "overflow_x": null,
            "overflow_y": null,
            "padding": null,
            "right": null,
            "top": null,
            "visibility": null,
            "width": null
          }
        },
        "3b3d13bd47b7424195c48e9776bab7cd": {
          "model_module": "@jupyter-widgets/base",
          "model_name": "LayoutModel",
          "state": {
            "_model_module": "@jupyter-widgets/base",
            "_model_module_version": "1.2.0",
            "_model_name": "LayoutModel",
            "_view_count": null,
            "_view_module": "@jupyter-widgets/base",
            "_view_module_version": "1.2.0",
            "_view_name": "LayoutView",
            "align_content": null,
            "align_items": null,
            "align_self": null,
            "border": null,
            "bottom": null,
            "display": null,
            "flex": null,
            "flex_flow": null,
            "grid_area": null,
            "grid_auto_columns": null,
            "grid_auto_flow": null,
            "grid_auto_rows": null,
            "grid_column": null,
            "grid_gap": null,
            "grid_row": null,
            "grid_template_areas": null,
            "grid_template_columns": null,
            "grid_template_rows": null,
            "height": null,
            "justify_content": null,
            "justify_items": null,
            "left": null,
            "margin": null,
            "max_height": null,
            "max_width": null,
            "min_height": null,
            "min_width": null,
            "object_fit": null,
            "object_position": null,
            "order": null,
            "overflow": null,
            "overflow_x": null,
            "overflow_y": null,
            "padding": null,
            "right": null,
            "top": null,
            "visibility": null,
            "width": null
          }
        },
        "85dc8fcbf0e14fe2b3ed04052ae38c32": {
          "model_module": "@jupyter-widgets/controls",
          "model_name": "ProgressStyleModel",
          "state": {
            "_model_module": "@jupyter-widgets/controls",
            "_model_module_version": "1.5.0",
            "_model_name": "ProgressStyleModel",
            "_view_count": null,
            "_view_module": "@jupyter-widgets/base",
            "_view_module_version": "1.2.0",
            "_view_name": "StyleView",
            "bar_color": null,
            "description_width": "initial"
          }
        },
        "7ce4c7d6da394e6dbe5a2e8946e19656": {
          "model_module": "@jupyter-widgets/base",
          "model_name": "LayoutModel",
          "state": {
            "_model_module": "@jupyter-widgets/base",
            "_model_module_version": "1.2.0",
            "_model_name": "LayoutModel",
            "_view_count": null,
            "_view_module": "@jupyter-widgets/base",
            "_view_module_version": "1.2.0",
            "_view_name": "LayoutView",
            "align_content": null,
            "align_items": null,
            "align_self": null,
            "border": null,
            "bottom": null,
            "display": null,
            "flex": null,
            "flex_flow": null,
            "grid_area": null,
            "grid_auto_columns": null,
            "grid_auto_flow": null,
            "grid_auto_rows": null,
            "grid_column": null,
            "grid_gap": null,
            "grid_row": null,
            "grid_template_areas": null,
            "grid_template_columns": null,
            "grid_template_rows": null,
            "height": null,
            "justify_content": null,
            "justify_items": null,
            "left": null,
            "margin": null,
            "max_height": null,
            "max_width": null,
            "min_height": null,
            "min_width": null,
            "object_fit": null,
            "object_position": null,
            "order": null,
            "overflow": null,
            "overflow_x": null,
            "overflow_y": null,
            "padding": null,
            "right": null,
            "top": null,
            "visibility": null,
            "width": null
          }
        },
        "8275c1605e9b4c21a709b4e99ded65c8": {
          "model_module": "@jupyter-widgets/controls",
          "model_name": "DescriptionStyleModel",
          "state": {
            "_model_module": "@jupyter-widgets/controls",
            "_model_module_version": "1.5.0",
            "_model_name": "DescriptionStyleModel",
            "_view_count": null,
            "_view_module": "@jupyter-widgets/base",
            "_view_module_version": "1.2.0",
            "_view_name": "StyleView",
            "description_width": ""
          }
        },
        "80c87feeeab44cb0945cb35d32566f31": {
          "model_module": "@jupyter-widgets/controls",
          "model_name": "HBoxModel",
          "state": {
            "_dom_classes": [],
            "_model_module": "@jupyter-widgets/controls",
            "_model_module_version": "1.5.0",
            "_model_name": "HBoxModel",
            "_view_count": null,
            "_view_module": "@jupyter-widgets/controls",
            "_view_module_version": "1.5.0",
            "_view_name": "HBoxView",
            "box_style": "",
            "children": [
              "IPY_MODEL_441784fb2395410f9e931a39461a0000",
              "IPY_MODEL_4a8225c54b4f470e8c3f5995b1f02317"
            ],
            "layout": "IPY_MODEL_9f368a5a43d546d88bb09d41b1b464d1"
          }
        },
        "441784fb2395410f9e931a39461a0000": {
          "model_module": "@jupyter-widgets/controls",
          "model_name": "FloatProgressModel",
          "state": {
            "_dom_classes": [],
            "_model_module": "@jupyter-widgets/controls",
            "_model_module_version": "1.5.0",
            "_model_name": "FloatProgressModel",
            "_view_count": null,
            "_view_module": "@jupyter-widgets/controls",
            "_view_module_version": "1.5.0",
            "_view_name": "ProgressView",
            "bar_style": "danger",
            "description": "100%",
            "description_tooltip": null,
            "layout": "IPY_MODEL_ff2f087d6f9a44dcabc1d96cedb8cdf7",
            "max": 1885,
            "min": 0,
            "orientation": "horizontal",
            "style": "IPY_MODEL_5133b1a223e34bdabd8b6ef58dc94012",
            "value": 1883
          }
        },
        "4a8225c54b4f470e8c3f5995b1f02317": {
          "model_module": "@jupyter-widgets/controls",
          "model_name": "HTMLModel",
          "state": {
            "_dom_classes": [],
            "_model_module": "@jupyter-widgets/controls",
            "_model_module_version": "1.5.0",
            "_model_name": "HTMLModel",
            "_view_count": null,
            "_view_module": "@jupyter-widgets/controls",
            "_view_module_version": "1.5.0",
            "_view_name": "HTMLView",
            "description": "",
            "description_tooltip": null,
            "layout": "IPY_MODEL_dee84ee0c3d345cda9d620de6bde4cd6",
            "placeholder": "​",
            "style": "IPY_MODEL_e42dc17e82c346c58740ababbb8605ff",
            "value": " 1883/1885 [00:00&lt;00:00, 1526.00 examples/s]"
          }
        },
        "9f368a5a43d546d88bb09d41b1b464d1": {
          "model_module": "@jupyter-widgets/base",
          "model_name": "LayoutModel",
          "state": {
            "_model_module": "@jupyter-widgets/base",
            "_model_module_version": "1.2.0",
            "_model_name": "LayoutModel",
            "_view_count": null,
            "_view_module": "@jupyter-widgets/base",
            "_view_module_version": "1.2.0",
            "_view_name": "LayoutView",
            "align_content": null,
            "align_items": null,
            "align_self": null,
            "border": null,
            "bottom": null,
            "display": null,
            "flex": null,
            "flex_flow": null,
            "grid_area": null,
            "grid_auto_columns": null,
            "grid_auto_flow": null,
            "grid_auto_rows": null,
            "grid_column": null,
            "grid_gap": null,
            "grid_row": null,
            "grid_template_areas": null,
            "grid_template_columns": null,
            "grid_template_rows": null,
            "height": null,
            "justify_content": null,
            "justify_items": null,
            "left": null,
            "margin": null,
            "max_height": null,
            "max_width": null,
            "min_height": null,
            "min_width": null,
            "object_fit": null,
            "object_position": null,
            "order": null,
            "overflow": null,
            "overflow_x": null,
            "overflow_y": null,
            "padding": null,
            "right": null,
            "top": null,
            "visibility": null,
            "width": null
          }
        },
        "ff2f087d6f9a44dcabc1d96cedb8cdf7": {
          "model_module": "@jupyter-widgets/base",
          "model_name": "LayoutModel",
          "state": {
            "_model_module": "@jupyter-widgets/base",
            "_model_module_version": "1.2.0",
            "_model_name": "LayoutModel",
            "_view_count": null,
            "_view_module": "@jupyter-widgets/base",
            "_view_module_version": "1.2.0",
            "_view_name": "LayoutView",
            "align_content": null,
            "align_items": null,
            "align_self": null,
            "border": null,
            "bottom": null,
            "display": null,
            "flex": null,
            "flex_flow": null,
            "grid_area": null,
            "grid_auto_columns": null,
            "grid_auto_flow": null,
            "grid_auto_rows": null,
            "grid_column": null,
            "grid_gap": null,
            "grid_row": null,
            "grid_template_areas": null,
            "grid_template_columns": null,
            "grid_template_rows": null,
            "height": null,
            "justify_content": null,
            "justify_items": null,
            "left": null,
            "margin": null,
            "max_height": null,
            "max_width": null,
            "min_height": null,
            "min_width": null,
            "object_fit": null,
            "object_position": null,
            "order": null,
            "overflow": null,
            "overflow_x": null,
            "overflow_y": null,
            "padding": null,
            "right": null,
            "top": null,
            "visibility": null,
            "width": null
          }
        },
        "5133b1a223e34bdabd8b6ef58dc94012": {
          "model_module": "@jupyter-widgets/controls",
          "model_name": "ProgressStyleModel",
          "state": {
            "_model_module": "@jupyter-widgets/controls",
            "_model_module_version": "1.5.0",
            "_model_name": "ProgressStyleModel",
            "_view_count": null,
            "_view_module": "@jupyter-widgets/base",
            "_view_module_version": "1.2.0",
            "_view_name": "StyleView",
            "bar_color": null,
            "description_width": "initial"
          }
        },
        "dee84ee0c3d345cda9d620de6bde4cd6": {
          "model_module": "@jupyter-widgets/base",
          "model_name": "LayoutModel",
          "state": {
            "_model_module": "@jupyter-widgets/base",
            "_model_module_version": "1.2.0",
            "_model_name": "LayoutModel",
            "_view_count": null,
            "_view_module": "@jupyter-widgets/base",
            "_view_module_version": "1.2.0",
            "_view_name": "LayoutView",
            "align_content": null,
            "align_items": null,
            "align_self": null,
            "border": null,
            "bottom": null,
            "display": null,
            "flex": null,
            "flex_flow": null,
            "grid_area": null,
            "grid_auto_columns": null,
            "grid_auto_flow": null,
            "grid_auto_rows": null,
            "grid_column": null,
            "grid_gap": null,
            "grid_row": null,
            "grid_template_areas": null,
            "grid_template_columns": null,
            "grid_template_rows": null,
            "height": null,
            "justify_content": null,
            "justify_items": null,
            "left": null,
            "margin": null,
            "max_height": null,
            "max_width": null,
            "min_height": null,
            "min_width": null,
            "object_fit": null,
            "object_position": null,
            "order": null,
            "overflow": null,
            "overflow_x": null,
            "overflow_y": null,
            "padding": null,
            "right": null,
            "top": null,
            "visibility": null,
            "width": null
          }
        },
        "e42dc17e82c346c58740ababbb8605ff": {
          "model_module": "@jupyter-widgets/controls",
          "model_name": "DescriptionStyleModel",
          "state": {
            "_model_module": "@jupyter-widgets/controls",
            "_model_module_version": "1.5.0",
            "_model_name": "DescriptionStyleModel",
            "_view_count": null,
            "_view_module": "@jupyter-widgets/base",
            "_view_module_version": "1.2.0",
            "_view_name": "StyleView",
            "description_width": ""
          }
        },
        "503ffaaafef14877b2dfcccbedc47c50": {
          "model_module": "@jupyter-widgets/controls",
          "model_name": "HBoxModel",
          "state": {
            "_dom_classes": [],
            "_model_module": "@jupyter-widgets/controls",
            "_model_module_version": "1.5.0",
            "_model_name": "HBoxModel",
            "_view_count": null,
            "_view_module": "@jupyter-widgets/controls",
            "_view_module_version": "1.5.0",
            "_view_name": "HBoxView",
            "box_style": "",
            "children": [
              "IPY_MODEL_6793e13b1c7b4d369d9fc031b86d3baa",
              "IPY_MODEL_d7b4abdfcc454ebcb9286f49f324c4ed"
            ],
            "layout": "IPY_MODEL_7c6828ddd3a24bcba9df3f7d8e6b49ca"
          }
        },
        "6793e13b1c7b4d369d9fc031b86d3baa": {
          "model_module": "@jupyter-widgets/controls",
          "model_name": "FloatProgressModel",
          "state": {
            "_dom_classes": [],
            "_model_module": "@jupyter-widgets/controls",
            "_model_module_version": "1.5.0",
            "_model_name": "FloatProgressModel",
            "_view_count": null,
            "_view_module": "@jupyter-widgets/controls",
            "_view_module_version": "1.5.0",
            "_view_name": "ProgressView",
            "bar_style": "info",
            "description": "",
            "description_tooltip": null,
            "layout": "IPY_MODEL_38160dd746814b2b8bcc0599c030dbcd",
            "max": 1,
            "min": 0,
            "orientation": "horizontal",
            "style": "IPY_MODEL_21d8741566694648912e2b088d62197d",
            "value": 1
          }
        },
        "d7b4abdfcc454ebcb9286f49f324c4ed": {
          "model_module": "@jupyter-widgets/controls",
          "model_name": "HTMLModel",
          "state": {
            "_dom_classes": [],
            "_model_module": "@jupyter-widgets/controls",
            "_model_module_version": "1.5.0",
            "_model_name": "HTMLModel",
            "_view_count": null,
            "_view_module": "@jupyter-widgets/controls",
            "_view_module_version": "1.5.0",
            "_view_name": "HTMLView",
            "description": "",
            "description_tooltip": null,
            "layout": "IPY_MODEL_7f626a025e34462498990510f8324a37",
            "placeholder": "​",
            "style": "IPY_MODEL_a90be22caccc4e58b19e91494b483daf",
            "value": " 1889/0 [00:01&lt;00:00, 1748.14 examples/s]"
          }
        },
        "7c6828ddd3a24bcba9df3f7d8e6b49ca": {
          "model_module": "@jupyter-widgets/base",
          "model_name": "LayoutModel",
          "state": {
            "_model_module": "@jupyter-widgets/base",
            "_model_module_version": "1.2.0",
            "_model_name": "LayoutModel",
            "_view_count": null,
            "_view_module": "@jupyter-widgets/base",
            "_view_module_version": "1.2.0",
            "_view_name": "LayoutView",
            "align_content": null,
            "align_items": null,
            "align_self": null,
            "border": null,
            "bottom": null,
            "display": null,
            "flex": null,
            "flex_flow": null,
            "grid_area": null,
            "grid_auto_columns": null,
            "grid_auto_flow": null,
            "grid_auto_rows": null,
            "grid_column": null,
            "grid_gap": null,
            "grid_row": null,
            "grid_template_areas": null,
            "grid_template_columns": null,
            "grid_template_rows": null,
            "height": null,
            "justify_content": null,
            "justify_items": null,
            "left": null,
            "margin": null,
            "max_height": null,
            "max_width": null,
            "min_height": null,
            "min_width": null,
            "object_fit": null,
            "object_position": null,
            "order": null,
            "overflow": null,
            "overflow_x": null,
            "overflow_y": null,
            "padding": null,
            "right": null,
            "top": null,
            "visibility": null,
            "width": null
          }
        },
        "38160dd746814b2b8bcc0599c030dbcd": {
          "model_module": "@jupyter-widgets/base",
          "model_name": "LayoutModel",
          "state": {
            "_model_module": "@jupyter-widgets/base",
            "_model_module_version": "1.2.0",
            "_model_name": "LayoutModel",
            "_view_count": null,
            "_view_module": "@jupyter-widgets/base",
            "_view_module_version": "1.2.0",
            "_view_name": "LayoutView",
            "align_content": null,
            "align_items": null,
            "align_self": null,
            "border": null,
            "bottom": null,
            "display": null,
            "flex": null,
            "flex_flow": null,
            "grid_area": null,
            "grid_auto_columns": null,
            "grid_auto_flow": null,
            "grid_auto_rows": null,
            "grid_column": null,
            "grid_gap": null,
            "grid_row": null,
            "grid_template_areas": null,
            "grid_template_columns": null,
            "grid_template_rows": null,
            "height": null,
            "justify_content": null,
            "justify_items": null,
            "left": null,
            "margin": null,
            "max_height": null,
            "max_width": null,
            "min_height": null,
            "min_width": null,
            "object_fit": null,
            "object_position": null,
            "order": null,
            "overflow": null,
            "overflow_x": null,
            "overflow_y": null,
            "padding": null,
            "right": null,
            "top": null,
            "visibility": null,
            "width": null
          }
        },
        "21d8741566694648912e2b088d62197d": {
          "model_module": "@jupyter-widgets/controls",
          "model_name": "ProgressStyleModel",
          "state": {
            "_model_module": "@jupyter-widgets/controls",
            "_model_module_version": "1.5.0",
            "_model_name": "ProgressStyleModel",
            "_view_count": null,
            "_view_module": "@jupyter-widgets/base",
            "_view_module_version": "1.2.0",
            "_view_name": "StyleView",
            "bar_color": null,
            "description_width": "initial"
          }
        },
        "7f626a025e34462498990510f8324a37": {
          "model_module": "@jupyter-widgets/base",
          "model_name": "LayoutModel",
          "state": {
            "_model_module": "@jupyter-widgets/base",
            "_model_module_version": "1.2.0",
            "_model_name": "LayoutModel",
            "_view_count": null,
            "_view_module": "@jupyter-widgets/base",
            "_view_module_version": "1.2.0",
            "_view_name": "LayoutView",
            "align_content": null,
            "align_items": null,
            "align_self": null,
            "border": null,
            "bottom": null,
            "display": null,
            "flex": null,
            "flex_flow": null,
            "grid_area": null,
            "grid_auto_columns": null,
            "grid_auto_flow": null,
            "grid_auto_rows": null,
            "grid_column": null,
            "grid_gap": null,
            "grid_row": null,
            "grid_template_areas": null,
            "grid_template_columns": null,
            "grid_template_rows": null,
            "height": null,
            "justify_content": null,
            "justify_items": null,
            "left": null,
            "margin": null,
            "max_height": null,
            "max_width": null,
            "min_height": null,
            "min_width": null,
            "object_fit": null,
            "object_position": null,
            "order": null,
            "overflow": null,
            "overflow_x": null,
            "overflow_y": null,
            "padding": null,
            "right": null,
            "top": null,
            "visibility": null,
            "width": null
          }
        },
        "a90be22caccc4e58b19e91494b483daf": {
          "model_module": "@jupyter-widgets/controls",
          "model_name": "DescriptionStyleModel",
          "state": {
            "_model_module": "@jupyter-widgets/controls",
            "_model_module_version": "1.5.0",
            "_model_name": "DescriptionStyleModel",
            "_view_count": null,
            "_view_module": "@jupyter-widgets/base",
            "_view_module_version": "1.2.0",
            "_view_name": "StyleView",
            "description_width": ""
          }
        },
        "1f64559332b34817b79902cbf3a95874": {
          "model_module": "@jupyter-widgets/controls",
          "model_name": "HBoxModel",
          "state": {
            "_dom_classes": [],
            "_model_module": "@jupyter-widgets/controls",
            "_model_module_version": "1.5.0",
            "_model_name": "HBoxModel",
            "_view_count": null,
            "_view_module": "@jupyter-widgets/controls",
            "_view_module_version": "1.5.0",
            "_view_name": "HBoxView",
            "box_style": "",
            "children": [
              "IPY_MODEL_949d653bed1d4b3ebadef7af17c66881",
              "IPY_MODEL_1b4ea15ea4a34602840e812d3ec9b9c4"
            ],
            "layout": "IPY_MODEL_1d4604453a474e8b9071d3a725a6b64e"
          }
        },
        "949d653bed1d4b3ebadef7af17c66881": {
          "model_module": "@jupyter-widgets/controls",
          "model_name": "FloatProgressModel",
          "state": {
            "_dom_classes": [],
            "_model_module": "@jupyter-widgets/controls",
            "_model_module_version": "1.5.0",
            "_model_name": "FloatProgressModel",
            "_view_count": null,
            "_view_module": "@jupyter-widgets/controls",
            "_view_module_version": "1.5.0",
            "_view_name": "ProgressView",
            "bar_style": "danger",
            "description": " 68%",
            "description_tooltip": null,
            "layout": "IPY_MODEL_671808cd3a584d9094b9932c374ee80d",
            "max": 1889,
            "min": 0,
            "orientation": "horizontal",
            "style": "IPY_MODEL_b5a2cedd9abf4c76ba3f9d6a40b81621",
            "value": 1290
          }
        },
        "1b4ea15ea4a34602840e812d3ec9b9c4": {
          "model_module": "@jupyter-widgets/controls",
          "model_name": "HTMLModel",
          "state": {
            "_dom_classes": [],
            "_model_module": "@jupyter-widgets/controls",
            "_model_module_version": "1.5.0",
            "_model_name": "HTMLModel",
            "_view_count": null,
            "_view_module": "@jupyter-widgets/controls",
            "_view_module_version": "1.5.0",
            "_view_name": "HTMLView",
            "description": "",
            "description_tooltip": null,
            "layout": "IPY_MODEL_34910edc66ae407e8a01c4a9ab8ccf70",
            "placeholder": "​",
            "style": "IPY_MODEL_3742df9614464a36b65d866aee4c39f4",
            "value": " 1290/1889 [00:09&lt;00:27, 21.59 examples/s]"
          }
        },
        "1d4604453a474e8b9071d3a725a6b64e": {
          "model_module": "@jupyter-widgets/base",
          "model_name": "LayoutModel",
          "state": {
            "_model_module": "@jupyter-widgets/base",
            "_model_module_version": "1.2.0",
            "_model_name": "LayoutModel",
            "_view_count": null,
            "_view_module": "@jupyter-widgets/base",
            "_view_module_version": "1.2.0",
            "_view_name": "LayoutView",
            "align_content": null,
            "align_items": null,
            "align_self": null,
            "border": null,
            "bottom": null,
            "display": null,
            "flex": null,
            "flex_flow": null,
            "grid_area": null,
            "grid_auto_columns": null,
            "grid_auto_flow": null,
            "grid_auto_rows": null,
            "grid_column": null,
            "grid_gap": null,
            "grid_row": null,
            "grid_template_areas": null,
            "grid_template_columns": null,
            "grid_template_rows": null,
            "height": null,
            "justify_content": null,
            "justify_items": null,
            "left": null,
            "margin": null,
            "max_height": null,
            "max_width": null,
            "min_height": null,
            "min_width": null,
            "object_fit": null,
            "object_position": null,
            "order": null,
            "overflow": null,
            "overflow_x": null,
            "overflow_y": null,
            "padding": null,
            "right": null,
            "top": null,
            "visibility": null,
            "width": null
          }
        },
        "671808cd3a584d9094b9932c374ee80d": {
          "model_module": "@jupyter-widgets/base",
          "model_name": "LayoutModel",
          "state": {
            "_model_module": "@jupyter-widgets/base",
            "_model_module_version": "1.2.0",
            "_model_name": "LayoutModel",
            "_view_count": null,
            "_view_module": "@jupyter-widgets/base",
            "_view_module_version": "1.2.0",
            "_view_name": "LayoutView",
            "align_content": null,
            "align_items": null,
            "align_self": null,
            "border": null,
            "bottom": null,
            "display": null,
            "flex": null,
            "flex_flow": null,
            "grid_area": null,
            "grid_auto_columns": null,
            "grid_auto_flow": null,
            "grid_auto_rows": null,
            "grid_column": null,
            "grid_gap": null,
            "grid_row": null,
            "grid_template_areas": null,
            "grid_template_columns": null,
            "grid_template_rows": null,
            "height": null,
            "justify_content": null,
            "justify_items": null,
            "left": null,
            "margin": null,
            "max_height": null,
            "max_width": null,
            "min_height": null,
            "min_width": null,
            "object_fit": null,
            "object_position": null,
            "order": null,
            "overflow": null,
            "overflow_x": null,
            "overflow_y": null,
            "padding": null,
            "right": null,
            "top": null,
            "visibility": null,
            "width": null
          }
        },
        "b5a2cedd9abf4c76ba3f9d6a40b81621": {
          "model_module": "@jupyter-widgets/controls",
          "model_name": "ProgressStyleModel",
          "state": {
            "_model_module": "@jupyter-widgets/controls",
            "_model_module_version": "1.5.0",
            "_model_name": "ProgressStyleModel",
            "_view_count": null,
            "_view_module": "@jupyter-widgets/base",
            "_view_module_version": "1.2.0",
            "_view_name": "StyleView",
            "bar_color": null,
            "description_width": "initial"
          }
        },
        "34910edc66ae407e8a01c4a9ab8ccf70": {
          "model_module": "@jupyter-widgets/base",
          "model_name": "LayoutModel",
          "state": {
            "_model_module": "@jupyter-widgets/base",
            "_model_module_version": "1.2.0",
            "_model_name": "LayoutModel",
            "_view_count": null,
            "_view_module": "@jupyter-widgets/base",
            "_view_module_version": "1.2.0",
            "_view_name": "LayoutView",
            "align_content": null,
            "align_items": null,
            "align_self": null,
            "border": null,
            "bottom": null,
            "display": null,
            "flex": null,
            "flex_flow": null,
            "grid_area": null,
            "grid_auto_columns": null,
            "grid_auto_flow": null,
            "grid_auto_rows": null,
            "grid_column": null,
            "grid_gap": null,
            "grid_row": null,
            "grid_template_areas": null,
            "grid_template_columns": null,
            "grid_template_rows": null,
            "height": null,
            "justify_content": null,
            "justify_items": null,
            "left": null,
            "margin": null,
            "max_height": null,
            "max_width": null,
            "min_height": null,
            "min_width": null,
            "object_fit": null,
            "object_position": null,
            "order": null,
            "overflow": null,
            "overflow_x": null,
            "overflow_y": null,
            "padding": null,
            "right": null,
            "top": null,
            "visibility": null,
            "width": null
          }
        },
        "3742df9614464a36b65d866aee4c39f4": {
          "model_module": "@jupyter-widgets/controls",
          "model_name": "DescriptionStyleModel",
          "state": {
            "_model_module": "@jupyter-widgets/controls",
            "_model_module_version": "1.5.0",
            "_model_name": "DescriptionStyleModel",
            "_view_count": null,
            "_view_module": "@jupyter-widgets/base",
            "_view_module_version": "1.2.0",
            "_view_name": "StyleView",
            "description_width": ""
          }
        }
      }
    },
    "accelerator": "GPU"
  },
  "cells": [
    {
      "cell_type": "code",
      "metadata": {
        "colab": {
          "base_uri": "https://localhost:8080/"
        },
        "id": "V94NPhRHDy0h",
        "outputId": "02973d74-c42a-4806-ab42-f4b82356574a"
      },
      "source": [
        "# required all possible library\n",
        "# \n",
        "import io\n",
        "import os\n",
        "import re\n",
        "import shutil\n",
        "import string\n",
        "import pandas as pd \n",
        "import numpy as np\n",
        "import matplotlib.pyplot as plt \n",
        "import matplotlib as mpl\n",
        "import seaborn as sns\n",
        "import tensorflow as tf\n",
        "from tensorflow import keras\n",
        "from math import exp\n",
        "from sklearn.tree import DecisionTreeClassifier\n",
        "from sklearn.svm import SVC\n",
        "from  sklearn.ensemble import RandomForestClassifier\n",
        "from sklearn.preprocessing import StandardScaler\n",
        "from sklearn.metrics import mean_squared_error,confusion_matrix\n",
        "from sklearn.model_selection import train_test_split\n",
        "import tensorflow_hub as hub\n",
        "import tensorflow_datasets as tfds\n",
        "print(keras.__version__), print(tf.__version__),print(tf.test.is_built_with_cuda()),print(tf.test.is_built_with_gpu_support())\n",
        "tfds.disable_progress_bar()\n",
        "# usefull resizing image and for markup\n",
        "import io\n",
        "import os\n",
        "import re\n",
        "import shutil\n",
        "import string\n",
        "\n",
        "from tensorflow.keras import Sequential\n",
        "from tensorflow.keras.layers import Dense, Embedding, GlobalAveragePooling1D\n",
        "from tensorflow.keras.layers.experimental.preprocessing import TextVectorization\n",
        "def image_resize_fun(img_path):\n",
        "    import PIL\n",
        "\n",
        "    # img_path = \"/content/effiecient model performance graph.png\"\n",
        "    img = PIL.Image.open(img_path)\n",
        "    im = img.size\n",
        "    resized_im = img.resize((round(im[0]*0.5), round(im[1]*0.5)))\n",
        "    resized_im.size,\n",
        "    resized_im.show()\n",
        "    resized_im.save(\"efficient_resized.png\")"
      ],
      "execution_count": 6,
      "outputs": [
        {
          "output_type": "stream",
          "text": [
            "2.5.0\n",
            "2.5.0\n",
            "True\n",
            "True\n"
          ],
          "name": "stdout"
        }
      ]
    },
    {
      "cell_type": "markdown",
      "metadata": {
        "id": "oestuOumDzPq"
      },
      "source": [
        "# RNN  and Time series data prediction"
      ]
    },
    {
      "cell_type": "markdown",
      "metadata": {
        "id": "wzDLyuZaXDma"
      },
      "source": [
        "It is LSTM Layer in RNN"
      ]
    },
    {
      "cell_type": "markdown",
      "metadata": {
        "id": "4euqmqvmW9GC"
      },
      "source": [
        "![LSTM cell RNN.png](data:image/png;base64,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)"
      ]
    },
    {
      "cell_type": "markdown",
      "metadata": {
        "id": "zbHA2eeScI9_"
      },
      "source": [
        "![GRU Cell RNN.png](data:image/png;base64,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)"
      ]
    },
    {
      "cell_type": "markdown",
      "metadata": {
        "id": "4ihnkJhYEtT-"
      },
      "source": [
        ""
      ]
    },
    {
      "cell_type": "markdown",
      "metadata": {
        "id": "Xga8BNXIEuCv"
      },
      "source": [
        "# Natural Language Processing and RNN\n",
        "Using RNN archictecture for NLP tasks"
      ]
    },
    {
      "cell_type": "code",
      "metadata": {
        "id": "QE8S8hqrXAj_"
      },
      "source": [
        "inputs = np.random.random([32, 10, 8]).astype(np.float32)\n",
        "simple_rnn = tf.keras.layers.SimpleRNN(4)\n",
        "\n",
        "output = simple_rnn(inputs)  # The output has shape `[32, 4]`.\n",
        "\n",
        "simple_rnn = tf.keras.layers.SimpleRNN(\n",
        "    4, return_sequences=True, return_state=True)\n",
        "\n",
        "# whole_sequence_output has shape `[32, 10, 4]`.\n",
        "# final_state has shape `[32, 4]`.\n",
        "whole_sequence_output, final_state = simple_rnn(inputs)"
      ],
      "execution_count": null,
      "outputs": []
    },
    {
      "cell_type": "code",
      "metadata": {
        "id": "nDpfJwpC4Ky0"
      },
      "source": [
        "whole_sequence_output.shape\n",
        "final_state.shape"
      ],
      "execution_count": null,
      "outputs": []
    },
    {
      "cell_type": "code",
      "metadata": {
        "id": "2JuLCSu9Fqom"
      },
      "source": [
        "shakespeare_url = \"https://homl.info/shakespeare\" # shortcut URL\n",
        "filepath = keras.utils.get_file(\"shakespeare.txt\", shakespeare_url)\n",
        "with open(filepath) as f:\n",
        "    shakespeare_text = f.read()\n",
        "\n"
      ],
      "execution_count": null,
      "outputs": []
    },
    {
      "cell_type": "code",
      "metadata": {
        "id": "ZG0t_1vJyNi1"
      },
      "source": [
        "word_tokenizer = keras.preprocessing.text.Tokenizer(char_level=True)\n",
        "\n",
        "word_tokenizer.fit_on_texts(shakespeare_text)\n",
        "max_id = len(word_tokenizer.word_index)\n"
      ],
      "execution_count": null,
      "outputs": []
    },
    {
      "cell_type": "code",
      "metadata": {
        "id": "eh7vNMgqzmar"
      },
      "source": [
        "[encoded] = word_tokenizer.texts_to_sequences([shakespeare_text[:]])\n",
        "len(word_tokenizer.word_index)\n",
        "# word_tokenizer.document_count\n",
        "\n",
        "[encoded] = np.array(word_tokenizer.texts_to_sequences([shakespeare_text])) - 1\n",
        "encoded"
      ],
      "execution_count": null,
      "outputs": []
    },
    {
      "cell_type": "markdown",
      "metadata": {
        "id": "QU5vqiVTH3qh"
      },
      "source": [
        "![window_tokenizer.png](data:image/png;base64,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)"
      ]
    },
    {
      "cell_type": "code",
      "metadata": {
        "id": "gfNBlVIz0yTd"
      },
      "source": [
        "dataset_size = word_tokenizer.document_count\n",
        "train_size = dataset_size * 90 // 100\n",
        "dataset = tf.data.Dataset.from_tensor_slices(encoded[:train_size])\n",
        "\n",
        "n_steps = 100\n",
        "window_length = n_steps + 1 # target = input shifted 1 character ahead\n",
        "dataset = dataset.window(window_length, shift=1, drop_remainder=True)\n",
        "dataset\n",
        "dataset = dataset.flat_map(lambda window: window.batch(window_length))\n",
        "batch_size=40\n",
        "# before\n",
        "for i in dataset.take(1):\n",
        "    first = i\n",
        "\n",
        "# after suffling and taking batch tensor of size 100 or \n",
        "dataset = dataset.shuffle(10000).batch(batch_size)\n",
        "dataset = dataset.map(lambda window: (window[:,:-1],window[:,1:]))\n",
        "dataset = dataset.map(lambda X_batch,y_batch: (tf.one_hot(X_batch,depth=max_id),y_batch))\n",
        "dataset = dataset.prefetch(1)"
      ],
      "execution_count": null,
      "outputs": []
    },
    {
      "cell_type": "code",
      "metadata": {
        "id": "6-9crF0OF8_Q"
      },
      "source": [
        "# it is taking very very long and need something perhaps I don't know and we will take it after some time but it important\n",
        "model = keras.Sequential([\n",
        "                          keras.layers.GRU(39,return_sequences=True,dropout=0.2,recurrent_dropout=0.2,input_shape=[None,max_id]),\n",
        "                          keras.layers.GRU(39,return_sequences=True,dropout=0.2,recurrent_dropout=0.2),\n",
        "                          keras.layers.TimeDistributed(keras.layers.Dense(max_id,activation=\"softmax\"))\n",
        "\n",
        "])\n",
        "\n",
        "model.compile(optimizer=\"adam\",loss='sparse_categorical_crossentropy')\n",
        "\n",
        "model.fit(dataset,epochs=5)"
      ],
      "execution_count": null,
      "outputs": []
    },
    {
      "cell_type": "code",
      "metadata": {
        "id": "XWSRTtVs96GL"
      },
      "source": [
        "# print(word_tokenizer.sequences_to_texts([first_map[0].numpy()])[0])\n",
        "\n",
        "train_size = dataset_size * 40 // 100\n",
        "\n",
        "dataset = tf.data.Dataset.from_tensor_slices(encoded[:train_size])\n",
        "dataset = dataset.window(window_length, shift=n_steps, drop_remainder=True)\n",
        "dataset = dataset.flat_map(lambda window: window.batch(window_length))\n",
        "dataset = dataset.batch(1)\n",
        "dataset = dataset.map(lambda windows: (windows[:, :-1], windows[:, 1:]))\n",
        "dataset = dataset.map(\n",
        "    lambda X_batch, Y_batch: (tf.one_hot(X_batch, depth=max_id), Y_batch))\n",
        "dataset = dataset.prefetch(1)\n",
        "\n",
        "model = keras.models.Sequential([\n",
        "    keras.layers.GRU(128, return_sequences=True, stateful=True,\n",
        "                     dropout=0.2, recurrent_dropout=0.2,\n",
        "                     batch_input_shape=[1, None, max_id]),\n",
        "    keras.layers.GRU(128, return_sequences=True, stateful=True,\n",
        "                     dropout=0.2, recurrent_dropout=0.2),\n",
        "    keras.layers.TimeDistributed(keras.layers.Dense(max_id,\n",
        "                                                    activation=\"softmax\"))\n",
        "])\n",
        "\n",
        "\n",
        "class ResetStatesCallback(keras.callbacks.Callback):\n",
        "    def on_epoch_begin(self, epoch, logs):\n",
        "        self.model.reset_states()\n",
        "\n",
        "model.compile(loss=\"sparse_categorical_crossentropy\", optimizer=\"adam\")\n",
        "model.fit(dataset, epochs=5, callbacks=[ResetStatesCallback()])"
      ],
      "execution_count": null,
      "outputs": []
    },
    {
      "cell_type": "code",
      "metadata": {
        "id": "ataXE8PkIczW"
      },
      "source": [
        ""
      ],
      "execution_count": null,
      "outputs": []
    },
    {
      "cell_type": "code",
      "metadata": {
        "id": "KDWr7s0eF6Yi"
      },
      "source": [
        "print(word_tokenizer.sequences_to_texts([first.numpy()])[0])\n"
      ],
      "execution_count": null,
      "outputs": []
    },
    {
      "cell_type": "code",
      "metadata": {
        "id": "7nKVkKOoX8yk"
      },
      "source": [
        "# loading imdb movie rating data which has 25,000 training and 25000 test all are reviews stored as list indec by their frequency\n",
        "\n",
        "import tensorflow_datasets as tfds\n",
        "\n",
        "datasets, info = tfds.load(\"imdb_reviews\", as_supervised=True, with_info=True)\n",
        "train_size = info.splits[\"train\"].num_examples\n"
      ],
      "execution_count": null,
      "outputs": []
    },
    {
      "cell_type": "code",
      "metadata": {
        "id": "m2H056JEX8kq"
      },
      "source": [
        "datasets"
      ],
      "execution_count": null,
      "outputs": []
    },
    {
      "cell_type": "code",
      "metadata": {
        "id": "2HVZBpRBdLv1"
      },
      "source": [
        "def preprocess(X_batch, y_batch):\n",
        "    X_batch = tf.strings.substr(X_batch, 0, 300)\n",
        "    X_batch = tf.strings.regex_replace(X_batch, b\"<br\\\\s*/?>\", b\" \")\n",
        "    X_batch = tf.strings.regex_replace(X_batch, b\"[^a-zA-Z']\", b\" \")\n",
        "    X_batch = tf.strings.split(X_batch)\n",
        "    return X_batch.to_tensor(default_value=b\"<pad>\"), y_batch\n",
        "\n",
        "\n",
        "from collections import Counter\n",
        "vocab = Counter()\n",
        "for X_batch,y_batch in datasets['train'].batch(32).map(preprocess):\n",
        "    for review in X_batch:\n",
        "        vocab.update(list(review.numpy()))\n",
        "vocab"
      ],
      "execution_count": null,
      "outputs": []
    },
    {
      "cell_type": "code",
      "metadata": {
        "id": "I8yNeRkbeEZq"
      },
      "source": [
        "vocab.most_common()[:3]\n",
        "vocab_size = 10000\n",
        "truncate_vocab = [word for word,count in vocab.most_common()[:vocab_size]]\n",
        "\n",
        "len(truncate_vocab)\n",
        "\n",
        "words = tf.constant(truncate_vocab)\n",
        "word_ids = tf.range(len(words),dtype=tf.int64)\n",
        "\n",
        "vocab_init = tf.lookup.KeyValueTensorInitializer(words, word_ids)\n",
        "num_oov_buckets = 1000\n",
        "table = tf.lookup.StaticVocabularyTable(vocab_init, num_oov_buckets)"
      ],
      "execution_count": null,
      "outputs": []
    },
    {
      "cell_type": "code",
      "metadata": {
        "id": "Qtkq00EyfS7_"
      },
      "source": [
        "table.lookup(tf.constant([b\"I hate this movie\".split()]))"
      ],
      "execution_count": null,
      "outputs": []
    },
    {
      "cell_type": "code",
      "metadata": {
        "id": "01XYo4TffiFO"
      },
      "source": [
        "def encode_word(X_batch,y_batch):\n",
        "    return table.lookup(X_batch),y_batch\n",
        "\n",
        "train_set = datasets['train'].batch(32).map(preprocess)\n",
        "train_set = train_set.map(encode_word).prefetch(1)"
      ],
      "execution_count": null,
      "outputs": []
    },
    {
      "cell_type": "code",
      "metadata": {
        "id": "y-R_fwpOgxSk"
      },
      "source": [
        "embed_size = 128\n",
        "model = keras.models.Sequential([\n",
        "    keras.layers.Embedding(vocab_size + num_oov_buckets, embed_size,\n",
        "                           input_shape=[None]),\n",
        "    keras.layers.GRU(128, return_sequences=True),\n",
        "    keras.layers.GRU(128),\n",
        "    keras.layers.Dense(1, activation=\"sigmoid\")\n",
        "])\n",
        "model.compile(loss=\"binary_crossentropy\", optimizer=\"adam\",\n",
        "              metrics=[\"accuracy\"])\n",
        "history = model.fit(train_set, epochs=5)"
      ],
      "execution_count": null,
      "outputs": []
    },
    {
      "cell_type": "code",
      "metadata": {
        "id": "xXc2HDokg5Nl"
      },
      "source": [
        "model.save(\"/content/mydrive/MyDrive/imdb_model/\")"
      ],
      "execution_count": null,
      "outputs": []
    },
    {
      "cell_type": "code",
      "metadata": {
        "id": "1r_HCHMojrJ2"
      },
      "source": [
        "\n",
        "model = keras.Sequential([\n",
        "    hub.KerasLayer(\"https://tfhub.dev/google/tf2-preview/nnlm-en-dim50/1\",\n",
        "                   dtype=tf.string, input_shape=[], output_shape=[50]),\n",
        "    keras.layers.Dense(128, activation=\"relu\"),\n",
        "    keras.layers.Dense(1, activation=\"sigmoid\")\n",
        "])\n",
        "model.compile(loss=\"binary_crossentropy\", optimizer=\"adam\",\n",
        "              metrics=[\"accuracy\"])\n",
        "\n",
        "datasets, info = tfds.load(\"imdb_reviews\", as_supervised=True, with_info=True)\n",
        "train_size = info.splits[\"train\"].num_examples\n",
        "batch_size = 32\n",
        "train_set = datasets[\"train\"].batch(batch_size).prefetch(1)\n",
        "history = model.fit(train_set, epochs=5)\n",
        "train_set"
      ],
      "execution_count": null,
      "outputs": []
    },
    {
      "cell_type": "code",
      "metadata": {
        "id": "60afilWNjpOz"
      },
      "source": [
        "test_dataset = datasets[\"test\"].batch(batch_size).prefetch(1)\n",
        "\n",
        "model.evaluate(test_dataset)\n"
      ],
      "execution_count": null,
      "outputs": []
    },
    {
      "cell_type": "code",
      "metadata": {
        "id": "ZrYU9bKWkfRF"
      },
      "source": [
        "for i in test_dataset.take(1):\n",
        "    print(len(i),i[0].numpy()[0])\n",
        "    ts = i[0].numpy()\n"
      ],
      "execution_count": null,
      "outputs": []
    },
    {
      "cell_type": "code",
      "metadata": {
        "id": "zMNxOnvXqS4U"
      },
      "source": [
        "ts = tf.constant(ts)\n",
        "pred = np.argmax(model.predict(ts), axis=-1)\n",
        "print(\"review:\\t{}\\nprediction\\t{} \\n\\t\".format(tf.compat.as_str(ts[1].numpy())[:60], pred[0]))"
      ],
      "execution_count": null,
      "outputs": []
    },
    {
      "cell_type": "code",
      "metadata": {
        "id": "3r0j_LRsrF8r"
      },
      "source": [
        "tf.compat.as_str(ts[0].numpy())"
      ],
      "execution_count": null,
      "outputs": []
    },
    {
      "cell_type": "code",
      "metadata": {
        "id": "LuMIFdVqq2fU"
      },
      "source": [
        "def plot_graphs(history, metric):\n",
        "  plt.plot(history.history[metric])\n",
        "  if 'val_'+metric in history.history:\n",
        "    plt.plot(history.history['val_'+metric], '')\n",
        "  plt.xlabel(\"Epochs\")\n",
        "  plt.ylabel(metric)\n",
        "  plt.legend([metric, 'val_'+metric])\n",
        "\n",
        "plot_graphs(history,'accuracy')\n",
        "\n",
        "# history.history"
      ],
      "execution_count": null,
      "outputs": []
    },
    {
      "cell_type": "code",
      "metadata": {
        "id": "AkjuIkS0kttp"
      },
      "source": [
        "for i in train_dataset.take(1):\n",
        "    print(len(i),i['label'],(i['text'])[0])"
      ],
      "execution_count": null,
      "outputs": []
    },
    {
      "cell_type": "code",
      "metadata": {
        "id": "s52aL9TOzJ9p"
      },
      "source": [
        "for example, label in train_dataset.take(1):\n",
        "  print('texts: ', example.numpy()[:3])\n",
        "  print()\n",
        "  print('labels: ', label.numpy()[:3])\n"
      ],
      "execution_count": null,
      "outputs": []
    },
    {
      "cell_type": "code",
      "metadata": {
        "id": "6zV4D5QclotF"
      },
      "source": [
        "VOCAB_SIZE = 1000\n",
        "encoder = tf.keras.layers.experimental.preprocessing.TextVectorization(\n",
        "    max_tokens=VOCAB_SIZE)\n",
        "encoder.adapt(train_dataset.map(lambda text, label: text))\n",
        "\n",
        "example"
      ],
      "execution_count": null,
      "outputs": []
    },
    {
      "cell_type": "code",
      "metadata": {
        "id": "enSWJEEduWOy"
      },
      "source": [
        "model = keras.Sequential([encoder,\n",
        "                          keras.layers.Embedding(input_dim=len(encoder.get_vocabulary()),output_dim=64,mask_zero=True),\n",
        "                          keras.layers.Bidirectional(keras.layers.LSTM(64)),\n",
        "                          keras.layers.Dense(64,\"relu\"),\n",
        "                          keras.layers.Dense(1)\n",
        "\n",
        "])\n",
        "\n",
        "model.compile(loss=tf.keras.losses.BinaryCrossentropy(from_logits=True),\n",
        "              optimizer=tf.keras.optimizers.Adam(1e-4),\n",
        "              metrics=['accuracy'])\n",
        "\n",
        "model.fit(train_dataset,epochs=5,validation_data=test_dataset,validation_steps=30)"
      ],
      "execution_count": null,
      "outputs": []
    },
    {
      "cell_type": "code",
      "metadata": {
        "id": "YP8lYJGR3Bov"
      },
      "source": [
        "sample_text = ('i just like this movie')\n",
        "# predictions = model.predict(np.array([sample_text]))\n",
        "predictions = np.argmax(model.predict(test_dataset),axis=-1)\n",
        "print(predictions)"
      ],
      "execution_count": null,
      "outputs": []
    },
    {
      "cell_type": "code",
      "metadata": {
        "id": "_kD0w2aMr7lC"
      },
      "source": [
        "datasets,info = tfds.load(\"fashion_mnist\",with_info=True,as_supervised=True)\n",
        "example = info.splits['train'].num_examples\n",
        "train_dataset = datasets['train'].shuffle(example).batch(32).prefetch(1)\n",
        "valid_dataset = datasets['test'].shuffle(example).batch(32).prefetch(1)"
      ],
      "execution_count": null,
      "outputs": []
    },
    {
      "cell_type": "code",
      "metadata": {
        "id": "vEPF1cCxs1dB"
      },
      "source": [
        ""
      ],
      "execution_count": null,
      "outputs": []
    },
    {
      "cell_type": "code",
      "metadata": {
        "id": "tDBxMYz4vKgi"
      },
      "source": [
        "X_train.shape,X_valid.shape,y_train.shape,y_valid.shape"
      ],
      "execution_count": null,
      "outputs": []
    },
    {
      "cell_type": "code",
      "metadata": {
        "id": "XjhbMFY6CmrG"
      },
      "source": [
        "fashion_mnist = keras.datasets.fashion_mnist\n",
        "(X_train_full, y_train_full), (X_test, y_test) = fashion_mnist.load_data()\n",
        "\n",
        "X_valid, X_train = X_train_full[:5000] / 255.0, X_train_full[5000:] / 255.0\n",
        "y_valid, y_train = y_train_full[:5000], y_train_full[5000:]\n",
        "X_test = X_test / 255.0\n",
        "\n",
        "\n",
        "\n",
        "stacked_encoder = keras.models.Sequential([\n",
        "    keras.layers.Flatten(input_shape=[28, 28]),\n",
        "    keras.layers.Dense(100, activation=\"selu\"),\n",
        "    keras.layers.Dense(30, activation=\"selu\"),\n",
        "])\n",
        "stacked_decoder = keras.models.Sequential([\n",
        "    keras.layers.Dense(100, activation=\"selu\", input_shape=[30]),\n",
        "    keras.layers.Dense(28 * 28, activation=\"sigmoid\"),\n",
        "    keras.layers.Reshape([28, 28])\n",
        "])\n",
        "stacked_ae = keras.models.Sequential([stacked_encoder, stacked_decoder])\n",
        "stacked_ae.compile(loss=keras.losses.binary_crossentropy,\n",
        "                   optimizer=keras.optimizers.SGD(learning_rate=1.5))\n",
        "history = stacked_ae.fit(X_train, X_train, epochs=10\n",
        "                         )\n",
        "\n",
        "stacked_ae.summary()"
      ],
      "execution_count": null,
      "outputs": []
    },
    {
      "cell_type": "code",
      "metadata": {
        "id": "RHyLiTwVxP6S"
      },
      "source": [
        "stacked_ae.summary()"
      ],
      "execution_count": null,
      "outputs": []
    },
    {
      "cell_type": "code",
      "metadata": {
        "id": "G5oqFX-RDuk4"
      },
      "source": [
        "history.history"
      ],
      "execution_count": null,
      "outputs": []
    },
    {
      "cell_type": "code",
      "metadata": {
        "id": "qo3giR7byzu7"
      },
      "source": [
        "fig,ax = plt.subplots(2,6,figsize=(12,5))\n",
        "i,ct=0,0\n",
        "# while i<2:\n",
        "for j in range(1,7):\n",
        "    r = stacked_ae.predict(X_train[(j-1):j]).reshape(28,28)\n",
        "    ax[0][j-1].imshow(r,cmap=\"gray\")\n",
        "    ax[0][j-1].set_title(y_train[j-1])\n",
        "    ax[0][j-1].axis(\"off\")\n",
        "\n",
        "for j in range(6):\n",
        "    # r = stacked_ae.predict().reshape(28,28)\n",
        "    o = X_train[j].reshape(28,28)\n",
        "\n",
        "    ax[1][j].imshow(o,cmap=\"gray\")\n",
        "    ax[1][j].set_title(y_train[j])\n",
        "    ax[1][j].axis(\"off\")\n",
        "\n",
        "\n"
      ],
      "execution_count": null,
      "outputs": []
    },
    {
      "cell_type": "code",
      "metadata": {
        "id": "ObAwepHz3Gdf"
      },
      "source": [
        "cfir = keras.datasets.cifar10\n",
        "(X_train_full, y_train_full), (X_test, y_test) = cfir.load_data()\n",
        "\n",
        "X_valid, X_train = X_train_full[:5000] / 255.0, X_train_full[5000:] / 255.0\n",
        "y_valid, y_train = y_train_full[:5000], y_train_full[5000:]\n",
        "X_test = X_test / 255.0\n",
        "\n",
        "stacked_encoder = keras.models.Sequential([\n",
        "    keras.layers.Flatten(input_shape=[32, 32,3]),\n",
        "    keras.layers.Dense(200, activation=\"selu\"),\n",
        "    keras.layers.Dense(200, activation=\"selu\"),\n",
        "    keras.layers.Dense(100, activation=\"selu\"),\n",
        "])\n",
        "\n",
        "stacked_decoder = keras.models.Sequential([\n",
        "    keras.layers.Dense(100, activation=\"selu\", input_shape=[100]),\n",
        "    keras.layers.Dense(200, activation=\"selu\"),\n",
        "    keras.layers.Dense(32 *32*3 , activation=\"sigmoid\"),\n",
        "    keras.layers.Reshape([32, 32,3])\n",
        "])\n",
        "\n",
        "stacked_ae = keras.models.Sequential([stacked_encoder, stacked_decoder])\n",
        "stacked_ae.compile(loss=keras.losses.binary_crossentropy,\n",
        "                   optimizer=keras.optimizers.Nadam())\n",
        "history = stacked_ae.fit(X_train, X_train, epochs=20  )\n",
        "\n",
        "stacked_ae.summary()"
      ],
      "execution_count": null,
      "outputs": []
    },
    {
      "cell_type": "code",
      "metadata": {
        "id": "KqFPH7wY86XP"
      },
      "source": [
        "def plot_image_owner(model)\n",
        "    fig,ax = plt.subplots(2,6,figsize=(12,5))\n",
        "    i,ct=0,0\n",
        "    # while i<2:\n",
        "    for j in range(1,7):\n",
        "        r = model.predict(X_train[(j-1):j]).reshape(32,32,3)\n",
        "        ax[0][j-1].imshow(r,cmap=\"gray\")\n",
        "        ax[0][j-1].set_title(y_train[j-1])\n",
        "        ax[0][j-1].axis(\"off\")\n",
        "\n",
        "    for j in range(6):\n",
        "        # r = stacked_ae.predict().reshape(28,28)\n",
        "        o = X_train[j].reshape(32,32,3)\n",
        "\n",
        "        ax[1][j].imshow(o,cmap=\"gray\")\n",
        "        ax[1][j].set_title(y_train[j])\n",
        "        ax[1][j].axis(\"off\")\n",
        "\n",
        "\n"
      ],
      "execution_count": null,
      "outputs": []
    },
    {
      "cell_type": "code",
      "metadata": {
        "id": "gteJsrcbEQdm"
      },
      "source": [
        "# more clean code for image plot and compare\n",
        "def plot_image(idx):\n",
        "    plt.imshow(idx,cmap=\"gray\")\n",
        "    plt.axis(\"off\")\n",
        "\n",
        "def show_reconstructions(model, n_images=5):\n",
        "    reconstructions = model.predict(X_valid[:n_images])\n",
        "    fig = plt.figure(figsize=(n_images *2, 3))\n",
        "    for image_index in range(n_images):\n",
        "        plt.subplot(2, n_images, 1 + image_index)\n",
        "        plot_image(X_valid[image_index])\n",
        "        plt.subplot(2, n_images, 1 + n_images + image_index)\n",
        "        plot_image(reconstructions[image_index])\n",
        "show_reconstructions(stacked_ae, n_images=5)"
      ],
      "execution_count": null,
      "outputs": []
    },
    {
      "cell_type": "code",
      "metadata": {
        "id": "Q1xXlMc8Mr8V"
      },
      "source": [
        "from sklearn.manifold import TSNE\n",
        "\n",
        "stacked_encoder = keras.models.Sequential([\n",
        "    keras.layers.Flatten(input_shape=[32, 32,3]),\n",
        "    keras.layers.Dense(200, activation=\"selu\"),\n",
        "    keras.layers.Dense(50, activation=\"selu\"),\n",
        "])\n",
        "\n",
        "\n",
        "X_valid_compressed = stacked_encoder.predict(X_valid)\n",
        "\n",
        "tsne_comp = TSNE()\n",
        "\n",
        "X_valid_2D = tsne_comp.fit_transform(X_valid_compressed)\n"
      ],
      "execution_count": null,
      "outputs": []
    },
    {
      "cell_type": "code",
      "metadata": {
        "id": "ia06L8ZiNlt1"
      },
      "source": [
        "fig,ax = plt.subplots(1,figsize=(15,10))\n",
        "plt.scatter(X_valid_2D[:, 0], X_valid_2D[:, 1], c=y_valid, s=10, cmap=\"tab10\")"
      ],
      "execution_count": null,
      "outputs": []
    },
    {
      "cell_type": "code",
      "metadata": {
        "id": "0FQIVQufQK_j"
      },
      "source": [
        "tf.multiply(4,5)"
      ],
      "execution_count": null,
      "outputs": []
    },
    {
      "cell_type": "code",
      "metadata": {
        "id": "E1X9nl24QLT6"
      },
      "source": [
        "\n",
        "class DenseTranspose(keras.layers.Layer):\n",
        "    def __init__(self, dense, activation=None, **kwargs):\n",
        "        self.dense = dense\n",
        "        self.activation = keras.activations.get(activation)\n",
        "        super().__init__(**kwargs)\n",
        "    def build(self, batch_input_shape):\n",
        "        self.biases = self.add_weight(name=\"bias\", initializer=\"zeros\",\n",
        "                                      shape=[self.dense.input_shape[-1]])\n",
        "        super().build(batch_input_shape)\n",
        "    def call(self, inputs):\n",
        "        z = tf.matmul(inputs, self.dense.weights[0], transpose_b=True)\n",
        "        return self.activation(z + self.biases)\n",
        "\n",
        "# it is using same structure as above but this time we are using weights of autoencoder for decoder, so number of\n",
        "# paramerter learning is half, increases performance and loss is also comparable\n",
        "dense_1 = keras.layers.Dense(300, activation=\"selu\")\n",
        "dense_2 = keras.layers.Dense(100, activation=\"selu\")\n",
        "\n",
        "tied_encoder = keras.models.Sequential([\n",
        "    keras.layers.Flatten(input_shape=[32,32,3]),\n",
        "    dense_1,\n",
        "    dense_2\n",
        "])\n",
        "\n",
        "\n",
        "tied_decoder = keras.models.Sequential([\n",
        "    DenseTranspose(dense_2, activation=\"selu\"),\n",
        "    DenseTranspose(dense_1, activation=\"sigmoid\"),\n",
        "    keras.layers.Reshape([32,32,3])\n",
        "])\n",
        "\n",
        "tied_ae = keras.models.Sequential([tied_encoder, tied_decoder])\n",
        "tied_ae.compile(loss=keras.losses.binary_crossentropy,\n",
        "                   optimizer=keras.optimizers.Nadam())\n",
        "history= tied_ae.fit(X_train,X_train,epochs=10,validation_data=[X_valid,X_valid])"
      ],
      "execution_count": null,
      "outputs": []
    },
    {
      "cell_type": "code",
      "metadata": {
        "id": "vVOUAWzeXnAq"
      },
      "source": [
        "stacked_encoder.weights[0]"
      ],
      "execution_count": null,
      "outputs": []
    },
    {
      "cell_type": "code",
      "metadata": {
        "id": "LtZtMZL5ZtqC"
      },
      "source": [
        "conv_encoder = keras.models.Sequential([\n",
        "    keras.layers.Reshape([28, 28, 1], input_shape=[28, 28]),\n",
        "    keras.layers.Conv2D(16, kernel_size=3, padding=\"same\", activation=\"selu\"),\n",
        "    keras.layers.MaxPool2D(pool_size=2),\n",
        "    keras.layers.Conv2D(32, kernel_size=3, padding=\"same\", activation=\"selu\"),\n",
        "    keras.layers.MaxPool2D(pool_size=2),\n",
        "    keras.layers.Conv2D(64, kernel_size=3, padding=\"same\", activation=\"selu\"),\n",
        "    keras.layers.MaxPool2D(pool_size=2)\n",
        "])\n",
        "conv_decoder = keras.models.Sequential([\n",
        "    keras.layers.Conv2DTranspose(32, kernel_size=3, strides=2, padding=\"valid\",\n",
        "                                 activation=\"selu\",\n",
        "                                 input_shape=[3, 3, 64]),\n",
        "    keras.layers.Conv2DTranspose(16, kernel_size=3, strides=2, padding=\"same\",\n",
        "                                 activation=\"selu\"),\n",
        "    keras.layers.Conv2DTranspose(1, kernel_size=3, strides=2, padding=\"same\",\n",
        "                                 activation=\"sigmoid\"),\n",
        "    keras.layers.Reshape([28, 28])\n",
        "])\n",
        "conv_ae = keras.models.Sequential([conv_encoder, conv_decoder])\n",
        "\n",
        "conv_ae.compile(optimizer=keras.optimizers.Nadam(),loss=keras.losses.binary_crossentropy,metrics=['accuracy'])\n",
        "\n",
        "# mnist = keras.datasets\n",
        "(X_train_full, y_train_full), (X_test, y_test) = keras.datasets.fashion_mnist.load_data()\n",
        "\n",
        "X_valid, X_train = X_train_full[:5000] / 255.0, X_train_full[5000:] / 255.0\n",
        "y_valid, y_train = y_train_full[:5000], y_train_full[5000:]\n",
        "X_test = X_test / 255.0\n",
        "\n",
        "\n",
        "conv_ae.fit(X_train,X_train,epochs=10,validation_data=(X_valid,X_valid))"
      ],
      "execution_count": null,
      "outputs": []
    },
    {
      "cell_type": "code",
      "metadata": {
        "id": "7qE9zRpIrPQ-"
      },
      "source": [
        "show_reconstructions(conv_ae,n_images=20)"
      ],
      "execution_count": null,
      "outputs": []
    },
    {
      "cell_type": "code",
      "metadata": {
        "id": "R9Mq-uZsm_4A"
      },
      "source": [
        "recurrent_encoder = keras.models.Sequential([\n",
        "    keras.layers.LSTM(100, return_sequences=True, input_shape=[None, 28]),\n",
        "    keras.layers.LSTM(30)\n",
        "])\n",
        "recurrent_decoder = keras.models.Sequential([\n",
        "    keras.layers.RepeatVector(28, input_shape=[30]),\n",
        "    keras.layers.LSTM(100, return_sequences=True),\n",
        "    keras.layers.TimeDistributed(keras.layers.Dense(28, activation=\"sigmoid\"))\n",
        "])\n",
        "recurrent_ae = keras.models.Sequential([recurrent_encoder, recurrent_decoder])\n",
        "\n",
        "recurrent_ae.compile(optimizer=keras.optimizers.Nadam(),loss=keras.losses.binary_crossentropy,metrics=['accuracy'])\n"
      ],
      "execution_count": null,
      "outputs": []
    },
    {
      "cell_type": "code",
      "metadata": {
        "id": "dNUc8ohopPY5"
      },
      "source": [
        "dropout_encoder = keras.models.Sequential([\n",
        "    keras.layers.Flatten(input_shape=[28, 28]),\n",
        "    keras.layers.Dropout(0.5),\n",
        "    keras.layers.Dense(100, activation=\"selu\"),\n",
        "    keras.layers.Dense(30, activation=\"selu\")\n",
        "])\n",
        "dropout_decoder = keras.models.Sequential([\n",
        "    keras.layers.Dense(100, activation=\"selu\", input_shape=[30]),\n",
        "    keras.layers.Dense(28 * 28, activation=\"sigmoid\"),\n",
        "    keras.layers.Reshape([28, 28])\n",
        "])\n",
        "dropout_ae = keras.models.Sequential([dropout_encoder, dropout_decoder])\n",
        "dropout.compile(optimizer=keras.optimizers.Nadam(),loss=keras.losses.binary_crossentropy,metrics=['accuracy'])\n"
      ],
      "execution_count": null,
      "outputs": []
    },
    {
      "cell_type": "code",
      "metadata": {
        "id": "tU4CL0AbviHK"
      },
      "source": [
        "K = keras.backend\n",
        "class Sampling(keras.layers.Layer):\n",
        "    def call(self, inputs):\n",
        "        mean, log_var = inputs\n",
        "        return K.random_normal(tf.shape(log_var)) * K.exp(log_var / 2) + mean\n",
        "\n",
        "\n",
        "codings_size = 10\n",
        "\n",
        "inputs = keras.layers.Input(shape=[28, 28])\n",
        "z = keras.layers.Flatten()(inputs)\n",
        "z = keras.layers.Dense(150, activation=\"selu\")(z)\n",
        "z = keras.layers.Dense(100, activation=\"selu\")(z)\n",
        "codings_mean = keras.layers.Dense(codings_size)(z)  # μ\n",
        "codings_log_var = keras.layers.Dense(codings_size)(z)  # γ\n",
        "codings = Sampling()([codings_mean, codings_log_var])\n",
        "variational_encoder = keras.Model(\n",
        "    inputs=[inputs], outputs=[codings_mean, codings_log_var, codings])\n",
        "\n",
        "\n",
        "decoder_inputs = keras.layers.Input(shape=[codings_size])\n",
        "x = keras.layers.Dense(100, activation=\"selu\")(decoder_inputs)\n",
        "x = keras.layers.Dense(150, activation=\"selu\")(x)\n",
        "x = keras.layers.Dense(28 * 28, activation=\"sigmoid\")(x)\n",
        "outputs = keras.layers.Reshape([28, 28])(x)\n",
        "variational_decoder = keras.Model(inputs=[decoder_inputs], outputs=[outputs])\n"
      ],
      "execution_count": null,
      "outputs": []
    },
    {
      "cell_type": "code",
      "metadata": {
        "id": "bRIHDcx_7HA8"
      },
      "source": [
        "(X_train_full, y_train_full), (X_test, y_test) = keras.datasets.fashion_mnist.load_data()\n",
        "\n",
        "X_valid, X_train = X_train_full[:5000] / 255.0, X_train_full[5000:] / 255.0\n",
        "y_valid, y_train = y_train_full[:5000], y_train_full[5000:]\n",
        "X_test = X_test / 255.0"
      ],
      "execution_count": null,
      "outputs": []
    },
    {
      "cell_type": "code",
      "metadata": {
        "id": "XnWUwirr3V9_"
      },
      "source": [
        "# Fashion mnist data \n",
        "codings_size = 30\n",
        "\n",
        "\n",
        "# this is fake image genrator and used to generate images or learn parameter to build same image as input --Generative adversial network\n",
        "generator = keras.models.Sequential([\n",
        "    keras.layers.Dense(100, activation=\"selu\", input_shape=[codings_size]),\n",
        "    keras.layers.Dense(150, activation=\"selu\"),\n",
        "    keras.layers.Dense(28 * 28, activation=\"sigmoid\"),\n",
        "    keras.layers.Reshape([28, 28])\n",
        "])\n",
        "\n",
        "# this is discriminator usual work of determining whether it is fake or real -- GAN \n",
        "discriminator = keras.models.Sequential([\n",
        "    keras.layers.Flatten(input_shape=[28, 28]),\n",
        "    keras.layers.Dense(150, activation=\"selu\"),\n",
        "    keras.layers.Dense(100, activation=\"selu\"),\n",
        "    keras.layers.Dense(1, activation=\"sigmoid\")\n",
        "])\n",
        "gan = keras.models.Sequential([generator, discriminator])\n",
        "\n",
        "\n"
      ],
      "execution_count": null,
      "outputs": []
    },
    {
      "cell_type": "code",
      "metadata": {
        "id": "-rm4DVgp3woW"
      },
      "source": [
        "discriminator.compile(loss=\"binary_crossentropy\", optimizer=\"rmsprop\")\n",
        "discriminator.trainable = False\n",
        "gan.compile(loss=\"binary_crossentropy\", optimizer=\"rmsprop\")\n",
        "\n",
        "\n",
        "batch_size = 32\n",
        "dataset = tf.data.Dataset.from_tensor_slices(X_train).shuffle(1000)\n",
        "dataset = dataset.batch(batch_size, drop_remainder=True).prefetch(1)\n",
        "\n",
        "\n",
        "def train_gan(gan, dataset, batch_size, codings_size, n_epochs=50):\n",
        "    generator, discriminator = gan.layers\n",
        "    for epoch in range(n_epochs):\n",
        "        for X_batch in dataset:\n",
        "            # phase 1 - training the discriminator\n",
        "            noise = tf.random.normal(shape=[batch_size, codings_size])\n",
        "            generated_images = generator(noise)\n",
        "            # generated_images = tf.cast(generated_images,tf.float32)\n",
        "            X_fake_and_real = tf.concat([generated_images, X_batch], axis=0)\n",
        "            y1 = tf.constant([[0.]] * batch_size + [[1.]] * batch_size)\n",
        "            discriminator.trainable = True\n",
        "            discriminator.train_on_batch(X_fake_and_real, y1)\n",
        "            # phase 2 - training the generator\n",
        "            noise = tf.random.normal(shape=[batch_size, codings_size])\n",
        "            plt.imshow(noise,cmap=\"gray\")\n",
        "            y2 = tf.constant([[1.]] * batch_size)\n",
        "            discriminator.trainable = False\n",
        "            gan.train_on_batch(noise, y2)\n",
        "\n",
        "train_gan(gan, dataset, batch_size, codings_size)\n",
        "\n"
      ],
      "execution_count": null,
      "outputs": []
    },
    {
      "cell_type": "code",
      "metadata": {
        "id": "NNC3960_-Nin"
      },
      "source": [
        "codings_size = 100\n",
        "\n",
        "generator = keras.models.Sequential([\n",
        "    keras.layers.Dense(7 * 7 * 128, input_shape=[codings_size]),\n",
        "    keras.layers.Reshape([7, 7, 128]),\n",
        "    keras.layers.BatchNormalization(),\n",
        "    keras.layers.Conv2DTranspose(64, kernel_size=5, strides=2, padding=\"same\",\n",
        "                                 activation=\"selu\"),\n",
        "    keras.layers.BatchNormalization(),\n",
        "    keras.layers.Conv2DTranspose(1, kernel_size=5, strides=2, padding=\"same\",\n",
        "                                 activation=\"tanh\")\n",
        "])\n",
        "discriminator = keras.models.Sequential([\n",
        "    keras.layers.Conv2D(64, kernel_size=5, strides=2, padding=\"same\",\n",
        "                        activation=keras.layers.LeakyReLU(0.2),\n",
        "                        input_shape=[28, 28, 1]),\n",
        "    keras.layers.Dropout(0.4),\n",
        "    keras.layers.Conv2D(128, kernel_size=5, strides=2, padding=\"same\",\n",
        "                        activation=keras.layers.LeakyReLU(0.2)),\n",
        "    keras.layers.Dropout(0.4),\n",
        "    keras.layers.Flatten(),\n",
        "    keras.layers.Dense(1, activation=\"sigmoid\")\n",
        "])\n",
        "gan = keras.models.Sequential([generator, discriminator])"
      ],
      "execution_count": null,
      "outputs": []
    },
    {
      "cell_type": "code",
      "metadata": {
        "id": "FrPbja8r-QVX"
      },
      "source": [
        "X_train = X_train.reshape(-1, 28, 28, 1) * 2. - 1. # reshape and rescale\n"
      ],
      "execution_count": null,
      "outputs": []
    },
    {
      "cell_type": "code",
      "metadata": {
        "id": "nGHHNGLh7FLb"
      },
      "source": [
        "def preprocess_fn(data):\n",
        "  image = data['image']\n",
        "\n",
        "  # Normalize [0, 255] to [0, 1]\n",
        "  image = tf.cast(image, tf.float32)\n",
        "  image = image / 255.\n",
        "\n",
        "  # Resize the images to 224 x 224\n",
        "  image = tf.image.resize(image, (224, 224))\n",
        "\n",
        "  data['image'] = image\n",
        "  return data"
      ],
      "execution_count": null,
      "outputs": []
    },
    {
      "cell_type": "code",
      "metadata": {
        "id": "9aguUEzX_L6e"
      },
      "source": [
        ""
      ],
      "execution_count": null,
      "outputs": []
    },
    {
      "cell_type": "code",
      "metadata": {
        "id": "JT-8ary87ype"
      },
      "source": [
        "def preprocess_fn(data):\n",
        "    image = keras.preprocessing.image.load_img(data)\n",
        "    image = keras.preprocessing.image.img_to_array(image)\n",
        "    # Normalize [0, 255] to [0, 1]\n",
        "    image = tf.cast(image, tf.float32)\n",
        "    image = image / 255.\n",
        "\n",
        "    # Resize the images to 224 x 224\n",
        "    image = tf.image.resize(image, (224, 224))\n",
        "\n",
        "  \n",
        "    return image\n",
        "img = preprocess_fn(\"/content/train-cbb-4.jpg\")\n",
        "tf.constant(img).batch(1)"
      ],
      "execution_count": null,
      "outputs": []
    },
    {
      "cell_type": "code",
      "metadata": {
        "id": "wJfiyHee7rpJ"
      },
      "source": [
        "keras.preprocessing.image.load_img()"
      ],
      "execution_count": null,
      "outputs": []
    },
    {
      "cell_type": "code",
      "metadata": {
        "id": "qhl1fx6PA93X"
      },
      "source": [
        ""
      ],
      "execution_count": null,
      "outputs": []
    },
    {
      "cell_type": "code",
      "metadata": {
        "id": "ZDQDLlqP7RHv"
      },
      "source": [
        ""
      ],
      "execution_count": null,
      "outputs": []
    },
    {
      "cell_type": "markdown",
      "metadata": {
        "id": "tbuOGMNf7Sni"
      },
      "source": [
        "# exercises"
      ]
    },
    {
      "cell_type": "markdown",
      "metadata": {
        "id": "jMvzYCKH-njK"
      },
      "source": [
        "Loading all datasets"
      ]
    },
    {
      "cell_type": "code",
      "metadata": {
        "colab": {
          "base_uri": "https://localhost:8080/",
          "height": 414,
          "referenced_widgets": [
            "627a132a411d4a9daeff276656596d98",
            "098a39e390c94ded8b33b59c57de6441",
            "fc1a88e6182344af878b66d178b4b188",
            "97c120bc37be4ecd9e6b47050fd52c2b",
            "a1abb07f70e1404189ae85d945a6d94d",
            "49c0b2381e7143d092134698a2d0e46f",
            "39692528f5594b478b5865d3b11e9353",
            "ca78a31ca8d3405787368758b1e23ead",
            "66e8bef7160c4170ad63157cd1a68d3b",
            "70872cd454b4448e9bdc93dfe921ba69",
            "bd77167c27d94d608de346cf58bd3cef",
            "18b43dc5f0cc424a9577687c331a5193",
            "78efd9b9ff9c4c12b5c2de5a7eb57a41",
            "d4828f256977471891c6cf8b4b7727b2",
            "a75fa1a1244b4d7199f73b448f3a87b1",
            "fe7705e9b4944fedbfc647dd56179216",
            "a9c75322155e43e881da52a5b8d03ef7",
            "6d3804737f184d9aa80b24c7bc101f10",
            "77a2d5e6e57e4b67ba6b5f93e0d19000",
            "1b17fa8d022f4715913fe332f314604a",
            "ce6f45541c934b75ab2c773f4264dca6",
            "8d5dcf3df3d94f2dbc468f6c99a9d2ba",
            "6b51034606f24721a1ffb1487e7b8a80",
            "2b4959c01439447589343f8ddc3b8695",
            "059e9886c5794962acad52f3316a59f4",
            "b80568c3ac3f44e9969e466b90a4aa6d",
            "1b67a36d697e48d7b915b8d961be2e15",
            "d3a64e22116e4000815ab5e658513dd8",
            "b8d229877a484cbf87f0548803f13c76",
            "c2fe06feb8654168a4370e919fc6043e",
            "c69440cc41914b9d875bff9145af3cd6",
            "13eb0b19ff48404eb8575e6590407e8d",
            "9bdc864172944394b8b00f2ed34df469",
            "f148f8d7fe8b4d458439a5229a51e852",
            "5ed87db374a9432b88a9f50662c4a282",
            "b3f8e719cb5844d6a25d32f4e5f1c141",
            "7719bccdab904fa5a1a646002bdb8702",
            "b507290f61434c66b78f12eb7845bfb6",
            "0938f70b5fcc4b35a46db32b39aec450",
            "220070fe1bda47d1a2cf3c495d188e44",
            "ec8fd0e9135540b2b2c59bb591ff1a2a",
            "ce9b731ca0554136b72177c3a4a5ccf3",
            "963632bb32f449a888befc408f55af70",
            "90eb0628f68e4fccac7217a7e0896cf0",
            "3b3d13bd47b7424195c48e9776bab7cd",
            "85dc8fcbf0e14fe2b3ed04052ae38c32",
            "7ce4c7d6da394e6dbe5a2e8946e19656",
            "8275c1605e9b4c21a709b4e99ded65c8",
            "80c87feeeab44cb0945cb35d32566f31",
            "441784fb2395410f9e931a39461a0000",
            "4a8225c54b4f470e8c3f5995b1f02317",
            "9f368a5a43d546d88bb09d41b1b464d1",
            "ff2f087d6f9a44dcabc1d96cedb8cdf7",
            "5133b1a223e34bdabd8b6ef58dc94012",
            "dee84ee0c3d345cda9d620de6bde4cd6",
            "e42dc17e82c346c58740ababbb8605ff",
            "503ffaaafef14877b2dfcccbedc47c50",
            "6793e13b1c7b4d369d9fc031b86d3baa",
            "d7b4abdfcc454ebcb9286f49f324c4ed",
            "7c6828ddd3a24bcba9df3f7d8e6b49ca",
            "38160dd746814b2b8bcc0599c030dbcd",
            "21d8741566694648912e2b088d62197d",
            "7f626a025e34462498990510f8324a37",
            "a90be22caccc4e58b19e91494b483daf",
            "1f64559332b34817b79902cbf3a95874",
            "949d653bed1d4b3ebadef7af17c66881",
            "1b4ea15ea4a34602840e812d3ec9b9c4",
            "1d4604453a474e8b9071d3a725a6b64e",
            "671808cd3a584d9094b9932c374ee80d",
            "b5a2cedd9abf4c76ba3f9d6a40b81621",
            "34910edc66ae407e8a01c4a9ab8ccf70",
            "3742df9614464a36b65d866aee4c39f4"
          ]
        },
        "id": "Zz-6u0HY7mG4",
        "outputId": "32126cd8-fc64-465e-d195-efd958f7cbe9"
      },
      "source": [
        "datasets = tfds.load('cassava',as_supervised=True)"
      ],
      "execution_count": null,
      "outputs": [
        {
          "output_type": "stream",
          "text": [
            "\u001b[1mDownloading and preparing dataset cassava/0.1.0 (download: 1.26 GiB, generated: Unknown size, total: 1.26 GiB) to /root/tensorflow_datasets/cassava/0.1.0...\u001b[0m\n"
          ],
          "name": "stdout"
        },
        {
          "output_type": "display_data",
          "data": {
            "application/vnd.jupyter.widget-view+json": {
              "model_id": "627a132a411d4a9daeff276656596d98",
              "version_major": 2,
              "version_minor": 0
            },
            "text/plain": [
              "HBox(children=(FloatProgress(value=1.0, bar_style='info', description='Dl Completed...', max=1.0, style=Progre…"
            ]
          },
          "metadata": {
            "tags": []
          }
        },
        {
          "output_type": "display_data",
          "data": {
            "application/vnd.jupyter.widget-view+json": {
              "model_id": "66e8bef7160c4170ad63157cd1a68d3b",
              "version_major": 2,
              "version_minor": 0
            },
            "text/plain": [
              "HBox(children=(FloatProgress(value=1.0, bar_style='info', description='Dl Size...', max=1.0, style=ProgressSty…"
            ]
          },
          "metadata": {
            "tags": []
          }
        },
        {
          "output_type": "display_data",
          "data": {
            "application/vnd.jupyter.widget-view+json": {
              "model_id": "a9c75322155e43e881da52a5b8d03ef7",
              "version_major": 2,
              "version_minor": 0
            },
            "text/plain": [
              "HBox(children=(FloatProgress(value=1.0, bar_style='info', description='Extraction completed...', max=1.0, styl…"
            ]
          },
          "metadata": {
            "tags": []
          }
        },
        {
          "output_type": "stream",
          "text": [
            "\n",
            "\n",
            "\n",
            "\n",
            "\n",
            "\n"
          ],
          "name": "stdout"
        },
        {
          "output_type": "display_data",
          "data": {
            "application/vnd.jupyter.widget-view+json": {
              "model_id": "059e9886c5794962acad52f3316a59f4",
              "version_major": 2,
              "version_minor": 0
            },
            "text/plain": [
              "HBox(children=(FloatProgress(value=1.0, bar_style='info', max=1.0), HTML(value='')))"
            ]
          },
          "metadata": {
            "tags": []
          }
        },
        {
          "output_type": "stream",
          "text": [
            "\rShuffling and writing examples to /root/tensorflow_datasets/cassava/0.1.0.incomplete2T4SBC/cassava-train.tfrecord\n"
          ],
          "name": "stdout"
        },
        {
          "output_type": "display_data",
          "data": {
            "application/vnd.jupyter.widget-view+json": {
              "model_id": "9bdc864172944394b8b00f2ed34df469",
              "version_major": 2,
              "version_minor": 0
            },
            "text/plain": [
              "HBox(children=(FloatProgress(value=0.0, max=5656.0), HTML(value='')))"
            ]
          },
          "metadata": {
            "tags": []
          }
        },
        {
          "output_type": "display_data",
          "data": {
            "application/vnd.jupyter.widget-view+json": {
              "model_id": "ec8fd0e9135540b2b2c59bb591ff1a2a",
              "version_major": 2,
              "version_minor": 0
            },
            "text/plain": [
              "HBox(children=(FloatProgress(value=1.0, bar_style='info', max=1.0), HTML(value='')))"
            ]
          },
          "metadata": {
            "tags": []
          }
        },
        {
          "output_type": "stream",
          "text": [
            "Shuffling and writing examples to /root/tensorflow_datasets/cassava/0.1.0.incomplete2T4SBC/cassava-test.tfrecord\n"
          ],
          "name": "stdout"
        },
        {
          "output_type": "display_data",
          "data": {
            "application/vnd.jupyter.widget-view+json": {
              "model_id": "80c87feeeab44cb0945cb35d32566f31",
              "version_major": 2,
              "version_minor": 0
            },
            "text/plain": [
              "HBox(children=(FloatProgress(value=0.0, max=1885.0), HTML(value='')))"
            ]
          },
          "metadata": {
            "tags": []
          }
        },
        {
          "output_type": "display_data",
          "data": {
            "application/vnd.jupyter.widget-view+json": {
              "model_id": "503ffaaafef14877b2dfcccbedc47c50",
              "version_major": 2,
              "version_minor": 0
            },
            "text/plain": [
              "HBox(children=(FloatProgress(value=1.0, bar_style='info', max=1.0), HTML(value='')))"
            ]
          },
          "metadata": {
            "tags": []
          }
        },
        {
          "output_type": "stream",
          "text": [
            "Shuffling and writing examples to /root/tensorflow_datasets/cassava/0.1.0.incomplete2T4SBC/cassava-validation.tfrecord\n"
          ],
          "name": "stdout"
        },
        {
          "output_type": "display_data",
          "data": {
            "application/vnd.jupyter.widget-view+json": {
              "model_id": "1f64559332b34817b79902cbf3a95874",
              "version_major": 2,
              "version_minor": 0
            },
            "text/plain": [
              "HBox(children=(FloatProgress(value=0.0, max=1889.0), HTML(value='')))"
            ]
          },
          "metadata": {
            "tags": []
          }
        },
        {
          "output_type": "stream",
          "text": [
            "\u001b[1mDataset cassava downloaded and prepared to /root/tensorflow_datasets/cassava/0.1.0. Subsequent calls will reuse this data.\u001b[0m\n"
          ],
          "name": "stdout"
        }
      ]
    },
    {
      "cell_type": "code",
      "metadata": {
        "colab": {
          "base_uri": "https://localhost:8080/"
        },
        "id": "WFFe6GIs8uQu",
        "outputId": "b00949fe-7bad-47a1-9295-9ba27fcf9014"
      },
      "source": [
        "words = [\"mongo\",\"mongoose\",\"tea\",\"mhjds\",\"nmsda\"]\n",
        "[[x for x in i] for i in words]"
      ],
      "execution_count": null,
      "outputs": [
        {
          "output_type": "execute_result",
          "data": {
            "text/plain": [
              "[['m', 'o', 'n', 'g', 'o'],\n",
              " ['m', 'o', 'n', 'g', 'o', 'o', 's', 'e'],\n",
              " ['t', 'e', 'a'],\n",
              " ['m', 'h', 'j', 'd', 's'],\n",
              " ['n', 'm', 's', 'd', 'a']]"
            ]
          },
          "metadata": {
            "tags": []
          },
          "execution_count": 8
        }
      ]
    },
    {
      "cell_type": "markdown",
      "metadata": {
        "id": "fRDOwtJ13Hjr"
      },
      "source": [
        "state, action, rewards "
      ]
    },
    {
      "cell_type": "markdown",
      "metadata": {
        "id": "044hpLS6xRZq"
      },
      "source": [
        "![mls2_1808.png](data:image/png;base64,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)"
      ]
    },
    {
      "cell_type": "code",
      "metadata": {
        "id": "g4maA8mtxVU2"
      },
      "source": [
        "def preprocess(data,label):\n",
        "    image = data\n",
        "    image = tf.cast(image,tf.float32)\n",
        "    image = image/255.0\n",
        "    image = tf.image.resize(image,[224,224])\n",
        "    # data['image'] = image\n",
        "    return image,label\n",
        "\n",
        "train_datasets= datasets['train'].map(preprocess).shuffle(10000).batch(64).prefetch(1)\n",
        "valid_datasets= datasets['validation'].map(preprocess).batch(64).prefetch(1)\n",
        "test_datasets = datasets['test'].map(preprocess).batch(64).prefetch(1)\n"
      ],
      "execution_count": null,
      "outputs": []
    },
    {
      "cell_type": "code",
      "metadata": {
        "id": "vxKGtfks3XFU"
      },
      "source": [
        "model = keras.models.Sequential([\n",
        "    keras.layers.Conv2D(32, 7, activation=\"relu\", padding=\"same\",\n",
        "                        input_shape=[224,224,3]),\n",
        "    keras.layers.MaxPooling2D(2),\n",
        "    keras.layers.Conv2D(64, 4, activation=\"relu\", padding=\"same\"),\n",
        "    keras.layers.Conv2D(64, 4, activation=\"relu\", padding=\"same\"),\n",
        "    keras.layers.MaxPooling2D(2),\n",
        "    # keras.layers.Conv2D(128, 6, activation=\"relu\", padding=\"same\"),\n",
        "    # keras.layers.Conv2D(256, 6, activation=\"relu\", padding=\"same\"),\n",
        "    # keras.layers.MaxPooling2D(2),\n",
        "    keras.layers.Flatten(),\n",
        "    keras.layers.Dense(128, activation=\"relu\"),\n",
        "    keras.layers.Dropout(0.5),\n",
        "    keras.layers.Dense(64, activation=\"relu\"),\n",
        "    keras.layers.Dropout(0.5),\n",
        "    keras.layers.Dense(5, activation=\"softmax\")\n",
        "])\n",
        "\n",
        "starter_learning_rate = 0.01\n",
        "end_learning_rate = 0.0001\n",
        "decay_steps = 10000\n",
        "learning_rate_fn = tf.keras.optimizers.schedules.PolynomialDecay(\n",
        "    starter_learning_rate,\n",
        "    decay_steps,\n",
        "    end_learning_rate,\n",
        "    power=0.5)\n",
        "\n",
        "\n",
        "checkpoint_path = \"/content/drive/MyDrive/cassava_model\"\n",
        "early_stop = keras.callbacks.EarlyStopping(patience=6,restore_best_weights=True)\n",
        "\n",
        "\n",
        "save_model = keras.callbacks.ModelCheckpoint(checkpoint_path,save_best_only=True)\n",
        "\n",
        "model.compile(optimizer=tf.keras.optimizers.Nadam(),\n",
        "              loss='sparse_categorical_crossentropy',\n",
        "              metrics=['accuracy'])\n",
        "model.fit(train_datasets,epochs=30,validation_data = valid_datasets,callbacks=[early_stop,save_model])\n"
      ],
      "execution_count": null,
      "outputs": []
    },
    {
      "cell_type": "code",
      "metadata": {
        "id": "WET77rwkTuJS"
      },
      "source": [
        ""
      ],
      "execution_count": null,
      "outputs": []
    },
    {
      "cell_type": "code",
      "metadata": {
        "colab": {
          "base_uri": "https://localhost:8080/"
        },
        "id": "lhmO32op5MBE",
        "outputId": "07cbc0d0-f228-484e-f466-e9baf7f02628"
      },
      "source": [
        "model.load_weights(checkpoint_path)\n",
        "model.evaluate(valid_datasets)"
      ],
      "execution_count": null,
      "outputs": [
        {
          "output_type": "stream",
          "text": [
            "30/30 [==============================] - 6s 204ms/step - loss: 2.5267 - accuracy: 0.2139\n"
          ],
          "name": "stdout"
        },
        {
          "output_type": "execute_result",
          "data": {
            "text/plain": [
              "[2.5266802310943604, 0.21386976540088654]"
            ]
          },
          "metadata": {
            "tags": []
          },
          "execution_count": 21
        }
      ]
    },
    {
      "cell_type": "code",
      "metadata": {
        "id": "DhsroMAQpliI"
      },
      "source": [
        "from sklearn.datasets import load_sample_images\n",
        "\n",
        "flower = load_sample_images()\n",
        "flower = (flower['images'])\n",
        "flower = tf.image.resize(flower,[224,224])\n",
        "\n",
        "flw = tf.data.Dataset.from_tensor_slices(flower)\n",
        "flw= flw.batch(2)\n",
        "\n",
        "flower_iter  =flw.as_numpy_iterator()\n",
        "first = next(flower_iter)"
      ],
      "execution_count": null,
      "outputs": []
    },
    {
      "cell_type": "code",
      "metadata": {
        "id": "XLArkw01sQzf"
      },
      "source": [
        "\n",
        "input_shape = (4, 28, 28, 3)\n",
        "x = tf.random.normal(input_shape)\n",
        "plt.imshow(x[0])\n",
        "\n",
        "y = tf.keras.layers.Conv2D(\n",
        "filters= 3,kernel_size=6, activation=None,  input_shape=[28,28,3])(x)\n",
        "plt.imshow(y[0])\n",
        "\n",
        "input_shape = [2,224,224,3]\n",
        "\n",
        "# x = tf.random.normal(input_shape)\n",
        "fig,ax = plt.subplots(1,2,figsize=(15,15))\n",
        "\n",
        "y = tf.keras.layers.Conv2D(\n",
        "3,(3,3),strides= (2,2), activation='elu', padding=\"same\", input_shape=[224,224,3])(first)\n",
        "print(y.shape)\n",
        "\n",
        "ax[1].imshow(y[0])\n",
        "ax[0].imshow(y[1])\n"
      ],
      "execution_count": null,
      "outputs": []
    },
    {
      "cell_type": "code",
      "metadata": {
        "id": "TryScbWhyvjW"
      },
      "source": [
        "example  = train_datasets.as_numpy_iterator()\n",
        "example = next(example)"
      ],
      "execution_count": null,
      "outputs": []
    },
    {
      "cell_type": "code",
      "metadata": {
        "id": "7U67-uhVpGJE"
      },
      "source": [
        ""
      ],
      "execution_count": null,
      "outputs": []
    },
    {
      "cell_type": "markdown",
      "metadata": {
        "id": "Kq2QKZ6YuuoP"
      },
      "source": [
        "# Fine tuning pre-trained model (Mobilenet_v3) "
      ]
    },
    {
      "cell_type": "code",
      "metadata": {
        "id": "G7jL5EmPu2z6"
      },
      "source": [
        "path = \"/content/train-cbb-1.jpg\"\n",
        "\n",
        "image = keras.preprocessing.image.load_img(path)\n",
        "image = keras.preprocessing.image.img_to_array(image)\n",
        "\n",
        "image,label = preprocess(image,np.array([1]))\n",
        "\n",
        "datasets,info = tfds.load(\"cats_vs_dogs\",with_info=True,as_supervised=True)"
      ],
      "execution_count": null,
      "outputs": []
    },
    {
      "cell_type": "code",
      "metadata": {
        "colab": {
          "base_uri": "https://localhost:8080/"
        },
        "id": "46XldJulx-i2",
        "outputId": "63a7de3d-c9c8-4129-ed82-e6cbec47d6b7"
      },
      "source": [
        "simple_model = keras.layers.Dense(4)\n",
        "simple_model.build((None,4))\n",
        "simple_model.trainable =False\n",
        "\n",
        "print(\"weight\",len( simple_model.weights))\n",
        "print(\"trainable_weights\",len(simple_model.trainable_weights))\n",
        "print(\"non-trainable_weights\",len(simple_model.non_trainable_weights))\n",
        "\n",
        "layer_norm = keras.layers.BatchNormalization()\n",
        "layer_norm.build((None,4))\n",
        "print()\n",
        "print(\"weight\",len( layer_norm.weights))\n",
        "print(\"trainable_weights\",len(layer_norm.trainable_weights))\n",
        "print(\"non-trainable_weights\",len(layer_norm.non_trainable_weights))\n"
      ],
      "execution_count": null,
      "outputs": [
        {
          "output_type": "stream",
          "text": [
            "weight 2\n",
            "trainable_weights 0\n",
            "non-trainable_weights 2\n",
            "\n",
            "weight 4\n",
            "trainable_weights 2\n",
            "non-trainable_weights 2\n"
          ],
          "name": "stdout"
        }
      ]
    },
    {
      "cell_type": "code",
      "metadata": {
        "id": "NO90ek3R2J82"
      },
      "source": [
        "layer1 = keras.layers.Dense(3,\"relu\")\n",
        "layer2 = keras.layers.Dense(3,\"sigmoid\")\n",
        "model = keras.Sequential([keras.layers.InputLayer((3,)),layer1,layer2])\n",
        "\n",
        "tf.pr\n",
        "layer1.trainable = False  # freezing layer1 --not changing intial assign weights\n",
        "initial_layer1_weights_values = layer1.get_weights()\n",
        "\n",
        "model.compile(optimizer = \"adam\",loss=\"mse\")\n",
        "\n",
        "model.fit(np.random.random((2,3)),np.random.random((2,3)))\n",
        "\n",
        "# Check that the weights of layer1 have not changed during training\n",
        "final_layer1_weights_values = layer1.get_weights()\n",
        "np.testing.assert_allclose(\n",
        "    initial_layer1_weights_values[0], final_layer1_weights_values[0]\n",
        ")\n",
        "np.testing.assert_allclose(\n",
        "    initial_layer1_weights_values[1], final_layer1_weights_values[1]\n",
        ")\n",
        "initial_layer1_weights_values,final_layer1_weights_values"
      ],
      "execution_count": null,
      "outputs": []
    },
    {
      "cell_type": "code",
      "metadata": {
        "colab": {
          "base_uri": "https://localhost:8080/"
        },
        "id": "gmEjbcEx7TCb",
        "outputId": "66999905-f063-48e7-d503-6913f1c26a14"
      },
      "source": [
        "inner_model = keras.Sequential(\n",
        "    [\n",
        "        keras.Input(shape=(3,)),\n",
        "        keras.layers.Dense(3, activation=\"relu\"),\n",
        "        keras.layers.Dense(3, activation=\"relu\"),\n",
        "    ]\n",
        ")\n",
        "\n",
        "model = keras.Sequential(\n",
        "    [keras.Input(shape=(3,)), inner_model, keras.layers.Dense(3, activation=\"sigmoid\"),]\n",
        ")\n",
        "\n",
        "inner_model.trainable = False  # Freeze the outer model\n",
        "\n",
        "model.compile(optimizer = \"adam\",loss=\"mse\")\n",
        "\n",
        "model.fit(np.random.random((2,3)),np.random.random((2,3)))\n",
        "\n",
        "# assert inner_model.trainable == False  # All layers in `model` are now frozen\n",
        "# assert inner_model.layers[0].trainable == False  # `trainable` is propagated recursively\n",
        "\n",
        "inner_model.trainable,model.trainable,inner_model.layers[0].trainable"
      ],
      "execution_count": null,
      "outputs": [
        {
          "output_type": "stream",
          "text": [
            "WARNING:tensorflow:Please add `keras.layers.InputLayer` instead of `keras.Input` to Sequential model. `keras.Input` is intended to be used by Functional model.\n"
          ],
          "name": "stdout"
        },
        {
          "output_type": "stream",
          "text": [
            "WARNING:tensorflow:Please add `keras.layers.InputLayer` instead of `keras.Input` to Sequential model. `keras.Input` is intended to be used by Functional model.\n"
          ],
          "name": "stderr"
        },
        {
          "output_type": "stream",
          "text": [
            "WARNING:tensorflow:Please add `keras.layers.InputLayer` instead of `keras.Input` to Sequential model. `keras.Input` is intended to be used by Functional model.\n"
          ],
          "name": "stdout"
        },
        {
          "output_type": "stream",
          "text": [
            "WARNING:tensorflow:Please add `keras.layers.InputLayer` instead of `keras.Input` to Sequential model. `keras.Input` is intended to be used by Functional model.\n"
          ],
          "name": "stderr"
        },
        {
          "output_type": "stream",
          "text": [
            "1/1 [==============================] - 0s 246ms/step - loss: 0.1349\n"
          ],
          "name": "stdout"
        },
        {
          "output_type": "execute_result",
          "data": {
            "text/plain": [
              "(True, True, False)"
            ]
          },
          "metadata": {
            "tags": []
          },
          "execution_count": 140
        }
      ]
    },
    {
      "cell_type": "code",
      "metadata": {
        "id": "WnFEKnau__jy"
      },
      "source": [
        "# pretrained model --Mobilenet_v2 or v3 or v1\n",
        "\n",
        "\n",
        "base_model_mobilenet = tf.keras.applications.MobileNet(\n",
        "    input_shape=[224,224,3],\n",
        "    include_top=False,\n",
        "    weights=\"imagenet\",\n",
        "    \n",
        ")\n",
        "\n",
        "base_model_xception = keras.applications.Xception(\n",
        "    weights='imagenet',  # Load weights pre-trained on ImageNet.\n",
        "    input_shape=(224, 224, 3),\n",
        "    include_top=False)  # Do not include the ImageNet classifier at the top.\n",
        "\n",
        "# mobilenet_model.summary()"
      ],
      "execution_count": null,
      "outputs": []
    },
    {
      "cell_type": "code",
      "metadata": {
        "id": "n2XqTn4iLSqc"
      },
      "source": [
        "base_model_mobilenet.trainable = False\n"
      ],
      "execution_count": null,
      "outputs": []
    },
    {
      "cell_type": "code",
      "metadata": {
        "colab": {
          "background_save": true
        },
        "id": "aGLkhRcMEaQd"
      },
      "source": [
        "# Freezing weight for both model -do not change pre trained weight of base model\n",
        "\n",
        "inputs = keras.Input(shape=(224, 224, 3))\n",
        "# We make sure that the base_model is running in inference mode here,\n",
        "# by passing `training=False`. This is important for fine-tuning, as you will\n",
        "# learn in a few paragraphs.\n",
        "x = base_model_mobilenet(inputs, training=False)\n",
        "# Convert features of shape `base_model.output_shape[1:]` to vectors\n",
        "x = keras.layers.GlobalAveragePooling2D()(x)\n",
        "# A Dense classifier with a single unit (binary classification)\n",
        "outputs = keras.layers.Dense(5)(x)\n",
        "model = keras.Model(inputs, outputs)\n",
        "\n",
        "\n",
        "model.compile(optimizer=keras.optimizers.Nadam(),\n",
        "              loss=\"sparse_categorical_crossentropy\",\n",
        "              metrics=[\"accuracy\"])\n",
        "\n",
        "checkpoint_path = \"/content/drive/MyDrive/cassava_model\"\n",
        "early_stop = keras.callbacks.EarlyStopping(patience=6)\n",
        "\n",
        "save_model = keras.callbacks.ModelCheckpoint(checkpoint_path,save_best_only=True)\n",
        "\n",
        "model.fit(train_datasets, epochs=20, callbacks= [early_stop,save_model], validation_data=valid_datasets)\n",
        "model.output"
      ],
      "execution_count": null,
      "outputs": []
    },
    {
      "cell_type": "code",
      "metadata": {
        "id": "h803ZoNSgL6n"
      },
      "source": [
        "dataset_cov = pd.read_csv(\"/content/drive/MyDrive/datasets/covid-19/who_covid_19_sit_rep_time_series/who_covid_19_sit_rep_time_series.csv\")\n",
        "dataset_cov_diff = pd.read_csv(\"/content/drive/MyDrive/Colab Notebooks/datasets/owid-covid-data.csv\")"
      ],
      "execution_count": null,
      "outputs": []
    },
    {
      "cell_type": "code",
      "metadata": {
        "id": "2-N7UY6fgOS8"
      },
      "source": [
        "dataset_cov_diff.info()"
      ],
      "execution_count": null,
      "outputs": []
    },
    {
      "cell_type": "code",
      "metadata": {
        "id": "zvENVId6a5Pf"
      },
      "source": [
        ""
      ],
      "execution_count": null,
      "outputs": []
    },
    {
      "cell_type": "code",
      "metadata": {
        "id": "t51JLfX5c7Sk"
      },
      "source": [
        ""
      ],
      "execution_count": null,
      "outputs": []
    },
    {
      "cell_type": "markdown",
      "metadata": {
        "id": "6uuBidT5rmJq"
      },
      "source": [
        "# Training Efficient model\n",
        "it has 8 different models from B0 version to B7\n",
        "with imagenet weights and flowers and cfir10,cfir100,cassavara disease datasets\n",
        "EfficientNetB0 input shape =[224,224,3]\n",
        "\n",
        "it uses less number of parameters \n",
        "![(![image.png](data:image/png;base64,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))]"
      ]
    },
    {
      "cell_type": "code",
      "metadata": {
        "id": "e2vPrcBiv4vR",
        "colab": {
          "base_uri": "https://localhost:8080/"
        },
        "outputId": "79861219-0fee-49c6-98fe-b032c265dd06"
      },
      "source": [
        "# Loading all datasets used for training the efficientNetB0 model\n",
        "\n",
        "# standford dogs dataset\n",
        "\n",
        "(ds_train, ds_test), ds_info = tfds.load(\n",
        "    \"stanford_dogs\", split=[\"train\", \"test\"], with_info=True, as_supervised=True\n",
        ")\n",
        "\n",
        "(ds_train1, ds_test1), ds_info1 = tfds.load(\n",
        "    \"cifar10\", split=[\"train\", \"test\"], with_info=True, as_supervised=True\n",
        ")\n",
        "(ds_train2, ds_test2), ds_info2 = tfds.load(\n",
        "    \"cifar100\", split=[\"train\", \"test\"], with_info=True, as_supervised=True\n",
        ")\n",
        "(ds_train3, ds_test3), ds_info3 = tfds.load(\n",
        "    \"cassava\", split=[\"train\", \"test\"], with_info=True, as_supervised=True\n",
        ")"
      ],
      "execution_count": null,
      "outputs": [
        {
          "output_type": "stream",
          "text": [
            "Shuffling and writing examples to /root/tensorflow_datasets/stanford_dogs/0.2.0.incomplete7DNLTG/stanford_dogs-train.tfrecord\n",
            "Shuffling and writing examples to /root/tensorflow_datasets/stanford_dogs/0.2.0.incomplete7DNLTG/stanford_dogs-test.tfrecord\n",
            "\u001b[1mDataset stanford_dogs downloaded and prepared to /root/tensorflow_datasets/stanford_dogs/0.2.0. Subsequent calls will reuse this data.\u001b[0m\n",
            "\u001b[1mDownloading and preparing dataset cifar10/3.0.2 (download: 162.17 MiB, generated: 132.40 MiB, total: 294.58 MiB) to /root/tensorflow_datasets/cifar10/3.0.2...\u001b[0m\n",
            "Shuffling and writing examples to /root/tensorflow_datasets/cifar10/3.0.2.incompleteYDJPOQ/cifar10-train.tfrecord\n",
            "Shuffling and writing examples to /root/tensorflow_datasets/cifar10/3.0.2.incompleteYDJPOQ/cifar10-test.tfrecord\n",
            "\u001b[1mDataset cifar10 downloaded and prepared to /root/tensorflow_datasets/cifar10/3.0.2. Subsequent calls will reuse this data.\u001b[0m\n",
            "\u001b[1mDownloading and preparing dataset cifar100/3.0.2 (download: 160.71 MiB, generated: 132.03 MiB, total: 292.74 MiB) to /root/tensorflow_datasets/cifar100/3.0.2...\u001b[0m\n",
            "Shuffling and writing examples to /root/tensorflow_datasets/cifar100/3.0.2.incomplete582IRA/cifar100-train.tfrecord\n",
            "Shuffling and writing examples to /root/tensorflow_datasets/cifar100/3.0.2.incomplete582IRA/cifar100-test.tfrecord\n",
            "\u001b[1mDataset cifar100 downloaded and prepared to /root/tensorflow_datasets/cifar100/3.0.2. Subsequent calls will reuse this data.\u001b[0m\n",
            "\u001b[1mDownloading and preparing dataset cassava/0.1.0 (download: 1.26 GiB, generated: Unknown size, total: 1.26 GiB) to /root/tensorflow_datasets/cassava/0.1.0...\u001b[0m\n",
            "Shuffling and writing examples to /root/tensorflow_datasets/cassava/0.1.0.incomplete9QPU16/cassava-train.tfrecord\n",
            "Shuffling and writing examples to /root/tensorflow_datasets/cassava/0.1.0.incomplete9QPU16/cassava-test.tfrecord\n",
            "Shuffling and writing examples to /root/tensorflow_datasets/cassava/0.1.0.incomplete9QPU16/cassava-validation.tfrecord\n",
            "\u001b[1mDataset cassava downloaded and prepared to /root/tensorflow_datasets/cassava/0.1.0. Subsequent calls will reuse this data.\u001b[0m\n"
          ],
          "name": "stdout"
        }
      ]
    },
    {
      "cell_type": "code",
      "metadata": {
        "id": "QJSxkDZm1fJr"
      },
      "source": [
        "\n",
        "IMG_SIZE = 224\n",
        "BATCH_SIZE = 64\n",
        "DATASET = \"stanford_dogs\"\n",
        "SHUFFLE_SIZE = ds_info.splits['train'].num_examples\n",
        "NUM_CLASSES = ds_info.features[\"label\"].num_classes\n"
      ],
      "execution_count": null,
      "outputs": []
    },
    {
      "cell_type": "code",
      "metadata": {
        "id": "itglZd1Z2c5E"
      },
      "source": [
        "def preprocess(data,lable):\n",
        "    # image = data['image']\n",
        "    # image  = tf.cast(image,tf.float32)\n",
        "    image = tf.image.resize(data,[224,224])\n",
        "    image = image/255\n",
        "    # data['image'] = image\n",
        "    return data,lable\n",
        "\n",
        "size = (IMG_SIZE, IMG_SIZE)\n",
        "ds_train = ds_train.map(lambda image, label: (tf.image.resize(image, size), label))\n",
        "ds_test = ds_test.map(lambda image, label: (tf.image.resize(image, size), label))\n"
      ],
      "execution_count": null,
      "outputs": []
    },
    {
      "cell_type": "code",
      "metadata": {
        "id": "aFH3ddZS3BXg"
      },
      "source": [
        ""
      ],
      "execution_count": null,
      "outputs": []
    },
    {
      "cell_type": "code",
      "metadata": {
        "colab": {
          "base_uri": "https://localhost:8080/"
        },
        "id": "em3oLGCZ3QGT",
        "outputId": "9d6f3828-2527-4082-e4ca-1033d0366092"
      },
      "source": [
        "import tensorflow as tf\n",
        "\n",
        "try:\n",
        "    tpu = tf.distribute.cluster_resolver.TPUClusterResolver()  # TPU detection\n",
        "    print(\"Running on TPU \", tpu.cluster_spec().as_dict()[\"worker\"])\n",
        "    tf.config.experimental_connect_to_cluster(tpu)\n",
        "    tf.tpu.experimental.initialize_tpu_system(tpu)\n",
        "    strategy = tf.distribute.experimental.TPUStrategy(tpu)\n",
        "except ValueError:\n",
        "    print(\"Not connected to a TPU runtime. Using CPU/GPU strategy\")\n",
        "    strategy = tf.distribute.MirroredStrategy()"
      ],
      "execution_count": null,
      "outputs": [
        {
          "output_type": "stream",
          "text": [
            "Not connected to a TPU runtime. Using CPU/GPU strategy\n",
            "WARNING:tensorflow:Collective ops is not configured at program startup. Some performance features may not be enabled.\n"
          ],
          "name": "stdout"
        },
        {
          "output_type": "stream",
          "text": [
            "WARNING:tensorflow:Collective ops is not configured at program startup. Some performance features may not be enabled.\n"
          ],
          "name": "stderr"
        },
        {
          "output_type": "stream",
          "text": [
            "INFO:tensorflow:Using MirroredStrategy with devices ('/job:localhost/replica:0/task:0/device:GPU:0',)\n"
          ],
          "name": "stdout"
        },
        {
          "output_type": "stream",
          "text": [
            "INFO:tensorflow:Using MirroredStrategy with devices ('/job:localhost/replica:0/task:0/device:GPU:0',)\n"
          ],
          "name": "stderr"
        }
      ]
    },
    {
      "cell_type": "code",
      "metadata": {
        "id": "VYz4rm_D8wWs"
      },
      "source": [
        ""
      ],
      "execution_count": null,
      "outputs": []
    },
    {
      "cell_type": "code",
      "metadata": {
        "colab": {
          "base_uri": "https://localhost:8080/",
          "height": 264
        },
        "id": "7d3p5Xg553J_",
        "outputId": "9cb5372b-6594-4250-dcff-f1f7e41f30b3"
      },
      "source": [
        "def show_image():\n",
        "    def format_label(label):\n",
        "        string_label = label_info.int2str(label)\n",
        "        return string_label.split(\"-\")[1]\n",
        "\n",
        "\n",
        "    label_info = ds_info.features[\"label\"]\n",
        "    for i, (image, label) in enumerate(ds_train.take(9)):\n",
        "        ax = plt.subplot(3, 3, i + 1)\n",
        "        plt.imshow(image.numpy().astype(\"uint8\"))\n",
        "        plt.title(\"{}\".format(format_label(label)))\n",
        "        plt.axis(\"off\")\n",
        "show_image()"
      ],
      "execution_count": null,
      "outputs": [
        {
          "output_type": "display_data",
          "data": {
            "image/png": "[encoded data removed]",
            "text/plain": [
              "<Figure size 432x288 with 9 Axes>"
            ]
          },
          "metadata": {
            "tags": [],
            "needs_background": "light"
          }
        }
      ]
    },
    {
      "cell_type": "code",
      "metadata": {
        "id": "CYr1Iero9SXa"
      },
      "source": [
        "from tensorflow.keras.layers.experimental import preprocessing\n",
        "from tensorflow.keras.models import Sequential\n",
        "from tensorflow.keras import layers\n",
        "\n",
        "img_augmentation = Sequential(\n",
        "    [\n",
        "        preprocessing.RandomRotation(factor=0.15),\n",
        "        preprocessing.RandomTranslation(height_factor=0.1, width_factor=0.1),\n",
        "        preprocessing.RandomFlip(),\n",
        "        preprocessing.RandomContrast(factor=0.1),\n",
        "    ],\n",
        "    name=\"img_augmentation\",\n",
        ")\n"
      ],
      "execution_count": null,
      "outputs": []
    },
    {
      "cell_type": "code",
      "metadata": {
        "id": "STYfHVTH-PLk"
      },
      "source": [
        ""
      ],
      "execution_count": null,
      "outputs": []
    },
    {
      "cell_type": "code",
      "metadata": {
        "id": "p-1dq5jG_CWA"
      },
      "source": [
        "label_info = ds_info.features['label']\n",
        "\n",
        "for image, label in ds_train.take(2):\n",
        "    for i in range(9):\n",
        "        ax = plt.subplot(3, 3, i + 1)\n",
        "        aug_img = img_augmentation(tf.expand_dims(image, axis=0))\n",
        "        plt.imshow(aug_img[0].numpy().astype(\"uint8\"))\n",
        "        plt.title(\"{}\".format(format_label(label)))\n",
        "        plt.axis(\"off\")"
      ],
      "execution_count": null,
      "outputs": []
    },
    {
      "cell_type": "code",
      "metadata": {
        "id": "TEOd64nvDHCb"
      },
      "source": [
        "ds_train = ds_train.batch(BATCH_SIZE).shuffle(SHUFFLE_SIZE).prefetch(1)\n",
        "ds_valid = ds_test.batch(BATCH_SIZE).shuffle(SHUFFLE_SIZE).prefetch(1)\n",
        "ds_valid,ds_train"
      ],
      "execution_count": null,
      "outputs": []
    },
    {
      "cell_type": "code",
      "metadata": {
        "id": "53pyCnH6BF8L"
      },
      "source": [
        "# # model training eficientnetb0 from scratch\n",
        "\n",
        "# from keras.applications.efficientnet import EfficientNetB0\n",
        "\n",
        "# with strategy.scope():\n",
        "#     inputs = keras.Input(shape=(IMG_SIZE,IMG_SIZE,3))\n",
        "#     X = img_augmentation(inputs)\n",
        "#     outputs = EfficientNetB0(include_top=True,weights=None,classes=NUM_CLASSES)(X)\n",
        "#     model = keras.Model(inputs,outputs)\n",
        "\n",
        "#     model.compile(optimizer=\"adam\",loss=\"categorical_crossentropy\",metrics=[\"accuracy\"])\n",
        "\n",
        "# model.summary()\n",
        "# history = model.fit(ds_train,epochs=50,validation_data=ds_test)\n",
        "\n",
        "\n",
        "from tensorflow.keras.applications import EfficientNetB0\n",
        "\n",
        "with strategy.scope():\n",
        "    inputs = layers.Input(shape=(IMG_SIZE, IMG_SIZE, 3))\n",
        "    x = img_augmentation(inputs)\n",
        "    outputs = EfficientNetB0(include_top=True, weights=None, classes=NUM_CLASSES)(x)\n",
        "\n",
        "    model = tf.keras.Model(inputs, outputs)\n",
        "    model.compile(\n",
        "        optimizer=\"adam\", loss=\"categorical_crossentropy\", metrics=[\"accuracy\"]\n",
        "    )\n",
        "\n",
        "model.summary()\n",
        "\n",
        "epochs = 10  \n"
      ],
      "execution_count": null,
      "outputs": []
    },
    {
      "cell_type": "code",
      "metadata": {
        "id": "9cTAMYg4FAfJ"
      },
      "source": [
        ""
      ],
      "execution_count": null,
      "outputs": []
    },
    {
      "cell_type": "code",
      "metadata": {
        "id": "P7hjuT3jy0n7"
      },
      "source": [
        "from keras.layers.experimental import preprocessing\n",
        "\n",
        "def build(num_classes):\n",
        "    inputs = keras.Input(shape=(IMG_SIZE,IMG_SIZE,3))\n",
        "    x = img_augmentation(inputs)\n",
        "    model = EffiecientNetB0(include_top=False,input_tensor=x,weights='imagenet')\n",
        "\n",
        "    # freeze pretrained model layer or using image net weights\n",
        "    model.trainable = False\n",
        "\n",
        "    x = keras.layers.GlobalAveragePooling2D(name='ang_pool')(model.output)\n",
        "    x = keras.layers.BatchNormalization()(x)\n",
        "\n",
        "    \n",
        "\n"
      ],
      "execution_count": null,
      "outputs": []
    },
    {
      "cell_type": "code",
      "metadata": {
        "colab": {
          "base_uri": "https://localhost:8080/",
          "height": 241
        },
        "id": "krAX59hvVsWZ",
        "outputId": "e151ed49-4061-4a42-ad9d-26a89c2b99d2"
      },
      "source": [
        "from PIL import Image\n",
        "# classifier_model =\"https://tfhub.dev/google/tf2-preview/mobilenet_v2/classification/4\"\n",
        "classifier_model = \"https://tfhub.dev/google/cropnet/classifier/cassava_disease_V1/2\"\n",
        "IMAGE_SHAPE = (224, 224)\n",
        "\n",
        "classifier = tf.keras.Sequential([\n",
        "    hub.KerasLayer(classifier_model, input_shape=IMAGE_SHAPE+(3,))\n",
        "])\n",
        "\n",
        "grace_path = \"/content/train-cbb-1.jpg\"\n",
        "grace_hopper = Image.open(grace_path).resize(IMAGE_SHAPE)\n",
        "grace_hopper"
      ],
      "execution_count": null,
      "outputs": [
        {
          "output_type": "execute_result",
          "data": {
            "image/png": "[encoded data removed]",
            "text/plain": [
              "<PIL.Image.Image image mode=RGB size=224x224 at 0x7F0E9E3B5C10>"
            ]
          },
          "metadata": {
            "tags": []
          },
          "execution_count": 17
        }
      ]
    },
    {
      "cell_type": "code",
      "metadata": {
        "colab": {
          "base_uri": "https://localhost:8080/"
        },
        "id": "DJB668V_Wa8i",
        "outputId": "fb855a9b-fa29-42c0-d91d-cb31c1f61e31"
      },
      "source": [
        "grace_hopper = np.array(grace_hopper)/255.0\n",
        "grace_hopper.shape\n",
        "result = classifier.predict(grace_hopper[np.newaxis, ...])\n",
        "result.shape"
      ],
      "execution_count": null,
      "outputs": [
        {
          "output_type": "execute_result",
          "data": {
            "text/plain": [
              "(1, 6)"
            ]
          },
          "metadata": {
            "tags": []
          },
          "execution_count": 18
        }
      ]
    },
    {
      "cell_type": "code",
      "metadata": {
        "colab": {
          "base_uri": "https://localhost:8080/",
          "height": 35
        },
        "id": "b5kC6zevWkkK",
        "outputId": "0ec8a624-7ff4-4dde-d588-c6a105c169f7"
      },
      "source": [
        "predicted_class = np.argmax(result[0], axis=-1)\n",
        "\n",
        "predicted_class = labels[predicted_class]\n",
        "name_map[predicted_class]"
      ],
      "execution_count": null,
      "outputs": [
        {
          "output_type": "execute_result",
          "data": {
            "application/vnd.google.colaboratory.intrinsic+json": {
              "type": "string"
            },
            "text/plain": [
              "'Bacterial Blight'"
            ]
          },
          "metadata": {
            "tags": []
          },
          "execution_count": 35
        }
      ]
    },
    {
      "cell_type": "code",
      "metadata": {
        "id": "y-TYQFXSa6Bj"
      },
      "source": [
        ""
      ],
      "execution_count": null,
      "outputs": []
    },
    {
      "cell_type": "code",
      "metadata": {
        "colab": {
          "base_uri": "https://localhost:8080/"
        },
        "id": "iNmlz5oDW4aw",
        "outputId": "69e1da9d-a69b-4797-cabe-232504e97b2c"
      },
      "source": [
        "\n",
        "name_map = dict(\n",
        "    cmd='Mosaic Disease',\n",
        "    cbb='Bacterial Blight',\n",
        "    cgm='Green Mite',\n",
        "    cbsd='Brown Streak Disease',\n",
        "    healthy='Healthy',\n",
        "    unknown='Unknown')\n",
        "\n",
        "labels = list(name_map.keys())\n",
        "labels"
      ],
      "execution_count": null,
      "outputs": [
        {
          "output_type": "execute_result",
          "data": {
            "text/plain": [
              "['cmd', 'cbb', 'cgm', 'cbsd', 'healthy', 'unknown']"
            ]
          },
          "metadata": {
            "tags": []
          },
          "execution_count": 14
        }
      ]
    },
    {
      "cell_type": "code",
      "metadata": {
        "colab": {
          "base_uri": "https://localhost:8080/"
        },
        "id": "DW4kt16Gcc31",
        "outputId": "0567004b-5f1c-48ff-e141-2f5480d1f960"
      },
      "source": [
        "keras.models.save_model(classifier,\"/content/model\",)"
      ],
      "execution_count": null,
      "outputs": [
        {
          "output_type": "stream",
          "text": [
            "WARNING:tensorflow:Compiled the loaded model, but the compiled metrics have yet to be built. `model.compile_metrics` will be empty until you train or evaluate the model.\n"
          ],
          "name": "stdout"
        },
        {
          "output_type": "stream",
          "text": [
            "WARNING:tensorflow:Compiled the loaded model, but the compiled metrics have yet to be built. `model.compile_metrics` will be empty until you train or evaluate the model.\n"
          ],
          "name": "stderr"
        },
        {
          "output_type": "stream",
          "text": [
            "INFO:tensorflow:Assets written to: /content/model/assets\n"
          ],
          "name": "stdout"
        },
        {
          "output_type": "stream",
          "text": [
            "INFO:tensorflow:Assets written to: /content/model/assets\n"
          ],
          "name": "stderr"
        }
      ]
    },
    {
      "cell_type": "code",
      "metadata": {
        "colab": {
          "base_uri": "https://localhost:8080/"
        },
        "id": "Idhgc4hOj3N-",
        "outputId": "3d9df189-fa94-48ae-9e68-1bb4242b454e"
      },
      "source": [
        "model = keras.models.load_model(\"/content/model\")\n"
      ],
      "execution_count": null,
      "outputs": [
        {
          "output_type": "stream",
          "text": [
            "WARNING:tensorflow:No training configuration found in save file, so the model was *not* compiled. Compile it manually.\n"
          ],
          "name": "stdout"
        },
        {
          "output_type": "stream",
          "text": [
            "WARNING:tensorflow:No training configuration found in save file, so the model was *not* compiled. Compile it manually.\n"
          ],
          "name": "stderr"
        },
        {
          "output_type": "execute_result",
          "data": {
            "text/plain": [
              "<tensorflow.python.keras.engine.sequential.Sequential at 0x7f0d213b8fd0>"
            ]
          },
          "metadata": {
            "tags": []
          },
          "execution_count": 38
        }
      ]
    },
    {
      "cell_type": "code",
      "metadata": {
        "colab": {
          "base_uri": "https://localhost:8080/",
          "height": 35
        },
        "id": "1tWsKZ4ykKIj",
        "outputId": "438b91aa-19ec-41e7-dc0c-cc7e9aa94475"
      },
      "source": [
        "result = model.predict(grace_hopper[np.newaxis, ...])\n",
        "\n",
        "predicted_class = np.argmax(result[0], axis=-1)\n",
        "\n",
        "predicted_class = labels[predicted_class]\n",
        "name_map[predicted_class]"
      ],
      "execution_count": null,
      "outputs": [
        {
          "output_type": "execute_result",
          "data": {
            "application/vnd.google.colaboratory.intrinsic+json": {
              "type": "string"
            },
            "text/plain": [
              "'Bacterial Blight'"
            ]
          },
          "metadata": {
            "tags": []
          },
          "execution_count": 39
        }
      ]
    },
    {
      "cell_type": "code",
      "metadata": {
        "id": "Jdbocozg3Zzc"
      },
      "source": [
        ""
      ],
      "execution_count": null,
      "outputs": []
    },
    {
      "cell_type": "markdown",
      "metadata": {
        "id": "brbZb8Z83dvh"
      },
      "source": [
        "# Question -duplicate data using sklearn and RNN"
      ]
    },
    {
      "cell_type": "code",
      "metadata": {
        "id": "ScGqgBcm3nZ1",
        "colab": {
          "base_uri": "https://localhost:8080/"
        },
        "outputId": "1282bc9f-fa65-4036-f5f3-93268b56bb3e"
      },
      "source": [
        "path = \"/content/drive/MyDrive/datasets/zip data files/quora_duplicate_questions.tsv\"\n",
        "datasets = pd.read_csv(path,sep=\"\\t\", header=0)\n",
        "\n",
        "# datasets[['question1','question2']]=  datasets.select_dtypes(include='O').convert_dtypes(pd.StringDtype())\n",
        "\n",
        "datasets.dropna(inplace=True)\n",
        "train_dataset,valid_dataset  = datasets.iloc[:int(datasets.shape[0]*0.8),:],datasets.iloc[int(datasets.shape[0]*0.8):,:]\n",
        "datasets.to_csv(\"/content/csv_quora_data.csv\")\n",
        "\n",
        "train_dataset.to_csv(\"/content/csv_quora_data_train.csv\")\n",
        "valid_dataset.to_csv(\"/content/csv_quora_data_valid.csv\")\n",
        "datasets.head(1)\n",
        "datasets.info()\n"
      ],
      "execution_count": 29,
      "outputs": [
        {
          "output_type": "stream",
          "text": [
            "<class 'pandas.core.frame.DataFrame'>\n",
            "Int64Index: 404348 entries, 0 to 404350\n",
            "Data columns (total 6 columns):\n",
            " #   Column        Non-Null Count   Dtype \n",
            "---  ------        --------------   ----- \n",
            " 0   id            404348 non-null  int64 \n",
            " 1   qid1          404348 non-null  int64 \n",
            " 2   qid2          404348 non-null  int64 \n",
            " 3   question1     404348 non-null  object\n",
            " 4   question2     404348 non-null  object\n",
            " 5   is_duplicate  404348 non-null  int64 \n",
            "dtypes: int64(4), object(2)\n",
            "memory usage: 21.6+ MB\n"
          ],
          "name": "stdout"
        }
      ]
    },
    {
      "cell_type": "code",
      "metadata": {
        "colab": {
          "base_uri": "https://localhost:8080/"
        },
        "id": "vWYv-Zxiz5kA",
        "outputId": "32b18c9c-bb0b-4f66-9e06-e49347ee5038"
      },
      "source": [
        "train_dataset.shape,valid_dataset.shape"
      ],
      "execution_count": 30,
      "outputs": [
        {
          "output_type": "execute_result",
          "data": {
            "text/plain": [
              "((323478, 6), (80870, 6))"
            ]
          },
          "metadata": {
            "tags": []
          },
          "execution_count": 30
        }
      ]
    },
    {
      "cell_type": "code",
      "metadata": {
        "colab": {
          "base_uri": "https://localhost:8080/"
        },
        "id": "yeX0kFsGFQCZ",
        "outputId": "1c892a13-d4fd-4142-abbd-dcfeb547054d"
      },
      "source": [
        "tf_datasets = tf.data.experimental.CsvDataset(\"/content/csv_quora_data.csv\", [tf.int32, tf.int32, tf.string,tf.string,tf.int32],header=True, select_cols=[2,3,4,5,6])\n",
        "tf_datasets\n"
      ],
      "execution_count": 8,
      "outputs": [
        {
          "output_type": "execute_result",
          "data": {
            "text/plain": [
              "<CsvDatasetV2 shapes: ((), (), (), (), ()), types: (tf.int32, tf.int32, tf.string, tf.string, tf.int32)>"
            ]
          },
          "metadata": {
            "tags": []
          },
          "execution_count": 8
        }
      ]
    },
    {
      "cell_type": "code",
      "metadata": {
        "id": "ilV-_LK83rY7",
        "colab": {
          "base_uri": "https://localhost:8080/"
        },
        "outputId": "c5b5098f-bb69-48b7-841b-2d65450176ce"
      },
      "source": [
        "train_tf_datasets = tf.data.experimental.CsvDataset(\"/content/csv_quora_data_train.csv\", [tf.string,tf.string,tf.int32],header=True, select_cols=[4,5,6])\n",
        "valid_tf_datasets = tf.data.experimental.CsvDataset(\"/content/csv_quora_data_valid.csv\", [tf.string,tf.string,tf.int32],header=True, select_cols=[4,5,6])\n",
        "train_tf_datasets;  valid_tf_datasets"
      ],
      "execution_count": 31,
      "outputs": [
        {
          "output_type": "execute_result",
          "data": {
            "text/plain": [
              "<CsvDatasetV2 shapes: ((), (), ()), types: (tf.string, tf.string, tf.int32)>"
            ]
          },
          "metadata": {
            "tags": []
          },
          "execution_count": 31
        }
      ]
    },
    {
      "cell_type": "code",
      "metadata": {
        "id": "CQvGHA2A3rKq"
      },
      "source": [
        "import regex as re\n",
        "pat = re.compile(\"[.!@#$%^&*()><:;\"\"''?/\\*0-9]\")\n",
        "\n",
        "def tf_preprocess(input_data):\n",
        "    input_data =input_data.map(lambda c,d,x: (tf.strings.lower(c),tf.strings.lower(d),x))\n",
        "    data = input_data.map(lambda a,c,d: (tf.strings.regex_replace(a,\"[.!@#$%^&*()><:;\"\"''?/\\*0-9]\",\"\"),tf.strings.regex_replace(c,\"[.!@#$%^&*()><:;\"\"''?/\\*0-9]\",\"\"),d))\n",
        "    data = data.cache().shuffle(10**5).batch(64).prefetch(1)\n",
        "    return data\n",
        "\n",
        "# datasets.dropna(inplace=True)\n",
        "# datasets['question1'] = datasets['question1'].apply(preprocess)\n",
        "# datasets['question2'] = datasets['question2'].apply(preprocess)\n",
        "\n",
        "\n",
        "tf_datasets= tf_datasets.apply(tf_preprocess)\n",
        "\n",
        "train_tf_datasets= train_tf_datasets.apply(tf_preprocess);  valid_tf_datasets = valid_tf_datasets.apply(tf_preprocess)\n"
      ],
      "execution_count": 33,
      "outputs": []
    },
    {
      "cell_type": "code",
      "metadata": {
        "id": "s3XRWU72O-5Y"
      },
      "source": [
        ""
      ],
      "execution_count": null,
      "outputs": []
    },
    {
      "cell_type": "code",
      "metadata": {
        "id": "BdpHlJEQbGTk"
      },
      "source": [
        "\n",
        "def spliting_data():\n",
        "    datasets_valid = datasets.iloc[:int(0.2*datasets.shape[0]),:]\n",
        "    datasets_train = datasets.iloc[int(0.2*datasets.shape[0]):,:]\n",
        "    return datasets_train,datasets_valid\n",
        "datasets_train,datasets_valid = spliting_data()\n",
        "\n"
      ],
      "execution_count": 10,
      "outputs": []
    },
    {
      "cell_type": "code",
      "metadata": {
        "id": "s5aVB4SXUqlI"
      },
      "source": [
        "# files saving for keras data preprocessing\n",
        "path0 =\"/content/drive/MyDrive/train_quora/0/train0.csv\"\n",
        "path1 =\"/content/drive/MyDrive/train_quora/1/train1.csv\"\n",
        "\n",
        "datasets_train[datasets_train['is_duplicate']==0].to_csv(path0)\n",
        "datasets_train[datasets_train['is_duplicate']==1].to_csv(path1)\n",
        "\n",
        "path0 =\"/content/drive/MyDrive/validation_qoura/0/valid0.csv\"\n",
        "path1 =\"/content/drive/MyDrive/validation_qoura/1/valid1.csv\"\n",
        "\n",
        "datasets_valid[datasets_valid['is_duplicate']==0].to_csv(path0)\n",
        "datasets_valid[datasets_valid['is_duplicate']==1].to_csv(path1)\n"
      ],
      "execution_count": null,
      "outputs": []
    },
    {
      "cell_type": "code",
      "metadata": {
        "id": "w1ITGvNLLwLR"
      },
      "source": [
        "AUTOTUNE = tf.data.AUTOTUNE\n",
        "def pd_to_tensor():\n",
        "    d = datasets['question1']\n",
        "    df2 = tf.ragged.constant(d,dtype=tf.string)\n",
        "    df = tf.ragged.constant(datasets['question2'],dtype=tf.string)\n",
        "\n",
        "    datasets['question1'] = df2\n",
        "    datasets['question2'] = df\n",
        "    return datasets\n",
        "datasets = pd_to_tensor()\n"
      ],
      "execution_count": 11,
      "outputs": []
    },
    {
      "cell_type": "code",
      "metadata": {
        "id": "YWbKUe-_f3pE"
      },
      "source": [
        "tf_text_dataset = tf_datasets.map(lambda qid1,qid2,y: ((qid1,qid2),y))\n",
        "tf_text_dataset= tf_text_dataset.cache().shuffle(10**5).prefetch(1)\n",
        "\n",
        "valid_tf_dataset = valid_tf_datasets.map(lambda qid1,qid2,y: ((qid1,qid2),y))\n",
        "valid_tf_dataset = valid_tf_dataset.cache().shuffle(10**5).prefetch(1)\n",
        "\n",
        "train_tf_dataset = train_tf_datasets.map(lambda qid1,qid2,y: ((qid1,qid2),y))\n",
        "train_tf_dataset = train_tf_dataset.cache().shuffle(10**5).prefetch(1)\n",
        "\n",
        "\n",
        "tf_text_new = tf_datasets.map(lambda qid1, qid2,y: (qid1))\n",
        "tf_text_new = tf_text_new.cache().prefetch(1)\n",
        "\n",
        "tf_text_new2 = tf_datasets.map(lambda qid1, qid2,y: (qid2))\n",
        "tf_text_new2 = tf_text_new2.cache().prefetch(1)\n"
      ],
      "execution_count": 34,
      "outputs": []
    },
    {
      "cell_type": "code",
      "metadata": {
        "id": "WlQ3z4y-TNCD"
      },
      "source": [
        "text_df = tf_text_new.concatenate(tf_text_new2)\n",
        "text_df = text_df.cache().prefetch(1)\n",
        "\n",
        "\n"
      ],
      "execution_count": 22,
      "outputs": []
    },
    {
      "cell_type": "code",
      "metadata": {
        "id": "gzIxj5cHXQDd"
      },
      "source": [
        "VOCAB_SIZE = 1000\n",
        "encoder = tf.keras.layers.experimental.preprocessing.TextVectorization(\n",
        "    max_tokens=VOCAB_SIZE)\n",
        "encoder.adapt(text_df.map(lambda text: text))"
      ],
      "execution_count": 14,
      "outputs": []
    },
    {
      "cell_type": "code",
      "metadata": {
        "colab": {
          "base_uri": "https://localhost:8080/"
        },
        "id": "IxFEUJYucPvv",
        "outputId": "c80a4ba0-65c4-472f-ac1a-a0e90d149cb1"
      },
      "source": [
        "vocab = np.array(encoder.get_vocabulary())\n",
        "for example, label in tf_text_dataset.take(1):\n",
        "    print(\"text:\", example[0][0], example[1][0])\n",
        "    print()\n",
        "    print(\"label:\",label[0])\n",
        "encoded_example = encoder(example[0])[:3].numpy()\n",
        "encoded_example.shape"
      ],
      "execution_count": 15,
      "outputs": [
        {
          "output_type": "stream",
          "text": [
            "text: tf.Tensor(b'what does right side chest pain indicate', shape=(), dtype=string) tf.Tensor(b'why is the right side of the chest is paining', shape=(), dtype=string)\n",
            "\n",
            "label: tf.Tensor(1, shape=(), dtype=int32)\n"
          ],
          "name": "stdout"
        },
        {
          "output_type": "execute_result",
          "data": {
            "text/plain": [
              "(3, 24)"
            ]
          },
          "metadata": {
            "tags": []
          },
          "execution_count": 15
        }
      ]
    },
    {
      "cell_type": "code",
      "metadata": {
        "colab": {
          "base_uri": "https://localhost:8080/"
        },
        "id": "afbX_ntFhnkl",
        "outputId": "eef8bd52-dde3-4785-c98f-2c116f68fa3b"
      },
      "source": [
        "for n in range(3):\n",
        "  print(\"Original: \", example[1][n].numpy())\n",
        "  print(\"Round-trip: \", \" \".join(vocab[encoded_example[n]]))\n",
        "  print()\n",
        "\n",
        "# (encoded_example).shape"
      ],
      "execution_count": 16,
      "outputs": [
        {
          "output_type": "stream",
          "text": [
            "Original:  b'why is the right side of the chest is paining'\n",
            "Round-trip:  what does right side [UNK] pain [UNK]                 \n",
            "\n",
            "Original:  b'what are burlap tablecloths made of'\n",
            "Round-trip:  how can i [UNK] [UNK] [UNK]                  \n",
            "\n",
            "Original:  b'why do some people on quora edit questions to the point the original question or important details are lost'\n",
            "Round-trip:  why can everyone [UNK] my questions on quora to anything even for [UNK]           \n",
            "\n"
          ],
          "name": "stdout"
        }
      ]
    },
    {
      "cell_type": "code",
      "metadata": {
        "colab": {
          "base_uri": "https://localhost:8080/"
        },
        "id": "lY3OX_e2jUHU",
        "outputId": "1e7971c9-27df-4e30-dc12-4956e0e576d7"
      },
      "source": [
        "model = keras.Sequential([\n",
        "                          encoder,\n",
        "                          keras.layers.Embedding(input_dim=len(encoder.get_vocabulary()),mask_zero=True,output_dim=64\n",
        "                                                 ),\n",
        "                          keras.layers.Bidirectional(keras.layers.LSTM(64)),\n",
        "                          keras.layers.Dense(64,activation=\"relu\"),\n",
        "                          keras.layers.Dense(1)\n",
        "])\n",
        "\n",
        "print([layer.supports_masking for layer in model.layers])\n",
        "\n",
        "\n",
        "sample_text = ('what is name president'\n",
        "                'how do I become seo expert' )\n",
        "predictions = model.predict(np.array([sample_text]))\n",
        "print(predictions[0])\n",
        "\n",
        "\n",
        "padding = \"the \" * 2000\n",
        "predictions = model.predict(np.array([sample_text, padding]))\n",
        "print(predictions[0])"
      ],
      "execution_count": 17,
      "outputs": [
        {
          "output_type": "stream",
          "text": [
            "[False, True, True, True, True]\n",
            "[0.00177471]\n",
            "[0.00177471]\n"
          ],
          "name": "stdout"
        }
      ]
    },
    {
      "cell_type": "code",
      "metadata": {
        "colab": {
          "base_uri": "https://localhost:8080/"
        },
        "id": "RgOBv1fJvXeu",
        "outputId": "9c9d79ee-94bb-433e-c4dd-abf0149956a4"
      },
      "source": [
        "tf_text_dataset.map(lambda x)"
      ],
      "execution_count": 20,
      "outputs": [
        {
          "output_type": "execute_result",
          "data": {
            "text/plain": [
              "<bound method DatasetV2.map of <PrefetchDataset shapes: (((None,), (None,)), (None,)), types: ((tf.string, tf.string), tf.int32)>>"
            ]
          },
          "metadata": {
            "tags": []
          },
          "execution_count": 20
        }
      ]
    },
    {
      "cell_type": "code",
      "metadata": {
        "colab": {
          "base_uri": "https://localhost:8080/"
        },
        "id": "fSKpl0R_pe8G",
        "outputId": "68ff8869-81a2-4722-e2f0-525a36261e50"
      },
      "source": [
        "model.compile(loss=tf.keras.losses.BinaryCrossentropy(from_logits=True),\n",
        "              optimizer=tf.keras.optimizers.Adam(1e-4),\n",
        "              metrics=['accuracy'])\n",
        "\n",
        "history = model.fit(tf_text_dataset, epochs=10,\n",
        "                    # validation_data=test_dataset,\n",
        "                    validation_steps=30)"
      ],
      "execution_count": 21,
      "outputs": [
        {
          "output_type": "stream",
          "text": [
            "Epoch 1/10\n",
            "WARNING:tensorflow:Layers in a Sequential model should only have a single input tensor, but we receive a <class 'tuple'> input: (<tf.Tensor 'ExpandDims:0' shape=(None, 1) dtype=string>, <tf.Tensor 'ExpandDims_1:0' shape=(None, 1) dtype=string>)\n",
            "Consider rewriting this model with the Functional API.\n",
            "WARNING:tensorflow:Layers in a Sequential model should only have a single input tensor, but we receive a <class 'tuple'> input: (<tf.Tensor 'ExpandDims:0' shape=(None, 1) dtype=string>, <tf.Tensor 'ExpandDims_1:0' shape=(None, 1) dtype=string>)\n",
            "Consider rewriting this model with the Functional API.\n",
            "6318/6318 [==============================] - 94s 14ms/step - loss: 0.5653 - accuracy: 0.6996\n",
            "Epoch 2/10\n",
            "6318/6318 [==============================] - 87s 14ms/step - loss: 0.5498 - accuracy: 0.7121\n",
            "Epoch 3/10\n",
            "6318/6318 [==============================] - 87s 14ms/step - loss: 0.5441 - accuracy: 0.7153\n",
            "Epoch 4/10\n",
            "6318/6318 [==============================] - 86s 14ms/step - loss: 0.5400 - accuracy: 0.7175\n",
            "Epoch 5/10\n",
            "6318/6318 [==============================] - 86s 14ms/step - loss: 0.5362 - accuracy: 0.7201\n",
            "Epoch 6/10\n",
            "6318/6318 [==============================] - 86s 14ms/step - loss: 0.5328 - accuracy: 0.7222\n",
            "Epoch 7/10\n",
            "6318/6318 [==============================] - 86s 14ms/step - loss: 0.5296 - accuracy: 0.7240\n",
            "Epoch 8/10\n",
            "6318/6318 [==============================] - 86s 14ms/step - loss: 0.5267 - accuracy: 0.7258\n",
            "Epoch 9/10\n",
            "6318/6318 [==============================] - 85s 14ms/step - loss: 0.5240 - accuracy: 0.7276\n",
            "Epoch 10/10\n",
            "6318/6318 [==============================] - 85s 14ms/step - loss: 0.5217 - accuracy: 0.7296\n"
          ],
          "name": "stdout"
        }
      ]
    },
    {
      "cell_type": "code",
      "metadata": {
        "colab": {
          "base_uri": "https://localhost:8080/",
          "height": 279
        },
        "id": "0uZ4E4zzpzIf",
        "outputId": "8cf77910-b7b1-4629-bd01-d8eef81ebbb9"
      },
      "source": [
        "import matplotlib.pyplot as plt\n",
        "\n",
        "\n",
        "def plot_graphs(history, metric):\n",
        "  plt.plot(history.history[metric])\n",
        "#   plt.plot(history.history['val_'+metric], '')\n",
        "  plt.xlabel(\"Epochs\")\n",
        "  plt.ylabel(metric)\n",
        "  plt.legend([metric, 'val_'+metric])\n",
        "\n",
        "plot_graphs(history,'accuracy')"
      ],
      "execution_count": 39,
      "outputs": [
        {
          "output_type": "display_data",
          "data": {
            "image/png": "[encoded data removed]",
            "text/plain": [
              "<Figure size 432x288 with 1 Axes>"
            ]
          },
          "metadata": {
            "tags": [],
            "needs_background": "light"
          }
        }
      ]
    },
    {
      "cell_type": "code",
      "metadata": {
        "colab": {
          "base_uri": "https://localhost:8080/"
        },
        "id": "vT8kKxFY1Dut",
        "outputId": "460704c1-6e30-4114-b28c-850ab9df4a9c"
      },
      "source": [
        "model.evaluate(valid_tf_dataset)"
      ],
      "execution_count": 41,
      "outputs": [
        {
          "output_type": "stream",
          "text": [
            "WARNING:tensorflow:Layers in a Sequential model should only have a single input tensor, but we receive a <class 'tuple'> input: (<tf.Tensor 'ExpandDims:0' shape=(None, 1) dtype=string>, <tf.Tensor 'ExpandDims_1:0' shape=(None, 1) dtype=string>)\n",
            "Consider rewriting this model with the Functional API.\n",
            "1264/1264 [==============================] - 12s 6ms/step - loss: 0.5124 - accuracy: 0.7364\n"
          ],
          "name": "stdout"
        },
        {
          "output_type": "execute_result",
          "data": {
            "text/plain": [
              "[0.5124017596244812, 0.7364411950111389]"
            ]
          },
          "metadata": {
            "tags": []
          },
          "execution_count": 41
        }
      ]
    },
    {
      "cell_type": "code",
      "metadata": {
        "colab": {
          "base_uri": "https://localhost:8080/"
        },
        "id": "3VR2xzLZ1KzX",
        "outputId": "7324c74d-bdba-4a62-ab16-0c9a65fa9465"
      },
      "source": [
        "for (text1,text2),label in valid_tf_dataset.take(1):\n",
        "    print(len(text1), label.shape)\n",
        "    print(text1[0], text2[0], label[0])"
      ],
      "execution_count": 44,
      "outputs": [
        {
          "output_type": "stream",
          "text": [
            "64 (64,)\n",
            "tf.Tensor(b'how has stephen hawking survived with als for so long', shape=(), dtype=string) tf.Tensor(b'how does stephen hawking laugh', shape=(), dtype=string) tf.Tensor(0, shape=(), dtype=int32)\n"
          ],
          "name": "stdout"
        }
      ]
    },
    {
      "cell_type": "code",
      "metadata": {
        "colab": {
          "base_uri": "https://localhost:8080/"
        },
        "id": "UMXdt8tY1u9-",
        "outputId": "d4e68738-8b9f-4329-fca7-a83a3afe621f"
      },
      "source": [
        "np.argmax(model.predict((text1,text2)), axis=-1), label\n",
        "m1 = model.predict_classes((text1,text2)).reshape(1,-1)[0]; m2 = label"
      ],
      "execution_count": 95,
      "outputs": [
        {
          "output_type": "stream",
          "text": [
            "/usr/local/lib/python3.7/dist-packages/tensorflow/python/keras/engine/sequential.py:455: UserWarning: `model.predict_classes()` is deprecated and will be removed after 2021-01-01. Please use instead:* `np.argmax(model.predict(x), axis=-1)`,   if your model does multi-class classification   (e.g. if it uses a `softmax` last-layer activation).* `(model.predict(x) > 0.5).astype(\"int32\")`,   if your model does binary classification   (e.g. if it uses a `sigmoid` last-layer activation).\n",
            "  warnings.warn('`model.predict_classes()` is deprecated and '\n"
          ],
          "name": "stderr"
        }
      ]
    },
    {
      "cell_type": "code",
      "metadata": {
        "colab": {
          "base_uri": "https://localhost:8080/"
        },
        "id": "WCLgrdq-2fc2",
        "outputId": "4d23884f-913b-4939-a9a6-aab3921955a1"
      },
      "source": [
        "# sns.lineplot(x = np.arange(m1[0].shape[1]), y=m1[0])\n",
        "mean_squared_error(m2.numpy(),m1)\n",
        "# m1.shape,m2.shape\n",
        "\n",
        "m2.numpy(),m1"
      ],
      "execution_count": 100,
      "outputs": [
        {
          "output_type": "execute_result",
          "data": {
            "text/plain": [
              "(array([0, 1, 1, 1, 0, 0, 0, 0, 1, 1, 1, 1, 1, 0, 1, 1, 0, 0, 0, 1, 0, 0,\n",
              "        1, 0, 1, 0, 1, 0, 0, 0, 0, 0, 0, 0, 0, 1, 0, 1, 0, 0, 1, 1, 0, 0,\n",
              "        0, 1, 0, 1, 0, 1, 0, 0, 1, 0, 1, 0, 1, 1, 0, 0, 0, 1, 0, 0],\n",
              "       dtype=int32),\n",
              " array([0, 0, 1, 0, 0, 0, 0, 0, 1, 0, 1, 0, 0, 0, 1, 0, 0, 0, 0, 0, 0, 0,\n",
              "        0, 0, 1, 1, 1, 0, 0, 0, 0, 1, 0, 0, 0, 0, 0, 0, 0, 0, 0, 0, 0, 0,\n",
              "        0, 0, 0, 0, 0, 0, 0, 0, 0, 0, 0, 0, 0, 0, 0, 0, 1, 1, 0, 0],\n",
              "       dtype=int32))"
            ]
          },
          "metadata": {
            "tags": []
          },
          "execution_count": 100
        }
      ]
    },
    {
      "cell_type": "code",
      "metadata": {
        "id": "7byf7Ylg4VHB"
      },
      "source": [
        ""
      ],
      "execution_count": null,
      "outputs": []
    }
  ]
}