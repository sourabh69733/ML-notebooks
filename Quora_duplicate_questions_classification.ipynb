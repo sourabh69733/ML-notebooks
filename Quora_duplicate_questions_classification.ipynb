{
  "nbformat": 4,
  "nbformat_minor": 0,
  "metadata": {
    "colab": {
      "name": "Quora duplicate questions classification",
      "provenance": []
    },
    "kernelspec": {
      "name": "python3",
      "display_name": "Python 3"
    },
    "language_info": {
      "name": "python"
    }
  },
  "cells": [
    {
      "cell_type": "markdown",
      "metadata": {
        "id": "brbZb8Z83dvh"
      },
      "source": [
        "# Question -duplicate data using sklearn and RNN"
      ]
    },
    {
      "cell_type": "code",
      "metadata": {
        "id": "ScGqgBcm3nZ1",
        "colab": {
          "base_uri": "https://localhost:8080/"
        },
        "outputId": "1282bc9f-fa65-4036-f5f3-93268b56bb3e"
      },
      "source": [
        "path = \"/content/drive/MyDrive/datasets/zip data files/quora_duplicate_questions.tsv\"\n",
        "datasets = pd.read_csv(path,sep=\"\\t\", header=0)\n",
        "\n",
        "# datasets[['question1','question2']]=  datasets.select_dtypes(include='O').convert_dtypes(pd.StringDtype())\n",
        "\n",
        "datasets.dropna(inplace=True)\n",
        "train_dataset,valid_dataset  = datasets.iloc[:int(datasets.shape[0]*0.8),:],datasets.iloc[int(datasets.shape[0]*0.8):,:]\n",
        "datasets.to_csv(\"/content/csv_quora_data.csv\")\n",
        "\n",
        "train_dataset.to_csv(\"/content/csv_quora_data_train.csv\")\n",
        "valid_dataset.to_csv(\"/content/csv_quora_data_valid.csv\")\n",
        "datasets.head(1)\n",
        "datasets.info()\n"
      ],
      "execution_count": null,
      "outputs": [
        {
          "output_type": "stream",
          "text": [
            "<class 'pandas.core.frame.DataFrame'>\n",
            "Int64Index: 404348 entries, 0 to 404350\n",
            "Data columns (total 6 columns):\n",
            " #   Column        Non-Null Count   Dtype \n",
            "---  ------        --------------   ----- \n",
            " 0   id            404348 non-null  int64 \n",
            " 1   qid1          404348 non-null  int64 \n",
            " 2   qid2          404348 non-null  int64 \n",
            " 3   question1     404348 non-null  object\n",
            " 4   question2     404348 non-null  object\n",
            " 5   is_duplicate  404348 non-null  int64 \n",
            "dtypes: int64(4), object(2)\n",
            "memory usage: 21.6+ MB\n"
          ],
          "name": "stdout"
        }
      ]
    },
    {
      "cell_type": "code",
      "metadata": {
        "colab": {
          "base_uri": "https://localhost:8080/"
        },
        "id": "vWYv-Zxiz5kA",
        "outputId": "32b18c9c-bb0b-4f66-9e06-e49347ee5038"
      },
      "source": [
        "train_dataset.shape,valid_dataset.shape"
      ],
      "execution_count": null,
      "outputs": [
        {
          "output_type": "execute_result",
          "data": {
            "text/plain": [
              "((323478, 6), (80870, 6))"
            ]
          },
          "metadata": {
            "tags": []
          },
          "execution_count": 30
        }
      ]
    },
    {
      "cell_type": "code",
      "metadata": {
        "colab": {
          "base_uri": "https://localhost:8080/"
        },
        "id": "yeX0kFsGFQCZ",
        "outputId": "1c892a13-d4fd-4142-abbd-dcfeb547054d"
      },
      "source": [
        "tf_datasets = tf.data.experimental.CsvDataset(\"/content/csv_quora_data.csv\", [tf.int32, tf.int32, tf.string,tf.string,tf.int32],header=True, select_cols=[2,3,4,5,6])\n",
        "tf_datasets\n"
      ],
      "execution_count": null,
      "outputs": [
        {
          "output_type": "execute_result",
          "data": {
            "text/plain": [
              "<CsvDatasetV2 shapes: ((), (), (), (), ()), types: (tf.int32, tf.int32, tf.string, tf.string, tf.int32)>"
            ]
          },
          "metadata": {
            "tags": []
          },
          "execution_count": 8
        }
      ]
    },
    {
      "cell_type": "code",
      "metadata": {
        "id": "ilV-_LK83rY7",
        "colab": {
          "base_uri": "https://localhost:8080/"
        },
        "outputId": "c5b5098f-bb69-48b7-841b-2d65450176ce"
      },
      "source": [
        "train_tf_datasets = tf.data.experimental.CsvDataset(\"/content/csv_quora_data_train.csv\", [tf.string,tf.string,tf.int32],header=True, select_cols=[4,5,6])\n",
        "valid_tf_datasets = tf.data.experimental.CsvDataset(\"/content/csv_quora_data_valid.csv\", [tf.string,tf.string,tf.int32],header=True, select_cols=[4,5,6])\n",
        "train_tf_datasets;  valid_tf_datasets"
      ],
      "execution_count": null,
      "outputs": [
        {
          "output_type": "execute_result",
          "data": {
            "text/plain": [
              "<CsvDatasetV2 shapes: ((), (), ()), types: (tf.string, tf.string, tf.int32)>"
            ]
          },
          "metadata": {
            "tags": []
          },
          "execution_count": 31
        }
      ]
    },
    {
      "cell_type": "code",
      "metadata": {
        "id": "CQvGHA2A3rKq"
      },
      "source": [
        "import regex as re\n",
        "pat = re.compile(\"[.!@#$%^&*()><:;\"\"''?/\\*0-9]\")\n",
        "\n",
        "def tf_preprocess(input_data):\n",
        "    input_data =input_data.map(lambda c,d,x: (tf.strings.lower(c),tf.strings.lower(d),x))\n",
        "    data = input_data.map(lambda a,c,d: (tf.strings.regex_replace(a,\"[.!@#$%^&*()><:;\"\"''?/\\*0-9]\",\"\"),tf.strings.regex_replace(c,\"[.!@#$%^&*()><:;\"\"''?/\\*0-9]\",\"\"),d))\n",
        "    data = data.cache().shuffle(10**5).batch(64).prefetch(1)\n",
        "    return data\n",
        "\n",
        "# datasets.dropna(inplace=True)\n",
        "# datasets['question1'] = datasets['question1'].apply(preprocess)\n",
        "# datasets['question2'] = datasets['question2'].apply(preprocess)\n",
        "\n",
        "\n",
        "tf_datasets= tf_datasets.apply(tf_preprocess)\n",
        "\n",
        "train_tf_datasets= train_tf_datasets.apply(tf_preprocess);  valid_tf_datasets = valid_tf_datasets.apply(tf_preprocess)\n"
      ],
      "execution_count": null,
      "outputs": []
    },
    {
      "cell_type": "code",
      "metadata": {
        "id": "s3XRWU72O-5Y"
      },
      "source": [
        ""
      ],
      "execution_count": null,
      "outputs": []
    },
    {
      "cell_type": "code",
      "metadata": {
        "id": "BdpHlJEQbGTk"
      },
      "source": [
        "\n",
        "def spliting_data():\n",
        "    datasets_valid = datasets.iloc[:int(0.2*datasets.shape[0]),:]\n",
        "    datasets_train = datasets.iloc[int(0.2*datasets.shape[0]):,:]\n",
        "    return datasets_train,datasets_valid\n",
        "datasets_train,datasets_valid = spliting_data()\n",
        "\n"
      ],
      "execution_count": null,
      "outputs": []
    },
    {
      "cell_type": "code",
      "metadata": {
        "id": "s5aVB4SXUqlI"
      },
      "source": [
        "# files saving for keras data preprocessing\n",
        "path0 =\"/content/drive/MyDrive/train_quora/0/train0.csv\"\n",
        "path1 =\"/content/drive/MyDrive/train_quora/1/train1.csv\"\n",
        "\n",
        "datasets_train[datasets_train['is_duplicate']==0].to_csv(path0)\n",
        "datasets_train[datasets_train['is_duplicate']==1].to_csv(path1)\n",
        "\n",
        "path0 =\"/content/drive/MyDrive/validation_qoura/0/valid0.csv\"\n",
        "path1 =\"/content/drive/MyDrive/validation_qoura/1/valid1.csv\"\n",
        "\n",
        "datasets_valid[datasets_valid['is_duplicate']==0].to_csv(path0)\n",
        "datasets_valid[datasets_valid['is_duplicate']==1].to_csv(path1)\n"
      ],
      "execution_count": null,
      "outputs": []
    },
    {
      "cell_type": "code",
      "metadata": {
        "id": "w1ITGvNLLwLR"
      },
      "source": [
        "AUTOTUNE = tf.data.AUTOTUNE\n",
        "def pd_to_tensor():\n",
        "    d = datasets['question1']\n",
        "    df2 = tf.ragged.constant(d,dtype=tf.string)\n",
        "    df = tf.ragged.constant(datasets['question2'],dtype=tf.string)\n",
        "\n",
        "    datasets['question1'] = df2\n",
        "    datasets['question2'] = df\n",
        "    return datasets\n",
        "datasets = pd_to_tensor()\n"
      ],
      "execution_count": null,
      "outputs": []
    },
    {
      "cell_type": "code",
      "metadata": {
        "id": "YWbKUe-_f3pE"
      },
      "source": [
        "tf_text_dataset = tf_datasets.map(lambda qid1,qid2,y: ((qid1,qid2),y))\n",
        "tf_text_dataset= tf_text_dataset.cache().shuffle(10**5).prefetch(1)\n",
        "\n",
        "valid_tf_dataset = valid_tf_datasets.map(lambda qid1,qid2,y: ((qid1,qid2),y))\n",
        "valid_tf_dataset = valid_tf_dataset.cache().shuffle(10**5).prefetch(1)\n",
        "\n",
        "train_tf_dataset = train_tf_datasets.map(lambda qid1,qid2,y: ((qid1,qid2),y))\n",
        "train_tf_dataset = train_tf_dataset.cache().shuffle(10**5).prefetch(1)\n",
        "\n",
        "\n",
        "tf_text_new = tf_datasets.map(lambda qid1, qid2,y: (qid1))\n",
        "tf_text_new = tf_text_new.cache().prefetch(1)\n",
        "\n",
        "tf_text_new2 = tf_datasets.map(lambda qid1, qid2,y: (qid2))\n",
        "tf_text_new2 = tf_text_new2.cache().prefetch(1)\n"
      ],
      "execution_count": null,
      "outputs": []
    },
    {
      "cell_type": "code",
      "metadata": {
        "id": "WlQ3z4y-TNCD"
      },
      "source": [
        "text_df = tf_text_new.concatenate(tf_text_new2)\n",
        "text_df = text_df.cache().prefetch(1)\n",
        "\n",
        "\n"
      ],
      "execution_count": null,
      "outputs": []
    },
    {
      "cell_type": "code",
      "metadata": {
        "id": "gzIxj5cHXQDd"
      },
      "source": [
        "VOCAB_SIZE = 1000\n",
        "encoder = tf.keras.layers.experimental.preprocessing.TextVectorization(\n",
        "    max_tokens=VOCAB_SIZE)\n",
        "encoder.adapt(text_df.map(lambda text: text))"
      ],
      "execution_count": null,
      "outputs": []
    },
    {
      "cell_type": "code",
      "metadata": {
        "colab": {
          "base_uri": "https://localhost:8080/"
        },
        "id": "IxFEUJYucPvv",
        "outputId": "c80a4ba0-65c4-472f-ac1a-a0e90d149cb1"
      },
      "source": [
        "vocab = np.array(encoder.get_vocabulary())\n",
        "for example, label in tf_text_dataset.take(1):\n",
        "    print(\"text:\", example[0][0], example[1][0])\n",
        "    print()\n",
        "    print(\"label:\",label[0])\n",
        "encoded_example = encoder(example[0])[:3].numpy()\n",
        "encoded_example.shape"
      ],
      "execution_count": null,
      "outputs": [
        {
          "output_type": "stream",
          "text": [
            "text: tf.Tensor(b'what does right side chest pain indicate', shape=(), dtype=string) tf.Tensor(b'why is the right side of the chest is paining', shape=(), dtype=string)\n",
            "\n",
            "label: tf.Tensor(1, shape=(), dtype=int32)\n"
          ],
          "name": "stdout"
        },
        {
          "output_type": "execute_result",
          "data": {
            "text/plain": [
              "(3, 24)"
            ]
          },
          "metadata": {
            "tags": []
          },
          "execution_count": 15
        }
      ]
    },
    {
      "cell_type": "code",
      "metadata": {
        "colab": {
          "base_uri": "https://localhost:8080/"
        },
        "id": "afbX_ntFhnkl",
        "outputId": "eef8bd52-dde3-4785-c98f-2c116f68fa3b"
      },
      "source": [
        "for n in range(3):\n",
        "  print(\"Original: \", example[1][n].numpy())\n",
        "  print(\"Round-trip: \", \" \".join(vocab[encoded_example[n]]))\n",
        "  print()\n",
        "\n",
        "# (encoded_example).shape"
      ],
      "execution_count": null,
      "outputs": [
        {
          "output_type": "stream",
          "text": [
            "Original:  b'why is the right side of the chest is paining'\n",
            "Round-trip:  what does right side [UNK] pain [UNK]                 \n",
            "\n",
            "Original:  b'what are burlap tablecloths made of'\n",
            "Round-trip:  how can i [UNK] [UNK] [UNK]                  \n",
            "\n",
            "Original:  b'why do some people on quora edit questions to the point the original question or important details are lost'\n",
            "Round-trip:  why can everyone [UNK] my questions on quora to anything even for [UNK]           \n",
            "\n"
          ],
          "name": "stdout"
        }
      ]
    },
    {
      "cell_type": "code",
      "metadata": {
        "colab": {
          "base_uri": "https://localhost:8080/"
        },
        "id": "lY3OX_e2jUHU",
        "outputId": "1e7971c9-27df-4e30-dc12-4956e0e576d7"
      },
      "source": [
        "model = keras.Sequential([\n",
        "                          encoder,\n",
        "                          keras.layers.Embedding(input_dim=len(encoder.get_vocabulary()),mask_zero=True,output_dim=64\n",
        "                                                 ),\n",
        "                          keras.layers.Bidirectional(keras.layers.LSTM(64)),\n",
        "                          keras.layers.Dense(64,activation=\"relu\"),\n",
        "                          keras.layers.Dense(1)\n",
        "])\n",
        "\n",
        "print([layer.supports_masking for layer in model.layers])\n",
        "\n",
        "\n",
        "sample_text = ('what is name president'\n",
        "                'how do I become seo expert' )\n",
        "predictions = model.predict(np.array([sample_text]))\n",
        "print(predictions[0])\n",
        "\n",
        "\n",
        "padding = \"the \" * 2000\n",
        "predictions = model.predict(np.array([sample_text, padding]))\n",
        "print(predictions[0])"
      ],
      "execution_count": null,
      "outputs": [
        {
          "output_type": "stream",
          "text": [
            "[False, True, True, True, True]\n",
            "[0.00177471]\n",
            "[0.00177471]\n"
          ],
          "name": "stdout"
        }
      ]
    },
    {
      "cell_type": "code",
      "metadata": {
        "colab": {
          "base_uri": "https://localhost:8080/"
        },
        "id": "RgOBv1fJvXeu",
        "outputId": "9c9d79ee-94bb-433e-c4dd-abf0149956a4"
      },
      "source": [
        "tf_text_dataset.map(lambda x)"
      ],
      "execution_count": null,
      "outputs": [
        {
          "output_type": "execute_result",
          "data": {
            "text/plain": [
              "<bound method DatasetV2.map of <PrefetchDataset shapes: (((None,), (None,)), (None,)), types: ((tf.string, tf.string), tf.int32)>>"
            ]
          },
          "metadata": {
            "tags": []
          },
          "execution_count": 20
        }
      ]
    },
    {
      "cell_type": "code",
      "metadata": {
        "colab": {
          "base_uri": "https://localhost:8080/"
        },
        "id": "fSKpl0R_pe8G",
        "outputId": "68ff8869-81a2-4722-e2f0-525a36261e50"
      },
      "source": [
        "model.compile(loss=tf.keras.losses.BinaryCrossentropy(from_logits=True),\n",
        "              optimizer=tf.keras.optimizers.Adam(1e-4),\n",
        "              metrics=['accuracy'])\n",
        "\n",
        "history = model.fit(tf_text_dataset, epochs=10,\n",
        "                    # validation_data=test_dataset,\n",
        "                    validation_steps=30)"
      ],
      "execution_count": null,
      "outputs": [
        {
          "output_type": "stream",
          "text": [
            "Epoch 1/10\n",
            "WARNING:tensorflow:Layers in a Sequential model should only have a single input tensor, but we receive a <class 'tuple'> input: (<tf.Tensor 'ExpandDims:0' shape=(None, 1) dtype=string>, <tf.Tensor 'ExpandDims_1:0' shape=(None, 1) dtype=string>)\n",
            "Consider rewriting this model with the Functional API.\n",
            "WARNING:tensorflow:Layers in a Sequential model should only have a single input tensor, but we receive a <class 'tuple'> input: (<tf.Tensor 'ExpandDims:0' shape=(None, 1) dtype=string>, <tf.Tensor 'ExpandDims_1:0' shape=(None, 1) dtype=string>)\n",
            "Consider rewriting this model with the Functional API.\n",
            "6318/6318 [==============================] - 94s 14ms/step - loss: 0.5653 - accuracy: 0.6996\n",
            "Epoch 2/10\n",
            "6318/6318 [==============================] - 87s 14ms/step - loss: 0.5498 - accuracy: 0.7121\n",
            "Epoch 3/10\n",
            "6318/6318 [==============================] - 87s 14ms/step - loss: 0.5441 - accuracy: 0.7153\n",
            "Epoch 4/10\n",
            "6318/6318 [==============================] - 86s 14ms/step - loss: 0.5400 - accuracy: 0.7175\n",
            "Epoch 5/10\n",
            "6318/6318 [==============================] - 86s 14ms/step - loss: 0.5362 - accuracy: 0.7201\n",
            "Epoch 6/10\n",
            "6318/6318 [==============================] - 86s 14ms/step - loss: 0.5328 - accuracy: 0.7222\n",
            "Epoch 7/10\n",
            "6318/6318 [==============================] - 86s 14ms/step - loss: 0.5296 - accuracy: 0.7240\n",
            "Epoch 8/10\n",
            "6318/6318 [==============================] - 86s 14ms/step - loss: 0.5267 - accuracy: 0.7258\n",
            "Epoch 9/10\n",
            "6318/6318 [==============================] - 85s 14ms/step - loss: 0.5240 - accuracy: 0.7276\n",
            "Epoch 10/10\n",
            "6318/6318 [==============================] - 85s 14ms/step - loss: 0.5217 - accuracy: 0.7296\n"
          ],
          "name": "stdout"
        }
      ]
    },
    {
      "cell_type": "code",
      "metadata": {
        "colab": {
          "base_uri": "https://localhost:8080/",
          "height": 279
        },
        "id": "0uZ4E4zzpzIf",
        "outputId": "8cf77910-b7b1-4629-bd01-d8eef81ebbb9"
      },
      "source": [
        "import matplotlib.pyplot as plt\n",
        "\n",
        "\n",
        "def plot_graphs(history, metric):\n",
        "  plt.plot(history.history[metric])\n",
        "#   plt.plot(history.history['val_'+metric], '')\n",
        "  plt.xlabel(\"Epochs\")\n",
        "  plt.ylabel(metric)\n",
        "  plt.legend([metric, 'val_'+metric])\n",
        "\n",
        "plot_graphs(history,'accuracy')"
      ],
      "execution_count": null,
      "outputs": [
        {
          "output_type": "display_data",
          "data": {
            "image/png": "[encoded data removed]",
            "text/plain": [
              "<Figure size 432x288 with 1 Axes>"
            ]
          },
          "metadata": {
            "tags": [],
            "needs_background": "light"
          }
        }
      ]
    },
    {
      "cell_type": "code",
      "metadata": {
        "colab": {
          "base_uri": "https://localhost:8080/"
        },
        "id": "vT8kKxFY1Dut",
        "outputId": "460704c1-6e30-4114-b28c-850ab9df4a9c"
      },
      "source": [
        "model.evaluate(valid_tf_dataset)"
      ],
      "execution_count": null,
      "outputs": [
        {
          "output_type": "stream",
          "text": [
            "WARNING:tensorflow:Layers in a Sequential model should only have a single input tensor, but we receive a <class 'tuple'> input: (<tf.Tensor 'ExpandDims:0' shape=(None, 1) dtype=string>, <tf.Tensor 'ExpandDims_1:0' shape=(None, 1) dtype=string>)\n",
            "Consider rewriting this model with the Functional API.\n",
            "1264/1264 [==============================] - 12s 6ms/step - loss: 0.5124 - accuracy: 0.7364\n"
          ],
          "name": "stdout"
        },
        {
          "output_type": "execute_result",
          "data": {
            "text/plain": [
              "[0.5124017596244812, 0.7364411950111389]"
            ]
          },
          "metadata": {
            "tags": []
          },
          "execution_count": 41
        }
      ]
    },
    {
      "cell_type": "code",
      "metadata": {
        "colab": {
          "base_uri": "https://localhost:8080/"
        },
        "id": "3VR2xzLZ1KzX",
        "outputId": "7324c74d-bdba-4a62-ab16-0c9a65fa9465"
      },
      "source": [
        "for (text1,text2),label in valid_tf_dataset.take(1):\n",
        "    print(len(text1), label.shape)\n",
        "    print(text1[0], text2[0], label[0])"
      ],
      "execution_count": null,
      "outputs": [
        {
          "output_type": "stream",
          "text": [
            "64 (64,)\n",
            "tf.Tensor(b'how has stephen hawking survived with als for so long', shape=(), dtype=string) tf.Tensor(b'how does stephen hawking laugh', shape=(), dtype=string) tf.Tensor(0, shape=(), dtype=int32)\n"
          ],
          "name": "stdout"
        }
      ]
    },
    {
      "cell_type": "code",
      "metadata": {
        "colab": {
          "base_uri": "https://localhost:8080/"
        },
        "id": "UMXdt8tY1u9-",
        "outputId": "d4e68738-8b9f-4329-fca7-a83a3afe621f"
      },
      "source": [
        "np.argmax(model.predict((text1,text2)), axis=-1), label\n",
        "m1 = model.predict_classes((text1,text2)).reshape(1,-1)[0]; m2 = label"
      ],
      "execution_count": null,
      "outputs": [
        {
          "output_type": "stream",
          "text": [
            "/usr/local/lib/python3.7/dist-packages/tensorflow/python/keras/engine/sequential.py:455: UserWarning: `model.predict_classes()` is deprecated and will be removed after 2021-01-01. Please use instead:* `np.argmax(model.predict(x), axis=-1)`,   if your model does multi-class classification   (e.g. if it uses a `softmax` last-layer activation).* `(model.predict(x) > 0.5).astype(\"int32\")`,   if your model does binary classification   (e.g. if it uses a `sigmoid` last-layer activation).\n",
            "  warnings.warn('`model.predict_classes()` is deprecated and '\n"
          ],
          "name": "stderr"
        }
      ]
    },
    {
      "cell_type": "code",
      "metadata": {
        "colab": {
          "base_uri": "https://localhost:8080/"
        },
        "id": "WCLgrdq-2fc2",
        "outputId": "4d23884f-913b-4939-a9a6-aab3921955a1"
      },
      "source": [
        "# sns.lineplot(x = np.arange(m1[0].shape[1]), y=m1[0])\n",
        "mean_squared_error(m2.numpy(),m1)\n",
        "# m1.shape,m2.shape\n",
        "\n",
        "m2.numpy(),m1"
      ],
      "execution_count": null,
      "outputs": [
        {
          "output_type": "execute_result",
          "data": {
            "text/plain": [
              "(array([0, 1, 1, 1, 0, 0, 0, 0, 1, 1, 1, 1, 1, 0, 1, 1, 0, 0, 0, 1, 0, 0,\n",
              "        1, 0, 1, 0, 1, 0, 0, 0, 0, 0, 0, 0, 0, 1, 0, 1, 0, 0, 1, 1, 0, 0,\n",
              "        0, 1, 0, 1, 0, 1, 0, 0, 1, 0, 1, 0, 1, 1, 0, 0, 0, 1, 0, 0],\n",
              "       dtype=int32),\n",
              " array([0, 0, 1, 0, 0, 0, 0, 0, 1, 0, 1, 0, 0, 0, 1, 0, 0, 0, 0, 0, 0, 0,\n",
              "        0, 0, 1, 1, 1, 0, 0, 0, 0, 1, 0, 0, 0, 0, 0, 0, 0, 0, 0, 0, 0, 0,\n",
              "        0, 0, 0, 0, 0, 0, 0, 0, 0, 0, 0, 0, 0, 0, 0, 0, 1, 1, 0, 0],\n",
              "       dtype=int32))"
            ]
          },
          "metadata": {
            "tags": []
          },
          "execution_count": 100
        }
      ]
    },
    {
      "cell_type": "code",
      "metadata": {
        "id": "7byf7Ylg4VHB"
      },
      "source": [
        ""
      ],
      "execution_count": null,
      "outputs": []
    }
  ]
}