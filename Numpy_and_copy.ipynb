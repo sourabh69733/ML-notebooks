{
  "nbformat": 4,
  "nbformat_minor": 0,
  "metadata": {
    "colab": {
      "name": "Numpy and copy ",
      "provenance": [],
      "collapsed_sections": []
    },
    "kernelspec": {
      "name": "python3",
      "display_name": "Python 3"
    },
    "language_info": {
      "name": "python"
    }
  },
  "cells": [
    {
      "cell_type": "code",
      "metadata": {
        "id": "1ROHFpV2evA2"
      },
      "source": [
        "import numpy as np\n",
        "\n",
        "import matplotlib.pyplot as plt\n"
      ],
      "execution_count": null,
      "outputs": []
    },
    {
      "cell_type": "markdown",
      "metadata": {
        "id": "0q38Gjwoevgu"
      },
      "source": [
        "# How numpy make copy and how to avoid unnecessary copy?"
      ]
    },
    {
      "cell_type": "code",
      "metadata": {
        "colab": {
          "base_uri": "https://localhost:8080/"
        },
        "id": "stFRCtIdpHV3",
        "outputId": "61ebbc6d-9b7b-4003-e8e9-2eb20a65bff3"
      },
      "source": [
        "\n",
        "'''\n",
        "    It returns whether two arrays share same underlying data buffer in memory,\n",
        "    it is used in checking whether two numpy arrays are making copies while doing different types of operation, like multiyplying or addition , slicing\n",
        "'''\n",
        "import numpy as np\n",
        "def aid(x):\n",
        "    # This function returns the memory\n",
        "    # block address of an array.\n",
        "    return x.__array_interface__['data'][0]\n",
        "\n",
        "arr1 = np.array([1,2,3,4,5]); arr2 = np.array([1, 45, 78, ] )\n",
        "mem1 = aid(arr1)\n",
        "mem2 = aid(arr2)\n",
        "print(f\"Memory block address for {arr1}\\t\",mem1)\n",
        "print(f\"Memory block address for {arr2}\\t\", mem2)\n",
        "a = np.zeros(3)\n",
        "aid(a), aid(a[2:]),aid(a[1])==aid(a[2])\n"
      ],
      "execution_count": null,
      "outputs": [
        {
          "output_type": "stream",
          "text": [
            "Memory block address for [1 2 3 4 5]\t 94687164578560\n",
            "Memory block address for [ 1 45 78]\t 94687179530880\n"
          ],
          "name": "stdout"
        },
        {
          "output_type": "execute_result",
          "data": {
            "text/plain": [
              "(94687179530912, 94687179530928, True)"
            ]
          },
          "metadata": {
            "tags": []
          },
          "execution_count": 43
        }
      ]
    },
    {
      "cell_type": "code",
      "metadata": {
        "colab": {
          "base_uri": "https://localhost:8080/"
        },
        "id": "qkoZRBA1t_n3",
        "outputId": "2701fd47-11da-4ebc-b653-770bb48ad419"
      },
      "source": [
        "'''\n",
        "    More general way of finding whether two arrays have same data or not\n",
        "'''\n",
        "def get_data_base(array):\n",
        "    base = array\n",
        "    while isinstance(base.base, np.ndarray):\n",
        "        base = base.base\n",
        "    return base\n",
        "\n",
        "def array_share_data(x,y):\n",
        "    return get_data_base(x) is get_data_base(y)\n",
        "\n",
        "arr1 = np.zeros(3); arr2 = np.ones(3); arr3 = np.array([4,5,6]); arr4 = np.array([-4,-5,-6])\n",
        "get_data_base(arr1)\n",
        "print(f\"arr1\\t{arr1}\\narr2\\t{arr2}\\narr3\\t{arr3}\\narr4\\t{arr4}\")\n",
        "\n",
        "print(\"Are two arrays share same data or not?\\n\")\n",
        "print(f\"arr1,arr3\\t{array_share_data(arr1, arr3)}\\narr2, arr4\\t{array_share_data(arr2,arr4)}\\n\")\n",
        "\n",
        "print(\"arr1,arr1.copy()\\t{}\\narr1,arr1[:]\\t{}\\narr1,arr1[1]\\t{}\\narr1,arr1[1:]\\t{}\".format(array_share_data(arr1,arr1.copy()),array_share_data(arr1,arr1[:]),array_share_data(arr1,arr1[1]), array_share_data(arr1,arr1[1:])) )"
      ],
      "execution_count": null,
      "outputs": [
        {
          "output_type": "stream",
          "text": [
            "arr1\t[0. 0. 0.]\n",
            "arr2\t[1. 1. 1.]\n",
            "arr3\t[4 5 6]\n",
            "arr4\t[-4 -5 -6]\n",
            "Are two arrays share same data or not?\n",
            "\n",
            "arr1,arr3\tFalse\n",
            "arr2, arr4\tFalse\n",
            "\n",
            "arr1,arr1.copy()\tFalse\n",
            "arr1,arr1[:]\tTrue\n",
            "arr1,arr1[1]\tFalse\n",
            "arr1,arr1[1:]\tTrue\n"
          ],
          "name": "stdout"
        }
      ]
    },
    {
      "cell_type": "code",
      "metadata": {
        "colab": {
          "base_uri": "https://localhost:8080/"
        },
        "id": "jVXxxOGlzZ6x",
        "outputId": "f5e72e3f-ce33-4362-e44d-97074908942f"
      },
      "source": [
        "# Now, if we multiply a array and check whehter they have same memory block location or not\n",
        "\n",
        "arr= arr1*2+2\n",
        "\n",
        "print(f\"Is both have same memory block address or not?\\n{array_share_data(arr, arr1)}\")\n",
        "print(f\"{aid(arr)==aid(arr1)}\")"
      ],
      "execution_count": null,
      "outputs": [
        {
          "output_type": "stream",
          "text": [
            "Is both have same memory block address or not?\n",
            "False\n",
            "False\n"
          ],
          "name": "stdout"
        }
      ]
    },
    {
      "cell_type": "code",
      "metadata": {
        "colab": {
          "base_uri": "https://localhost:8080/"
        },
        "id": "rBExbLIT0KW3",
        "outputId": "f36cd841-17bc-4ab6-956c-fb033f78a419"
      },
      "source": [
        "a = np.zeros(3); ax = aid(a)\n",
        "print(\"a\",a)\n",
        "a *= 2\n",
        "'''\n",
        "    a*=2 and a=a*2 both do not have same address, previously we thought both of them as same operation, but this is not true, as in second operation\n",
        "    it is implicit copy and create new array and in first it is doing operation in-place\n",
        "'''\n",
        "# a = a *2\n",
        "print(aid(a) == ax)\n",
        "# True\n",
        "c = a * 2\n",
        "print(aid(c) == ax)\n",
        "# False\n",
        "print(\"a\",a,\"c\",c)"
      ],
      "execution_count": null,
      "outputs": [
        {
          "output_type": "stream",
          "text": [
            "a [0. 0. 0.]\n",
            "True\n",
            "False\n",
            "a [0. 0. 0.] c [0. 0. 0.]\n"
          ],
          "name": "stdout"
        }
      ]
    },
    {
      "cell_type": "code",
      "metadata": {
        "colab": {
          "base_uri": "https://localhost:8080/"
        },
        "id": "zC3xEcM63inu",
        "outputId": "4075af67-add7-4a7c-c5b5-66208922a539"
      },
      "source": [
        "\n",
        "# 4.85 ms ± 24 µs per loop (mean ± std. dev. of 7 runs,\n",
        "# 100 loops each)\n",
        "%timeit b = a * 2\n",
        "\n",
        "# 7.7 ms ± 105 µs per loop (mean ± std. dev. of 7 runs,\n",
        "# 100 loops each)"
      ],
      "execution_count": null,
      "outputs": [
        {
          "output_type": "stream",
          "text": [
            "The slowest run took 22.38 times longer than the fastest. This could mean that an intermediate result is being cached.\n",
            "1000000 loops, best of 5: 1.18 µs per loop\n"
          ],
          "name": "stdout"
        }
      ]
    },
    {
      "cell_type": "code",
      "metadata": {
        "colab": {
          "base_uri": "https://localhost:8080/"
        },
        "id": "MWfv-3fl41-t",
        "outputId": "6ac67faa-7fbd-4e46-bdc1-c3ca2a7f46de"
      },
      "source": [
        "import time\n",
        "x  = time.time()\n",
        "\n",
        "a = np.zeros(100_00_000)\n",
        "a*=2\n",
        "\n",
        "print(time.time()-x)\n"
      ],
      "execution_count": null,
      "outputs": [
        {
          "output_type": "stream",
          "text": [
            "0.053755998611450195\n"
          ],
          "name": "stdout"
        }
      ]
    },
    {
      "cell_type": "code",
      "metadata": {
        "colab": {
          "base_uri": "https://localhost:8080/"
        },
        "id": "pyXMUEYF5HM1",
        "outputId": "a18c5c8a-b5e0-4d74-9b41-84e4c4d6e24d"
      },
      "source": [
        "x  = time.time()\n",
        "\n",
        "a = np.zeros(100_00_000)\n",
        "b = a*2\n",
        "print(time.time()-x)\n"
      ],
      "execution_count": null,
      "outputs": [
        {
          "output_type": "stream",
          "text": [
            "0.07009458541870117\n"
          ],
          "name": "stdout"
        }
      ]
    },
    {
      "cell_type": "code",
      "metadata": {
        "colab": {
          "base_uri": "https://localhost:8080/"
        },
        "id": "eTSswUt47Sv8",
        "outputId": "300af7e6-6b3c-457b-d0fd-62c0048c8593"
      },
      "source": [
        "# \n",
        "a = np.zeros((100, 100))\n",
        "\n",
        "# different address\n",
        "c = np.zeros((100,100))\n",
        "ax = aid(a)\n",
        "print(aid(a)==aid(c))\n",
        "\n",
        "# reshaping do not make copy, so both have same address\n",
        "b = a.reshape((1, -1))\n",
        "print(aid(b) == ax)\n",
        "\n",
        "# transpose make copy, there is significant time different for this operation, it is 100*100 array   \n",
        "c = a.T.reshape((1, -1))\n",
        "print(aid(c) == ax)\n"
      ],
      "execution_count": null,
      "outputs": [
        {
          "output_type": "stream",
          "text": [
            "False\n",
            "True\n",
            "False\n"
          ],
          "name": "stdout"
        }
      ]
    },
    {
      "cell_type": "code",
      "metadata": {
        "id": "Be5HTKDE9-GW"
      },
      "source": [
        ""
      ],
      "execution_count": null,
      "outputs": []
    },
    {
      "cell_type": "code",
      "metadata": {
        "colab": {
          "base_uri": "https://localhost:8080/"
        },
        "id": "MkUFnGzw9DTh",
        "outputId": "6c25a778-7f2c-4a6e-d544-b41d6dbbb0ec"
      },
      "source": [
        "%timeit e = a.reshape((1, -1))\n",
        "\n",
        "# The slowest run took 46.00 times longer than the fastest. This could mean that an intermediate result is being cached.\n",
        "# 1000000 loops, best of 5: 391 ns per loop\n",
        "\n",
        "%timeit d = a.T.reshape((1, -1))\n",
        "\n",
        "# The slowest run took 123.00 times longer than the fastest. This could mean that an intermediate result is being cached.\n",
        "# 100000 loops, best of 5: 6.81 µs per loop"
      ],
      "execution_count": null,
      "outputs": [
        {
          "output_type": "stream",
          "text": [
            "The slowest run took 28.35 times longer than the fastest. This could mean that an intermediate result is being cached.\n",
            "1000000 loops, best of 5: 415 ns per loop\n",
            "The slowest run took 5.45 times longer than the fastest. This could mean that an intermediate result is being cached.\n",
            "100000 loops, best of 5: 6.7 µs per loop\n"
          ],
          "name": "stdout"
        }
      ]
    },
    {
      "cell_type": "code",
      "metadata": {
        "colab": {
          "base_uri": "https://localhost:8080/"
        },
        "id": "alaBrtlz-6_4",
        "outputId": "fc2a8fc3-2d18-4896-b36d-15f94c918d69"
      },
      "source": [
        "# Numpy operation of converstion of n dimenstional array into 1 dimenstional array, two inbuilt methods --flatten and ravel\n",
        "\n",
        "'''\n",
        "    flatten make copy of array and covert into 1-D array, \n",
        "    ravel not always make copy of array to convert it into 1-D array. Significant performance gain could be achive by this\n",
        "'''\n",
        "\n",
        "d = a.flatten()\n",
        "\n",
        "print(\"flatten method\\n\",aid(a)==aid(d) )\n",
        "\n",
        "e = a.ravel()\n",
        "print(\"ravel method\\n\", aid(a)==aid(e))\n",
        "\n",
        "%timeit a.flatten()\n",
        "print()\n",
        "%timeit a.ravel()\n",
        "\n"
      ],
      "execution_count": null,
      "outputs": [
        {
          "output_type": "stream",
          "text": [
            "flatten method\n",
            " False\n",
            "ravel method\n",
            " True\n",
            "The slowest run took 85.45 times longer than the fastest. This could mean that an intermediate result is being cached.\n",
            "100000 loops, best of 5: 3.37 µs per loop\n",
            "\n",
            "The slowest run took 24.74 times longer than the fastest. This could mean that an intermediate result is being cached.\n",
            "1000000 loops, best of 5: 269 ns per loop\n"
          ],
          "name": "stdout"
        }
      ]
    },
    {
      "cell_type": "code",
      "metadata": {
        "id": "GWk9ruexCbmh"
      },
      "source": [
        ""
      ],
      "execution_count": null,
      "outputs": []
    },
    {
      "cell_type": "code",
      "metadata": {
        "colab": {
          "base_uri": "https://localhost:8080/"
        },
        "id": "Meg-hmZ3CSFI",
        "outputId": "2074cf89-72d3-4f47-a802-71bc53df022c"
      },
      "source": [
        "\n",
        "n = 100\n",
        "a = np.arange(n)\n",
        "ac = a[:, np.newaxis]  # column vector\n",
        "ar = a[np.newaxis, :]  # row vector\n",
        "%timeit np.tile(ac, (1, n)) * np.tile(ar, (n, 1))\n",
        "print()\n",
        "%timeit ar * ac\n"
      ],
      "execution_count": null,
      "outputs": [
        {
          "output_type": "stream",
          "text": [
            "10000 loops, best of 5: 56.9 µs per loop\n",
            "\n",
            "The slowest run took 11.25 times longer than the fastest. This could mean that an intermediate result is being cached.\n",
            "100000 loops, best of 5: 12.8 µs per loop\n"
          ],
          "name": "stdout"
        }
      ]
    },
    {
      "cell_type": "code",
      "metadata": {
        "colab": {
          "base_uri": "https://localhost:8080/"
        },
        "id": "pI-ekwGLAv1q",
        "outputId": "ac8d5f22-b2ee-41c7-e469-9c333d40cb4b"
      },
      "source": [
        "n = 10000\n",
        "\n",
        "a = np.arange(n)\n",
        "ac = a[:, np.newaxis]  # column vector\n",
        "ar = a[np.newaxis, :]  # row vector\n",
        "\n",
        "# it is making copies and reshaping and taking tranpose\n",
        "%timeit np.tile(ac, (1, n)) * np.tile(ar, (n, 1))\n",
        "print()\n",
        "\n",
        "# this is broadcasting method \n",
        "%timeit ar * ac\n"
      ],
      "execution_count": null,
      "outputs": [
        {
          "output_type": "stream",
          "text": [
            "1 loop, best of 5: 655 ms per loop\n",
            "\n",
            "10 loops, best of 5: 85.7 ms per loop\n"
          ],
          "name": "stdout"
        }
      ]
    },
    {
      "cell_type": "code",
      "metadata": {
        "colab": {
          "base_uri": "https://localhost:8080/"
        },
        "id": "t417IZs1C8Pd",
        "outputId": "50d6b631-02da-4f10-f320-31094468f5a1"
      },
      "source": [
        "k = np.arange(10)\n",
        "k = a[:,np.newaxis]\n",
        "\n",
        "n = np.tile(k,(1,10))\n",
        "\n",
        "%timeit a[:,np.newaxis]\n",
        "print()\n",
        "%timeit np.tile(k,(1,10))\n"
      ],
      "execution_count": null,
      "outputs": [
        {
          "output_type": "stream",
          "text": [
            "The slowest run took 20.01 times longer than the fastest. This could mean that an intermediate result is being cached.\n",
            "1000000 loops, best of 5: 338 ns per loop\n",
            "\n",
            "1000 loops, best of 5: 1.05 ms per loop\n"
          ],
          "name": "stdout"
        }
      ]
    },
    {
      "cell_type": "markdown",
      "metadata": {
        "id": "5Z8JAYK0f7aG"
      },
      "source": [
        "###Working with strides to avoid unnecessary array copy and understa"
      ]
    },
    {
      "cell_type": "code",
      "metadata": {
        "id": "_GozCvjVI30C",
        "colab": {
          "base_uri": "https://localhost:8080/",
          "height": 35
        },
        "outputId": "b4239cba-764d-4312-fef8-b63abe6b07bf"
      },
      "source": [
        "'''\n",
        "    Strides are the number of bytes you need to step in each dimension when traversing the array.\n",
        "'''"
      ],
      "execution_count": null,
      "outputs": [
        {
          "output_type": "execute_result",
          "data": {
            "application/vnd.google.colaboratory.intrinsic+json": {
              "type": "string"
            },
            "text/plain": [
              "'\\n    Strides are the number of bytes you need to step in each dimension when traversing the array.\\n'"
            ]
          },
          "metadata": {
            "tags": []
          },
          "execution_count": 14
        }
      ]
    },
    {
      "cell_type": "markdown",
      "metadata": {
        "id": "AVql-HZTO1be"
      },
      "source": [
        "Broadcasting rules in numpy \n",
        "\n",
        "Comparing of dimensions of two arrays either equal or 1, generally ndarray is compatible with either 1D array or nD array, like 3D [[1,2,3], [1,2,3] , [7,8,9]] is compatible with [1,2,3], [[1,2,3], [1,2,3] , [7,8,9]]\n",
        "```\n",
        "Image  (3d array): 256 x 256 x 3\n",
        "Scale  (1d array):             3\n",
        "Result (3d array): 256 x 256 x 3\n",
        "\n",
        "A      (4d array):  8 x 1 x 6 x 1\n",
        "B      (3d array):      7 x 1 x 5\n",
        "Result (4d array):  8 x 7 x 6 x 5\n",
        "```\n",
        "\n",
        "It depends on internal structure of arrays, in above case , when we have differnt demension arrays, still broadcasting possible, we have 8 arrays containing 1 arrays of shape 6 x 1 shape array, and B arrays we have 7 diffrent arrays all have shape of 1 x 5 , which is compatible with 6 x1, so reslting shape will be 6 x 5. genrally "
      ]
    },
    {
      "cell_type": "code",
      "metadata": {
        "id": "ghrkHCArlZzy",
        "colab": {
          "base_uri": "https://localhost:8080/"
        },
        "outputId": "84442981-e530-445f-dfe6-e120a67759ab"
      },
      "source": [
        "array_4d = np.array([[\n",
        "                    [[1,2,3], [1,2,3] , [7,8,9]],\n",
        "                      [[1,2,3], [1,2,3] , [7,8,9]]\n",
        "                      ],[\n",
        "                    [[1,2,3], [1,2,3] , [7,8,9]],\n",
        "                      [[1,2,3], [1,2,3] , [7,8,9]]\n",
        "                      ]])\n",
        "array_4d.shape, array_4d.ndim\n",
        "\n",
        "array_4d_ = np.ones((8,2,6,1))\n",
        "array_4d = np.ones((9, 1,8))\n",
        "\n",
        "# value error due to is mismatch\n",
        "# array_4d *array_4d_\n",
        "\n",
        "\n",
        "# mismatch broadcasting not possible\n",
        "# array_4d_*array_4d\n",
        "(array_4d_ *np.array([1,2,3])).shape"
      ],
      "execution_count": null,
      "outputs": [
        {
          "output_type": "execute_result",
          "data": {
            "text/plain": [
              "(8, 2, 6, 3)"
            ]
          },
          "metadata": {
            "tags": []
          },
          "execution_count": 15
        }
      ]
    },
    {
      "cell_type": "markdown",
      "metadata": {
        "id": "mmNPHKyz2cVu"
      },
      "source": [
        "\n",
        "Strides are the number of bytes you need to step in each dimension when traversing the array, ndarray of shape = (2,3)--np.array( [[1,2,3],[4,5,6]] )\n",
        "\n",
        "![image.png](data:image/png;base64,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)"
      ]
    },
    {
      "cell_type": "code",
      "metadata": {
        "id": "mGSSQVmJFrZM"
      },
      "source": [
        "# It is just image reshape function --usefull in above image case in which we need to download from web and then show here like above.\n",
        "def reshape_image(m,n,path):\n",
        "    import PIL\n",
        "    img = PIL.Image.open(path)\n",
        "    m = img.resize(size=(m,n))\n",
        "    m.save(\"/content/resize.png\")\n",
        "    return True"
      ],
      "execution_count": null,
      "outputs": []
    },
    {
      "cell_type": "code",
      "metadata": {
        "colab": {
          "base_uri": "https://localhost:8080/"
        },
        "id": "tiaz-NUIyVC2",
        "outputId": "d48b950f-af93-4bde-a82c-92dd2b540677"
      },
      "source": [
        "import numpy as np\n",
        "\n",
        "arr = np.array([[[1,2,3],[4,5,6],[4,5,6]]],dtype=np.int16)\n",
        "arr.strides, arr.shape, arr.size,arr.dtype"
      ],
      "execution_count": null,
      "outputs": [
        {
          "output_type": "execute_result",
          "data": {
            "text/plain": [
              "((18, 6, 2), (1, 3, 3), 9, dtype('int16'))"
            ]
          },
          "metadata": {
            "tags": []
          },
          "execution_count": 17
        }
      ]
    },
    {
      "cell_type": "code",
      "metadata": {
        "id": "Hou8Rm2f5O6X",
        "colab": {
          "base_uri": "https://localhost:8080/"
        },
        "outputId": "adcb49a5-bc08-48d1-e4fb-651b5a621818"
      },
      "source": [
        "\n",
        "import numpy as np\n",
        "from timeit import timeit\n",
        "from numpy.lib.stride_tricks import as_strided\n",
        " \n",
        " \n",
        "# Generate array of (fake) closing prices\n",
        "prices = np.random.randn(100)\n",
        " \n",
        "# We want closing prices from the ten days prior\n",
        "window = 10\n",
        "# Create array of closing prices to predict\n",
        "y = prices[window:]\n",
        " \n",
        "def make_X1():\n",
        "    # Create array of zeros the same size as our final desired array\n",
        "    X1 = np.zeros([len(prices) - window, window])\n",
        "    # For each day in the appropriate range\n",
        "    for day in range(len(X1)):\n",
        "        # take prices for ten days from that day onwards\n",
        "        X1[day,:] = prices[day:day+window]\n",
        "    return X1\n",
        " \n",
        "def make_X2():\n",
        "    # Save stride (num bytes) between each item\n",
        "    stride, = prices.strides\n",
        "    desired_shape = [len(prices) - window, window]\n",
        "    # Get a view of the prices with shape desired_shape, strides as defined, don't write to original array \n",
        "    X2 = as_strided(prices, desired_shape, strides=[stride, stride], writeable=False)\n",
        "    return X2 \n",
        " \n",
        "timeit(make_X1) # 56.7 seconds \n",
        "timeit(make_X2) # 7.7 seconds, over 7x faster!\n"
      ],
      "execution_count": null,
      "outputs": [
        {
          "output_type": "execute_result",
          "data": {
            "text/plain": [
              "7.903309489999998"
            ]
          },
          "metadata": {
            "tags": []
          },
          "execution_count": 18
        }
      ]
    },
    {
      "cell_type": "code",
      "metadata": {
        "id": "FSZ5vZ2e7n6K"
      },
      "source": [
        ""
      ],
      "execution_count": null,
      "outputs": []
    },
    {
      "cell_type": "markdown",
      "metadata": {
        "id": "ZEwNspq14jub"
      },
      "source": [
        "#Advanced Numpy from scipy lecture\n",
        "### This is about how do you handle memory of array and numpy internal structure."
      ]
    },
    {
      "cell_type": "code",
      "metadata": {
        "colab": {
          "base_uri": "https://localhost:8080/"
        },
        "id": "q4BXELVV4jIQ",
        "outputId": "5c5ec026-de2a-41de-fec1-3cf86e7e5591"
      },
      "source": [
        "# if we do not specify dtype (which is about how much memory in bytes allocated to each element of array and data type),\n",
        "# numpy will handle dtype better and more efficient than us sometimes.\n",
        "# it is deafult to int64 if all are integer type\n",
        "\n",
        "mem_address = []\n",
        "arr = np.array([7,8,9], dtype=np.int32)\n",
        "\n",
        "print(\"Bytes data of arr\", arr.data)\n",
        "print(bytes(arr.data))\n",
        "arr_pointing= arr.copy()\n",
        "arr_pointing.strides = [3]\n",
        "arr.strides = [3]\n",
        "print(\"Array interface\\n\",arr.__array_interface__,\"\\n\")\n",
        "print(arr_pointing.__array_interface__)\n",
        "\n",
        "'''\n",
        "for arr, arr_pointing\n",
        "\n",
        "this is not stable memory address, if you run it again, then this is could be interchanged.\n",
        "only three diffrent memory address are found, you can loop as many as as want, \n",
        "'''\n",
        "for i in range(1):\n",
        "    mem_address.append([arr.__array_interface__['data'][0], arr_pointing.__array_interface__['data'][0]])\n",
        "mem_address"
      ],
      "execution_count": null,
      "outputs": [
        {
          "output_type": "stream",
          "text": [
            "Bytes data of arr <memory at 0x7f3de4310870>\n",
            "b'\\x07\\x00\\x00\\x00\\x08\\x00\\x00\\x00\\t\\x00\\x00\\x00'\n",
            "Array interface\n",
            " {'data': (93922064216080, False), 'strides': (3,), 'descr': [('', '<i4')], 'typestr': '<i4', 'shape': (3,), 'version': 3} \n",
            "\n",
            "{'data': (93922064216112, False), 'strides': (3,), 'descr': [('', '<i4')], 'typestr': '<i4', 'shape': (3,), 'version': 3}\n"
          ],
          "name": "stdout"
        },
        {
          "output_type": "execute_result",
          "data": {
            "text/plain": [
              "[[93922064216080, 93922064216112]]"
            ]
          },
          "metadata": {
            "tags": []
          },
          "execution_count": 19
        }
      ]
    },
    {
      "cell_type": "code",
      "metadata": {
        "colab": {
          "base_uri": "https://localhost:8080/"
        },
        "id": "P22RtU66EXup",
        "outputId": "2e221da5-4eb1-4fb2-f0df-2a363e0d032a"
      },
      "source": [
        "# deleting funtion after using it, --found good practice of removing functions after their use or they are usefull only for once from numpy source code.\n",
        "\n",
        "def sanity_check(arr):\n",
        "    if type(arr)!=np.ndarray:\n",
        "        return \"This is only for numpy ndarray\"\n",
        "    if abs(arr.dot(arr)-2.0)>0:\n",
        "        return arr.dot(arr)\n",
        "\n",
        "sanity_check(np.array([1,2,3,4]))\n",
        "del sanity_check\n",
        "try:\n",
        "    sanity_check\n",
        "except NameError:\n",
        "    print(\"deleted\")\n"
      ],
      "execution_count": null,
      "outputs": [
        {
          "output_type": "stream",
          "text": [
            "deleted\n"
          ],
          "name": "stdout"
        }
      ]
    },
    {
      "cell_type": "code",
      "metadata": {
        "id": "BGZ1rIJ1GImQ",
        "colab": {
          "base_uri": "https://localhost:8080/"
        },
        "outputId": "a82e1985-16e3-431d-c6c9-6b642d18c7c9"
      },
      "source": [
        "# dtype  type\n",
        "print(np.dtype('int').type)\n",
        "\n",
        "# byteorder\n",
        "print(np.dtype('int').byteorder)\n",
        "\n",
        "# itemsize --size of each element in array in bytes --deafult size is assigned by numpy which is highly efficient both for int and float types, 8 bytes\n",
        "np.dtype('float').itemsize"
      ],
      "execution_count": null,
      "outputs": [
        {
          "output_type": "stream",
          "text": [
            "<class 'numpy.int64'>\n",
            "=\n"
          ],
          "name": "stdout"
        },
        {
          "output_type": "execute_result",
          "data": {
            "text/plain": [
              "8"
            ]
          },
          "metadata": {
            "tags": []
          },
          "execution_count": 35
        }
      ]
    },
    {
      "cell_type": "markdown",
      "metadata": {
        "id": "eYnfVTG7wprF"
      },
      "source": [
        "**All numpy arrays are stored in memory block, either you are doing copy or alter array, all are happened in block of memory**\n",
        "\n",
        "**Casting in arithmetic, in nutshell:**\n",
        "\n",
        "* only type (not value!) of operands matters\n",
        "* largest “safe” type able to represent both is picked\n",
        "* scalars can “lose” to arrays in some situations\n",
        "**Casting in general copies data:*"
      ]
    },
    {
      "cell_type": "markdown",
      "metadata": {
        "id": "RLEilcjUbK77"
      },
      "source": [
        "It is notation for strides and shape in general form.\n",
        "\n",
        "\n",
        "Here C or F are C-order (default) or Fortan Order "
      ]
    },
    {
      "cell_type": "markdown",
      "metadata": {
        "id": "n7EjJ4cjbBKO"
      },
      "source": [
        "![numpy strides.png](data:image/png;base64,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)"
      ]
    },
    {
      "cell_type": "code",
      "metadata": {
        "colab": {
          "base_uri": "https://localhost:8080/"
        },
        "id": "muHGL35BsaRT",
        "outputId": "93ffe40b-0e50-4331-c71b-3230445f9d63"
      },
      "source": [
        "arr = np.array([[[1,2,3,4 ],[1,2,3,4], [1,2,3,4 ],[1,2,3,4]]])\n",
        "arr.dtype\n",
        "\n",
        "# it creates copy of given array\n",
        "y = arr.astype(arr.dtype)\n",
        "\n",
        "assert aid(y)==aid(arr)\n",
        "\n",
        "#\n",
        "# print(y)\n",
        "x = y[:]+4\n",
        "print(array_share_data(x, y))\n",
        "y[:] = y[:]+4; x = y[:,:,:] \n",
        "array_share_data(x, y)\n",
        "# aid(y)==aid(x)\n",
        "array_share_data(arr, arr[:,:,:]); print(arr.shape)\n",
        "\n",
        "# slice operation do not copy array data, it is opposite in python for list data\n",
        "\n",
        "arr1 = np.array([3,2,8], dtype=np.int8)\n",
        "arr2 = arr1.copy()\n",
        "print(array_share_data(arr1, arr1[:]))\n",
        "\n",
        "print(\"Bytes stored for numpy array in memory\", bytes(arr1))"
      ],
      "execution_count": null,
      "outputs": [
        {
          "output_type": "stream",
          "text": [
            "False\n",
            "(1, 4, 4)\n",
            "True\n",
            "Bytes stored for numpy array in memory b'\\x03\\x02\\x08'\n"
          ],
          "name": "stdout"
        }
      ]
    },
    {
      "cell_type": "code",
      "metadata": {
        "colab": {
          "base_uri": "https://localhost:8080/"
        },
        "id": "JI-2l_yT05Dl",
        "outputId": "564e038c-d776-46ab-f673-3a9d0c4dbb7d"
      },
      "source": [
        "arr1 = np.array([3,2,8], dtype=np.int0)\n",
        "arr2 = arr1.copy()\n",
        "print(array_share_data(arr1, arr1[:]))\n",
        "\n",
        "arr2.dtype= 'uint8'\n",
        "\n",
        "arr2.dtype=\"<i2\"\n",
        "print(\"Bytes stored of numpy array data in read only memory\", bytes(arr2))\n",
        "arr1.astype(np.int0).itemsize"
      ],
      "execution_count": null,
      "outputs": [
        {
          "output_type": "stream",
          "text": [
            "True\n",
            "Bytes stored of numpy array data in read only memory b'\\x03\\x00\\x00\\x00\\x00\\x00\\x00\\x00\\x02\\x00\\x00\\x00\\x00\\x00\\x00\\x00\\x08\\x00\\x00\\x00\\x00\\x00\\x00\\x00'\n"
          ],
          "name": "stdout"
        },
        {
          "output_type": "execute_result",
          "data": {
            "text/plain": [
              "8"
            ]
          },
          "metadata": {
            "tags": []
          },
          "execution_count": 124
        }
      ]
    },
    {
      "cell_type": "code",
      "metadata": {
        "colab": {
          "base_uri": "https://localhost:8080/"
        },
        "id": "WH3dgmmI7ahb",
        "outputId": "585de1de-279d-4211-c58d-594deb5436f9"
      },
      "source": [
        "x = np.zeros((10, 10, 4), dtype=np.int16)\n",
        "x[:, :, 0] = 1\n",
        "x[:, :, 1] = 2\n",
        "x[:, :, 2] = 3\n",
        "x[:, :, 3] = 4\n",
        "\n",
        "# structured array\n",
        "y = np.dtype([('r',\"int16\"),('g',\"int16\"),('b',\"int16\"),('a',\"int16\")])\n",
        "x.dtype = y\n",
        "\n",
        "assert (x['r'] == 1).all()  \n",
        "assert (x['g'] == 2).all()  \n",
        "assert (x['b'] == 3).all()  \n",
        "assert (x['a'] == 4).all()  \n",
        "print(\"it is passed\")\n",
        "\n",
        "\n",
        "# structured with view method,\n",
        "x = np.zeros((10, 10, 4), dtype=np.int16)\n",
        "x[:, :, 0] = 1\n",
        "x[:, :, 1] = 2\n",
        "x[:, :, 2] = 3\n",
        "x[:, :, 3] = 4\n",
        "\n",
        "y = x.view([('r', 'i1'),\n",
        "            ('g', 'i1'),\n",
        "            ('b', 'i1'),\n",
        "            ('a', 'i1')]\n",
        "             )[:, :, 0]\n",
        "# assert (y['r'] == 1).all()  \n",
        "# assert (y['g'] == 2).all()  \n",
        "# assert (y['b'] == 3).all()  \n",
        "# assert (y['a'] == 4).all()  \n",
        "# print(\"it is passed\")\n",
        "y.dtype"
      ],
      "execution_count": null,
      "outputs": [
        {
          "output_type": "stream",
          "text": [
            "it is passed\n"
          ],
          "name": "stdout"
        },
        {
          "output_type": "execute_result",
          "data": {
            "text/plain": [
              "dtype([('r', 'i1'), ('g', 'i1'), ('b', 'i1'), ('a', 'i1')])"
            ]
          },
          "metadata": {
            "tags": []
          },
          "execution_count": 2
        }
      ]
    },
    {
      "cell_type": "code",
      "metadata": {
        "id": "eo9ZzbpF_tmR",
        "colab": {
          "base_uri": "https://localhost:8080/"
        },
        "outputId": "93bd85cf-f6ea-44c3-88ce-384330831607"
      },
      "source": [
        "from numpy.lib.stride_tricks import as_strided\n",
        "\n",
        "\n",
        "arr = np.array([[1,2,2], [7,3,9]])\n",
        "print(arr.strides)\n",
        "\n",
        "arr_view = arr.view()\n",
        "print(arr_view, \"\\n\", \"Is this copy of arr\", arr.base is arr_view.base )\n",
        "arr_view.strides\n"
      ],
      "execution_count": null,
      "outputs": [
        {
          "output_type": "stream",
          "text": [
            "(24, 8)\n",
            "[[1 2 2]\n",
            " [7 3 9]] \n",
            " Is this copy of arr False\n"
          ],
          "name": "stdout"
        },
        {
          "output_type": "execute_result",
          "data": {
            "text/plain": [
              "array([1, 2, 2])"
            ]
          },
          "metadata": {
            "tags": []
          },
          "execution_count": 10
        }
      ]
    },
    {
      "cell_type": "code",
      "metadata": {
        "colab": {
          "base_uri": "https://localhost:8080/"
        },
        "id": "CJyT2fyxie2x",
        "outputId": "3cb1684f-ebd6-4d63-ef09-8f1d694c78c2"
      },
      "source": [
        "x = np.array([[1, 2, 3],\n",
        "               [4, 5, 6],\n",
        "               [7, 8, 9]], dtype=np.int32)\n",
        "\n",
        "x_diag = as_strided(x, shape=(3,), strides=(7,)) \n",
        "x_diag"
      ],
      "execution_count": null,
      "outputs": [
        {
          "output_type": "execute_result",
          "data": {
            "text/plain": [
              "array([     1,    768, 327680], dtype=int32)"
            ]
          },
          "metadata": {
            "tags": []
          },
          "execution_count": 106
        }
      ]
    },
    {
      "cell_type": "markdown",
      "metadata": {
        "id": "6mNKyw-uRiw9"
      },
      "source": [
        "add_newdoc('numpy.core.multiarray', 'ndarray', ('strides',\n",
        "    \"\"\"\n",
        "    Tuple of bytes to step in each dimension when traversing an array.\n",
        "    The byte offset of element ``(i[0], i[1], ..., i[n])`` in an array `a`\n",
        "    is::\n",
        "        offset = sum(np.array(i) * a.strides)\n",
        "    A more detailed explanation of strides can be found in the\n",
        "    \"ndarray.rst\" file in the NumPy reference guide.\n",
        "    Notes\n",
        "    -----\n",
        "    Imagine an array of 32-bit integers (each 4 bytes)::\n",
        "      x = np.array([[0, 1, 2, 3, 4],\n",
        "                    [5, 6, 7, 8, 9]], dtype=np.int32)\n",
        "    This array is stored in memory as 40 bytes, one after the other\n",
        "    (known as a contiguous block of memory).  The strides of an array tell\n",
        "    us how many bytes we have to skip in memory to move to the next position\n",
        "    along a certain axis.  For example, we have to skip 4 bytes (1 value) to\n",
        "    move to the next column, but 20 bytes (5 values) to get to the same\n",
        "    position in the next row.  As such, the strides for the array `x` will be\n",
        "    ``(20, 4)``.\n",
        "    See Also\n",
        "    --------\n",
        "    numpy.lib.stride_tricks.as_strided\n",
        "    Examples\n",
        "    --------\n",
        "    >>> y = np.reshape(np.arange(2*3*4), (2,3,4))\n",
        "    >>> y\n",
        "    array([[[ 0,  1,  2,  3],\n",
        "            [ 4,  5,  6,  7],\n",
        "            [ 8,  9, 10, 11]],\n",
        "           [[12, 13, 14, 15],\n",
        "            [16, 17, 18, 19],\n",
        "            [20, 21, 22, 23]]])\n",
        "    >>> y.strides\n",
        "    (48, 16, 4)\n",
        "    >>> y[1,1,1]\n",
        "    17\n",
        "    >>> offset=sum(y.strides * np.array((1,1,1)))\n",
        "    >>> offset/y.itemsize\n",
        "    17\n",
        "    >>> x = np.reshape(np.arange(5*6*7*8), (5,6,7,8)).transpose(2,3,1,0)\n",
        "    >>> x.strides\n",
        "    (32, 4, 224, 1344)\n",
        "    >>> i = np.array([3,5,2,2])\n",
        "    >>> offset = sum(i * x.strides)\n",
        "    >>> x[3,5,2,2]\n",
        "    813\n",
        "    >>> offset / x.itemsize\n",
        "    813\n",
        "    \"\"\"))"
      ]
    },
    {
      "cell_type": "code",
      "metadata": {
        "id": "GvqmjJUbRiBp"
      },
      "source": [
        ""
      ],
      "execution_count": null,
      "outputs": []
    },
    {
      "cell_type": "markdown",
      "metadata": {
        "id": "Sr9QKg3ufr8E"
      },
      "source": [
        "#Footer\n"
      ]
    },
    {
      "cell_type": "markdown",
      "metadata": {
        "id": "cuOvjBU1zOfb"
      },
      "source": [
        "<h5>References:</h5>\n",
        "\n",
        "\n",
        "[From python to numpy](https://www.labri.fr/perso/nrougier/from-python-to-numpy)\n",
        "\n",
        "[Broadcasting](https://numpy.org/doc/stable/user/basics.broadcasting.html)\n",
        "\n",
        "[Advanced numpy](http://scipy-lectures.org/advanced/advanced_numpy/#contributing-to-numpy-scipy)\n",
        "\n",
        "\n",
        "[Ipython cook book also available on github](https://ipython-books.github.io/45-understanding-the-internals-of-numpy-to-avoid-unnecessary-array-copying/)"
      ]
    }
  ]
}