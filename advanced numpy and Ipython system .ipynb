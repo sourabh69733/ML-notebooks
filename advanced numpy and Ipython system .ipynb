{
 "cells": [
  {
   "cell_type": "code",
   "execution_count": 1,
   "metadata": {},
   "outputs": [],
   "source": [
    "import pandas as pd\n",
    "import numpy as np\n"
   ]
  },
  {
   "cell_type": "code",
   "execution_count": 45,
   "metadata": {},
   "outputs": [
    {
     "data": {
      "text/plain": [
       "array([[[0, 4],\n",
       "        [1, 5]],\n",
       "\n",
       "       [[2, 6],\n",
       "        [3, 7]]])"
      ]
     },
     "execution_count": 45,
     "metadata": {},
     "output_type": "execute_result"
    }
   ],
   "source": [
    "# np.int64.mro()\n",
    "# np.issubdtype(1, np.number)\n",
    "arr = np.arange(8)\n",
    "fa= arr.reshape((4,2),order='F')\n",
    "\n",
    "ca = arr.reshape((4,2),order='C')\n",
    "fa.reshape((2,2,2))\n"
   ]
  },
  {
   "cell_type": "code",
   "execution_count": 3,
   "metadata": {},
   "outputs": [
    {
     "data": {
      "text/plain": [
       "array([[0, 1],\n",
       "       [2, 3],\n",
       "       [4, 5]])"
      ]
     },
     "execution_count": 3,
     "metadata": {},
     "output_type": "execute_result"
    }
   ],
   "source": [
    "arr.ravel(order=\"C\")   # not return copy of it \n",
    "arr.flatten(order=\"F\")   # return copy of it\n",
    "\n",
    "arr1 = np.arange(6).reshape((3,2))\n",
    "arr2 = np.arange(6,0,-1).reshape((3,2))\n",
    "c = np.concatenate([arr1,arr2],axis=1)\n",
    "arr1"
   ]
  },
  {
   "cell_type": "code",
   "execution_count": 4,
   "metadata": {},
   "outputs": [
    {
     "data": {
      "text/plain": [
       "array([[0, 0, 1],\n",
       "       [2, 2, 3],\n",
       "       [4, 4, 5]])"
      ]
     },
     "execution_count": 4,
     "metadata": {},
     "output_type": "execute_result"
    }
   ],
   "source": [
    "np.split(c,[1,5])\n",
    "arr1.repeat(2,axis=0)\n",
    "arr1.repeat([2,1],axis=1)\n"
   ]
  },
  {
   "cell_type": "code",
   "execution_count": 5,
   "metadata": {},
   "outputs": [
    {
     "data": {
      "text/plain": [
       "array([ 0, 45, 45, 46, 40, 50, 60, 70, 80, 90])"
      ]
     },
     "execution_count": 5,
     "metadata": {},
     "output_type": "execute_result"
    }
   ],
   "source": [
    "np.random.seed(1234)\n",
    "arr = np.random.rand(2,2)\n",
    "np.tile(arr,2),arr\n",
    "ar = np.arange(10)*10\n",
    "ar.take([1,2,4,9])\n",
    "ar.put([1,2,3],[45,45,46])\n",
    "ar"
   ]
  },
  {
   "cell_type": "markdown",
   "metadata": {},
   "source": [
    "# THE BROADCASTING RULE\n",
    "Two arrays are compatible for broadcasting if for each trailing dimension (i.e., starting from the end) the axis lengths match or if either of the lengths is 1. Broadcasting is then performed over the missing or length 1 dimensions."
   ]
  },
  {
   "cell_type": "code",
   "execution_count": 6,
   "metadata": {},
   "outputs": [
    {
     "data": {
      "text/plain": [
       "array([ 3.70074342e-17,  3.70074342e-17,  7.40148683e-17, -3.70074342e-17,\n",
       "        5.55111512e-17])"
      ]
     },
     "execution_count": 6,
     "metadata": {},
     "output_type": "execute_result"
    }
   ],
   "source": [
    "arr = np.random.rand(5,3)\n",
    "mu = arr.mean(1)\n",
    "mu = mu.reshape(5,1)\n",
    "\n",
    "(arr-mu).mean(1)\n",
    "\n"
   ]
  },
  {
   "cell_type": "code",
   "execution_count": 7,
   "metadata": {},
   "outputs": [
    {
     "data": {
      "text/plain": [
       "array([-0.12013095,  0.57324425, -0.25441808,  0.6802219 ])"
      ]
     },
     "execution_count": 7,
     "metadata": {},
     "output_type": "execute_result"
    }
   ],
   "source": [
    "arr = np.zeros((4, 4))\n",
    "\n",
    "arr_3d = arr[:,np.newaxis,:]\n",
    "arr_3d.shape\n",
    "ar = np.random.normal(size=(3,4))\n",
    "mu1 = ar.mean(axis=0)\n",
    "mu1"
   ]
  },
  {
   "cell_type": "markdown",
   "metadata": {},
   "source": [
    "# Advanced ufunc usage"
   ]
  },
  {
   "cell_type": "code",
   "execution_count": 23,
   "metadata": {},
   "outputs": [
    {
     "data": {
      "text/plain": [
       "array([[ 4.71435164e-01, -1.19097569e+00,  1.43270697e+00,\n",
       "        -3.12651896e-01],\n",
       "       [-7.20588733e-01,  8.87162940e-01,  8.59588414e-01,\n",
       "        -6.36523504e-01],\n",
       "       [ 1.56963721e-02, -2.24268495e+00,  1.15003572e+00,\n",
       "         9.91946022e-01],\n",
       "       [ 9.53324128e-01, -2.02125482e+00, -3.34077366e-01,\n",
       "         2.11836468e-03],\n",
       "       [ 4.05453412e-01,  2.89091941e-01,  1.32115819e+00,\n",
       "        -1.54690555e+00]])"
      ]
     },
     "execution_count": 23,
     "metadata": {},
     "output_type": "execute_result"
    }
   ],
   "source": [
    "np.random.seed(1234)\n",
    "arr = np.random.randn(5,4)\n",
    "\n",
    "arr[::]"
   ]
  },
  {
   "cell_type": "code",
   "execution_count": 34,
   "metadata": {},
   "outputs": [
    {
     "data": {
      "text/plain": [
       "array([[ True,  True,  True],\n",
       "       [ True, False, False],\n",
       "       [ True,  True,  True],\n",
       "       [False,  True,  True],\n",
       "       [ True,  True,  True]])"
      ]
     },
     "execution_count": 34,
     "metadata": {},
     "output_type": "execute_result"
    }
   ],
   "source": [
    "arr[::2].sort(1)\n",
    "\n",
    "t = arr[:,:-1]<arr[:,1:]\n",
    "np.logical_and.reduce(t,axis=1)\n",
    "t"
   ]
  },
  {
   "cell_type": "code",
   "execution_count": 46,
   "metadata": {},
   "outputs": [
    {
     "data": {
      "text/plain": [
       "(array([False,  True,  True,  True]), array([False,  True,  True,  True]))"
      ]
     },
     "execution_count": 46,
     "metadata": {},
     "output_type": "execute_result"
    }
   ],
   "source": [
    "arr = np.arange(12).reshape((3,4))\n",
    "arr.all(0),np.logical_and.reduce(arr,axis=0)\n"
   ]
  },
  {
   "cell_type": "code",
   "execution_count": 65,
   "metadata": {},
   "outputs": [
    {
     "data": {
      "text/plain": [
       "(array([0, 1, 2, 3, 4, 5, 6, 7, 8, 9]), array([ 0,  6, 39], dtype=int32))"
      ]
     },
     "execution_count": 65,
     "metadata": {},
     "output_type": "execute_result"
    }
   ],
   "source": [
    "ar = np.arange(10)\n",
    "#  sum of till ar[0:1]  ,ar[1:4],   ar[4:]\n",
    "n = np.add.reduceat(ar,[0,1,4])\n",
    "ar,n\n"
   ]
  },
  {
   "cell_type": "code",
   "execution_count": 83,
   "metadata": {},
   "outputs": [
    {
     "name": "stdout",
     "output_type": "stream",
     "text": [
      "3.37 ms ± 414 µs per loop (mean ± std. dev. of 7 runs, 100 loops each)\n",
      "134 ms ± 3.26 ms per loop (mean ± std. dev. of 7 runs, 10 loops each)\n"
     ]
    }
   ],
   "source": [
    "def add_element(x,y):\n",
    "    return x+y\n",
    "\n",
    "add = np.frompyfunc(add_element,2,1)\n",
    "a = add(np.arange(4),np.arange(4))\n",
    "\n",
    "arr = np.random.randn(1000000)\n",
    "\n",
    "# t1 = %timeit np.add(arr,arr)\n",
    "\n",
    "t2 = %timeit add(arr,arr)\n",
    "t2"
   ]
  },
  {
   "cell_type": "code",
   "execution_count": 95,
   "metadata": {},
   "outputs": [
    {
     "data": {
      "text/plain": [
       "array([[1, 1, 1],\n",
       "       [1, 1, 1],\n",
       "       [1, 1, 1],\n",
       "       [1, 1, 1]])"
      ]
     },
     "execution_count": 95,
     "metadata": {},
     "output_type": "execute_result"
    }
   ],
   "source": [
    "dtype = [('x',np.int32),('y',np.float32)]\n",
    "\n",
    "dtype = [('x',np.int32,3),('y',np.float32,2)]\n",
    "a = np.ones(4,dtype=dtype)\n",
    "a['x']"
   ]
  },
  {
   "cell_type": "code",
   "execution_count": 101,
   "metadata": {},
   "outputs": [
    {
     "data": {
      "text/plain": [
       "array([9, 8, 7, 6, 5, 4, 3, 2, 1, 0], dtype=int64)"
      ]
     },
     "execution_count": 101,
     "metadata": {},
     "output_type": "execute_result"
    }
   ],
   "source": [
    "value = np.arange(10,0,-1)\n",
    "value.argsort()"
   ]
  },
  {
   "cell_type": "code",
   "execution_count": 2,
   "metadata": {},
   "outputs": [
    {
     "data": {
      "text/plain": [
       "[('Steve', 'Steve'),\n",
       " ('Bill', 'gates Bill'),\n",
       " ('Barbara', 'narendra modi'),\n",
       " ('Jane', 'pintu'),\n",
       " ('Bob', 'sahu')]"
      ]
     },
     "execution_count": 2,
     "metadata": {},
     "output_type": "execute_result"
    }
   ],
   "source": [
    "first_name = np.array(['Bob', 'Jane', 'Steve', 'Bill', 'Barbara'])\n",
    "last_name = np.array(['sahu', 'pintu', 'Steve', 'gates Bill','narendra modi'])\n",
    "sorter = np.lexsort((first_name,last_name))\n",
    "sorter\n",
    "list(zip(first_name[sorter],last_name[sorter]))"
   ]
  },
  {
   "cell_type": "code",
   "execution_count": 5,
   "metadata": {},
   "outputs": [
    {
     "name": "stdout",
     "output_type": "stream",
     "text": [
      "570 ms ± 21.1 ms per loop (mean ± std. dev. of 7 runs, 1 loop each)\n"
     ]
    }
   ],
   "source": [
    "def mean_distance(x,y):\n",
    "    lx = len(x)\n",
    "    result=0.0\n",
    "    count=0\n",
    "    for i in range(lx):\n",
    "        result+=x[i]-y[i]\n",
    "        count+=1\n",
    "    return result/count\n",
    "a1 = np.arange(1000000)\n",
    "a2 = np.arange(1000000)\n",
    "# mean_distance(a1,a2)\n",
    "%timeit mean_distance(a1,a2)\n"
   ]
  },
  {
   "cell_type": "code",
   "execution_count": 8,
   "metadata": {},
   "outputs": [
    {
     "name": "stdout",
     "output_type": "stream",
     "text": [
      "2.95 ms ± 53.2 µs per loop (mean ± std. dev. of 7 runs, 100 loops each)\n"
     ]
    }
   ],
   "source": [
    "%timeit (a1-a2).mean()"
   ]
  },
  {
   "cell_type": "code",
   "execution_count": 28,
   "metadata": {},
   "outputs": [],
   "source": [
    "# p = np.memmap(\"mymmap\",dtype='float64',mode = 'w+',shape=(1000,1000))\n"
   ]
  },
  {
   "cell_type": "code",
   "execution_count": 42,
   "metadata": {},
   "outputs": [],
   "source": [
    "# section = p[:5]\n",
    "# section= np.random.rand(5,1000)\n",
    "# section\n",
    "# p.flush()\n",
    "# p\n",
    "# del p\n"
   ]
  },
  {
   "cell_type": "code",
   "execution_count": 57,
   "metadata": {},
   "outputs": [
    {
     "data": {
      "text/plain": [
       "  C_CONTIGUOUS : True\n",
       "  F_CONTIGUOUS : False\n",
       "  OWNDATA : True\n",
       "  WRITEABLE : True\n",
       "  ALIGNED : True\n",
       "  WRITEBACKIFCOPY : False\n",
       "  UPDATEIFCOPY : False"
      ]
     },
     "execution_count": 57,
     "metadata": {},
     "output_type": "execute_result"
    }
   ],
   "source": [
    "# p = np.memmap('mymmap', dtype='float64', shape=(10000, 10000))\n",
    "# p\n",
    "a1.flags\n",
    "arr_c = np.ones((1000,1000),order=\"C\")\n",
    "arr_f = np.zeros((1000,1000),order=\"F\")\n",
    "arr_c.flags\n",
    "arr_f.flags\n",
    "arr_f.copy(\"C\").flags\n",
    "ar\n"
   ]
  }
 ],
 "metadata": {
  "kernelspec": {
   "display_name": "Python 3",
   "language": "python",
   "name": "python3"
  },
  "language_info": {
   "codemirror_mode": {
    "name": "ipython",
    "version": 3
   },
   "file_extension": ".py",
   "mimetype": "text/x-python",
   "name": "python",
   "nbconvert_exporter": "python",
   "pygments_lexer": "ipython3",
   "version": "3.9.1"
  }
 },
 "nbformat": 4,
 "nbformat_minor": 4
}
